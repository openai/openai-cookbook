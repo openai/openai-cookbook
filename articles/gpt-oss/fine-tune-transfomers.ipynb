{
  "cells": [
    {
      "cell_type": "markdown",
      "id": "b40b4db2",
      "metadata": {},
      "source": [
        "# Fine-tuning a Multilingual Reasoner with Hugging Face\n",
        "\n",
        "Authored by: [Edward Beeching](https://huggingface.co/edbeeching), [Quentin Gallouédec](https://huggingface.co/qgallouedec), and [Lewis Tunstall](https://huggingface.co/lewtun)\n",
        "\n",
        "Large reasoning models like [OpenAI o3](https://openai.com/index/introducing-o3-and-o4-mini/) generate a chain-of-thought to improve the accuracy and quality of their responses. However, most of these models reason in English, even when a question is asked in another language.\n",
        "\n",
        "In this notebook, we show how OpenAI's open-weight reasoning model [OpenAI gpt-oss-20b](https://huggingface.co/openai/gpt-oss-20b) can be fine-tuned to reason effectively in multiple languages. We'll do this by adding a new _\"reasoning language\"_ option to the model's system prompt, and applying [supervised fine-tuning](https://huggingface.co/learn/llm-course/chapter11/1) with Hugging Face's [TRL library](https://github.com/huggingface/trl) on a multilingual reasoning dataset.\n",
        "\n",
        "We'll cover the following steps:\n",
        "\n",
        "1. **Setup:** Install the required libraries.\n",
        "2. **Prepare the dataset:**  Download and format the dataset for fine-tuning.\n",
        "3. **Prepare the model:** Loading the base model and configure it for fine-tuning [LoRA](https://huggingface.co/learn/llm-course/chapter11/4), a memory efficient technique.\n",
        "4. **Fine-tuning:** Train the model with our multilingual reasoning data.\n",
        "5. **Inference:** Generate reasoning responses in different languages using the fine-tuned model.\n",
        "\n",
        "The end result is a multilingual reasoning model that can generate a chain-of-thought in English, Spanish, French, Italian, or German. You can even _mix languages_—for example, ask a question in Spanish, request reasoning in German, and receive the final response in Spanish:\n",
        "\n",
        "```txt\n",
        "User:\n",
        "    ¿Cuál es el capital de Australia?\n",
        "Assistant reasoning:\n",
        "    Okay, der Benutzer fragt nach der Hauptstadt Australiens. Ich erinnere mich, dass Canberra die Hauptstadt ist. Ich\n",
        "    sollte das bestätigen. Lass mich sehen, ob es irgendwelche potenziellen Verwirrungen gibt. Der Benutzer könnte auch\n",
        "    an der größten Stadt interessiert sein. Die größte Stadt ist Sydney, aber die Hauptstadt ist Canberra. Ich sollte\n",
        "    das klarstellen. Vielleicht auch erwähnen, dass Canberra eine geplante Stadt ist und nicht die größte. Der Benutzer\n",
        "    könnte auch nach der Geografie fragen. Vielleicht erwähne ich, dass Canberra im südwestlichen Teil der Australian\n",
        "    Capital Territory liegt. Ich sollte die Antwort präzise und freundlich halten. Vielleicht auch erwähnen, dass\n",
        "    Canberra oft mit Sydney verwechselt wird. Ich sollte sicherstellen, dass die Antwort klar und korrekt ist.\n",
        "Assistant response:\n",
        "    La capital de Australia es **Canberra**. Aunque es la ciudad más pequeña de las principales capitales del país, fue\n",
        "    elegida en 1908 como la sede del gobierno federal para equilibrar la influencia entre las ciudades de Sydney y\n",
        "    Melbourne. Canberra está ubicada en el Territorio de la Capital Australiana (ACT), en el este de Australia.\n",
        "```\n",
        "\n",
        "We hope this tutorial will enable AI developers working with under-represented languages to improve the interpretability of [`openai/gpt-oss-20b`](https://huggingface.co/openai/gpt-oss-20b) in their native languages.\n",
        "\n",
        "> **Note:** This notebook is designed to be run on a single H100 GPU with 80GB of memory. If you have access to a smaller GPU, you can reduce the batch size and sequence length in the hyperparameters below."
      ]
    },
    {
      "cell_type": "markdown",
      "id": "ba4d0215",
      "metadata": {},
      "source": [
        "## Setup\n",
        "\n",
        "To get started, let’s install all the necessary libraries. First install PyTorch:"
      ]
    },
    {
      "cell_type": "code",
      "execution_count": null,
      "id": "5e95b98a",
      "metadata": {},
      "outputs": [],
      "source": [
        "%pip install torch --index-url https://download.pytorch.org/whl/cu128"
      ]
    },
    {
      "cell_type": "markdown",
      "id": "46c6f749",
      "metadata": {},
      "source": [
        "Next, install the remaining dependencies:"
      ]
    },
    {
      "cell_type": "code",
      "execution_count": null,
      "id": "b9bad857",
      "metadata": {},
      "outputs": [],
      "source": [
        "%pip install \"trl>=0.20.0\" \"peft>=0.17.0\" \"transformers>=4.55.0\" trackio"
      ]
    },
    {
      "cell_type": "markdown",
      "id": "dc7497b7",
      "metadata": {},
      "source": [
        "Finally, log into your Hugging Face account as follows:"
      ]
    },
    {
      "cell_type": "code",
      "execution_count": null,
      "id": "c891517e",
      "metadata": {},
      "outputs": [],
      "source": [
        "from huggingface_hub import notebook_login\n",
        "\n",
        "notebook_login()"
      ]
    },
    {
      "cell_type": "markdown",
      "id": "7b235c41",
      "metadata": {},
      "source": [
        "Now that we've installed the required libraries, let's take a look at the dataset that we will use for fine-tuning."
      ]
    },
    {
      "cell_type": "markdown",
      "id": "d9534203",
      "metadata": {},
      "source": [
        "## Prepare the dataset\n",
        "\n",
        "We will be using [Multilingual-Thinking](https://huggingface.co/datasets/HuggingFaceH4/Multilingual-Thinking), which is a reasoning dataset where the chain-of-thought has been translated into several languages such as French, Spanish, and German. By fine-tuning `openai/gpt-oss-20b` on this dataset, it will learn to generate reasoning steps in these languages, and thus its reasoning process can be interpreted by users who speak those languages."
      ]
    },
    {
      "cell_type": "markdown",
      "id": "078f9b34",
      "metadata": {},
      "source": [
        "<iframe\n",
        "  src=\"https://huggingface.co/datasets/HuggingFaceH4/Multilingual-Thinking/embed/viewer/default/train\"\n",
        "  frameborder=\"0\"\n",
        "  width=\"100%\"\n",
        "  height=\"560px\"\n",
        "></iframe>"
      ]
    },
    {
      "cell_type": "markdown",
      "id": "33f77056",
      "metadata": {},
      "source": [
        "\n",
        "\n",
        "Let's download this dataset from the Hugging Face Hub:"
      ]
    },
    {
      "cell_type": "code",
      "execution_count": null,
      "id": "8307b239",
      "metadata": {},
      "outputs": [],
      "source": [
        "from datasets import load_dataset\n",
        "\n",
        "dataset = load_dataset(\"HuggingFaceH4/Multilingual-Thinking\", split=\"train\")\n",
        "dataset"
      ]
    },
    {
      "cell_type": "markdown",
      "id": "38c50d00",
      "metadata": {},
      "source": [
        "This is a small dataset of 1,000 examples, but this is usually more than sufficient for models like `openai/gpt-oss-20b` which have undergone extensive post-training. Let's take a look at one of the training examples:"
      ]
    },
    {
      "cell_type": "code",
      "execution_count": null,
      "id": "51c44ed6",
      "metadata": {},
      "outputs": [],
      "source": [
        "dataset[0]"
      ]
    },
    {
      "cell_type": "markdown",
      "id": "9ba75fde",
      "metadata": {},
      "source": [
        "The `gpt-oss` models were trained on the Harmony response format for defining conversation structures, generating reasoning output and structuring function calls. The format is designed to mimic the OpenAI Responses API, and the table below summarizes the different message types used in the dataset:"
      ]
    },
    {
      "cell_type": "markdown",
      "id": "d8b01cef",
      "metadata": {},
      "source": [
        "|||\n",
        "| :---- | :--|\n",
        "| `developer` | The developer message is used to provide custom instructions for the model (what we usually call the `system` role). |\n",
        "| `user` | The user message is used to provide the input to the model. |\n",
        "| `assistant` | Output by the model which can either be a tool call or a message output. The output might also be associated with a particular “channel” identifying what the intent of the message is. |\n",
        "| `analysis` | These are messages that are being used by the model for its chain-of-thought |\n",
        "| `final` | Messages tagged in the final channel are messages intended to be shown to the end-user and represent the responses from the model. |\n",
        "| `messages` | The list of messages that combine the content of the above to produce a full conversation. This is the input to the model. |"
      ]
    },
    {
      "cell_type": "markdown",
      "id": "69d496f0",
      "metadata": {},
      "source": [
        "If you're familiar with [OpenAI's messages format](https://platform.openai.com/docs/api-reference/messages/object), you will recognise this as being quite similar, but with an important difference:\n",
        "\n",
        "> The `assistant` turn contains two special fields: a `thinking` one which contains the model's reasoning process, and a `content` one which contains the final response to the user.\n",
        "\n",
        "In order to fine-tune the model, we need to convert these messages into a format that the model can understand. In practice this is done by formatting each message with the model's [_chat template_](https://huggingface.co/docs/transformers/chat_templating) and then tokenizing the resulting text. The TRL library does this automatically, but let's walk through it step by step to understand how it works.\n",
        "\n",
        "To do so, let's first load the tokenizer:"
      ]
    },
    {
      "cell_type": "code",
      "execution_count": null,
      "id": "72d11c36",
      "metadata": {},
      "outputs": [],
      "source": [
        "from transformers import AutoTokenizer\n",
        "\n",
        "tokenizer = AutoTokenizer.from_pretrained(\"openai/gpt-oss-20b\")"
      ]
    },
    {
      "cell_type": "markdown",
      "id": "7ee27751",
      "metadata": {},
      "source": [
        "Then we can use the tokenizer's `apply_chat_template()` method to format the messages:"
      ]
    },
    {
      "cell_type": "code",
      "execution_count": null,
      "id": "86445ef7",
      "metadata": {},
      "outputs": [],
      "source": [
        "messages = dataset[0][\"messages\"]\n",
        "conversation = tokenizer.apply_chat_template(messages, tokenize=False)\n",
        "print(conversation)"
      ]
    },
    {
      "cell_type": "markdown",
      "id": "d74423b1",
      "metadata": {},
      "source": [
        "This chat template is quite sophisticated, so let's take a closer look at it! First, we can see there are special tokens `<|start|>` and `<|end|>` that indicate the start and end of each message. There is also a `<|return|>` token that marks the end of the conversation. These tokens help the model understand the structure of the conversation.\n",
        "\n",
        "We can also see there are _two_ types of system message: \n",
        "\n",
        "* A default `system` one that is used for all messages. In the example above, this refers to the text _\"You are ChatGPT, a large language model trained by OpenAI...\"_\n",
        "* A special `developer` one that contains custom instructions (defined by the `system` role in our `messages` object). This allows us to provide additional context to the model about how it should behave for a given conversation. In the example above, this refers to the text _\"You are an AI chatbot with a lively and energetic personality.\"_\n",
        "\n",
        "Finally, we can see that the assistant response is contained in a series of _channels_:\n",
        "\n",
        "* The `analysis` channel is used for the model's reasoning process, where it can think step by step about the user's question. In the example above, this refers to the French text _\"D'accord, l'utilisateur demande les tendances Twitter...\"_\n",
        "* The `final` channel is used for the model's final response to the user. In the example above, this refers to the text _\"Hey there!  While I can't check Twitter...\"_"
      ]
    },
    {
      "cell_type": "markdown",
      "id": "ddc392a9",
      "metadata": {},
      "source": [
        "Now that we understand how the dataset will be prepared, let's move on to preparing the model for training."
      ]
    },
    {
      "cell_type": "markdown",
      "id": "6f1186ef",
      "metadata": {},
      "source": [
        "## Prepare the model\n",
        "\n",
        "To prepare the model for training, let's first download the weights from the [Hugging Face Hub](https://huggingface.co). We will use the `AutoModelForCausalLM` class from 🤗 Transformers to load the model:"
      ]
    },
    {
      "cell_type": "code",
      "execution_count": null,
      "id": "04dc1f4a",
      "metadata": {},
      "outputs": [],
      "source": [
        "import torch\n",
        "from transformers import AutoModelForCausalLM, Mxfp4Config\n",
        "\n",
        "quantization_config = Mxfp4Config(dequantize=True)\n",
        "model_kwargs = dict(\n",
        "    attn_implementation=\"eager\",\n",
        "    torch_dtype=torch.bfloat16,\n",
        "    quantization_config=quantization_config,\n",
        "    use_cache=False,\n",
        "    device_map=\"auto\",\n",
        ")\n",
        "\n",
        "model = AutoModelForCausalLM.from_pretrained(\"openai/gpt-oss-20b\", **model_kwargs)"
      ]
    },
    {
      "cell_type": "markdown",
      "id": "0f349ee8",
      "metadata": {},
      "source": [
        "This will load the model with the necessary configurations for training. The `attn_implementation` is set to `eager` for better performance, and `use_cache` is set to `False` since we will fine-tune the model with gradient checkpointing.\n",
        "\n",
        "If you're familiar with 🤗 Transformers, you might notice that we are using the `Mxfp4Config` for quantization. This is a specific configuration for the OpenAI models that allows us to use mixed precision training with a special 4-bit floating point format called [MXFP4](https://en.wikipedia.org/wiki/Block_floating_point) that is optimized for AI workloads.\n",
        "\n",
        "Before we train the model, let's generate a sample response to see how the model behaves with the default settings. To do so, we need to tokenize a sample prompt and then use the model to generate a response:"
      ]
    },
    {
      "cell_type": "code",
      "execution_count": null,
      "id": "ff27bb35",
      "metadata": {},
      "outputs": [],
      "source": [
        "messages = [\n",
        "    {\"role\": \"user\", \"content\": \"¿Cuál es el capital de Australia?\"},\n",
        "]\n",
        "\n",
        "input_ids = tokenizer.apply_chat_template(\n",
        "    messages,\n",
        "    add_generation_prompt=True,\n",
        "    return_tensors=\"pt\",\n",
        ").to(model.device)\n",
        "\n",
        "output_ids = model.generate(input_ids, max_new_tokens=512)\n",
        "response = tokenizer.batch_decode(output_ids)[0]\n",
        "print(response)"
      ]
    },
    {
      "cell_type": "markdown",
      "id": "d9bb2ba1",
      "metadata": {},
      "source": [
        "In this example, we can see that the model first reasons about the question in English, and then provides a final response in Spanish. This is the default behavior of the model, but let's see if we can change it with a bit of fine-tuning. \n",
        "\n",
        "To do so, we will use a technique called [LoRA](https://huggingface.co/learn/llm-course/chapter11/4) (Low-Rank Adaptation) to fine-tune the model. This technique allows us to tune a few specific layers of the model, which is particularly useful for large models like `openai/gpt-oss-20b`.\n",
        "\n",
        "First we need to wrap the model as a `PeftModel` and define the LoRA configuration. We will use the `LoraConfig` class from the [PEFT library](https://github.com/huggingface/peft) to do this:"
      ]
    },
    {
      "cell_type": "code",
      "execution_count": null,
      "id": "5a14f256",
      "metadata": {},
      "outputs": [],
      "source": [
        "from peft import LoraConfig, get_peft_model\n",
        "\n",
        "peft_config = LoraConfig(\n",
        "    r=8,\n",
        "    lora_alpha=16,\n",
        "    target_modules=\"all-linear\",\n",
        "    target_parameters=[\n",
        "        \"7.mlp.experts.gate_up_proj\",\n",
        "        \"7.mlp.experts.down_proj\",\n",
        "        \"15.mlp.experts.gate_up_proj\",\n",
        "        \"15.mlp.experts.down_proj\",\n",
        "        \"23.mlp.experts.gate_up_proj\",\n",
        "        \"23.mlp.experts.down_proj\",\n",
        "    ],\n",
        ")\n",
        "peft_model = get_peft_model(model, peft_config)\n",
        "peft_model.print_trainable_parameters()"
      ]
    },
    {
      "cell_type": "markdown",
      "id": "59cb24bb",
      "metadata": {},
      "source": [
        "Here we've used some basic hyperparameters for LoRA, but you can experiment with different values to see how they affect the model's performance. For instance, if you increase `r` you will enable more trainable parameters, which may produce a better model at the expense of requiring more VRAM and time to train.\n",
        "\n",
        "**Note:** The `openai/gpt-oss-20b` model is a [Mixture-of-Experts (MoE)](https://huggingface.co/blog/moe) architecture. In addition to targeting the attention layers (`target_modules=\"all-linear\"`), it’s also important to include the projection layers within the expert modules. PEFT facilitates this via the `target_parameters` argument, which allows you to specify expert-specific layers such as `mlp.experts.down_proj` and `mlp.experts.gate_up_proj`. In this example, we target a subset of these projection layers, but you are encouraged to experiment with different configurations."
      ]
    },
    {
      "cell_type": "markdown",
      "id": "a1328c16",
      "metadata": {},
      "source": [
        "Now that we have the model and dataset ready, we can define the hyperparameters for training."
      ]
    },
    {
      "cell_type": "markdown",
      "id": "40347f0d",
      "metadata": {},
      "source": [
        "## Fine-tuning"
      ]
    },
    {
      "cell_type": "markdown",
      "id": "6a8fb02e",
      "metadata": {},
      "source": [
        "TRL provides a convenient way to define hyperparameters for training using the `SFTConfig` class. We will set the learning rate, batch size, number of epochs, and other parameters as follows:"
      ]
    },
    {
      "cell_type": "code",
      "execution_count": null,
      "id": "ff75e13a",
      "metadata": {},
      "outputs": [],
      "source": [
        "from trl import SFTConfig\n",
        "\n",
        "training_args = SFTConfig(\n",
        "    learning_rate=2e-4,\n",
        "    gradient_checkpointing=True,\n",
        "    num_train_epochs=1,\n",
        "    logging_steps=1,\n",
        "    per_device_train_batch_size=4,\n",
        "    gradient_accumulation_steps=4,\n",
        "    max_length=2048,\n",
        "    warmup_ratio=0.03,\n",
        "    lr_scheduler_type=\"cosine_with_min_lr\",\n",
        "    lr_scheduler_kwargs={\"min_lr_rate\": 0.1},\n",
        "    output_dir=\"gpt-oss-20b-multilingual-reasoner\",\n",
        "    report_to=\"trackio\",\n",
        "    push_to_hub=True,\n",
        ")"
      ]
    },
    {
      "cell_type": "markdown",
      "id": "1337d6cc",
      "metadata": {},
      "source": [
        "Note that the `per_device_train_batch_size` is set to 4, and the `gradient_accumulation_steps` is set to 4. This means that we will effectively have a batch size of 4 x 4 = 16 across 1 GPU. You may need to adjust these values based on your hardware setup. We also use [Trackio](https://huggingface.co/blog/trackio) to log the training progress and metrics, but you can use any other logging library of your choice."
      ]
    },
    {
      "cell_type": "markdown",
      "id": "cde26ee3",
      "metadata": {},
      "source": [
        "We now have all the pieces needed to train the model. We will use the `SFTTrainer` class from TRL to handle the training process. The trainer will take care of formatting the dataset, applying the chat template, and training the model:"
      ]
    },
    {
      "cell_type": "code",
      "execution_count": null,
      "id": "fe048a6b",
      "metadata": {},
      "outputs": [],
      "source": [
        "from trl import SFTTrainer\n",
        "\n",
        "trainer = SFTTrainer(\n",
        "    model=peft_model,\n",
        "    args=training_args,\n",
        "    train_dataset=dataset,\n",
        "    processing_class=tokenizer,\n",
        ")\n",
        "trainer.train()"
      ]
    },
    {
      "cell_type": "markdown",
      "id": "6af29870",
      "metadata": {},
      "source": [
        "On a H100 GPU, this takes about 18 minutes to train, but may take longer depending on your hardware."
      ]
    },
    {
      "cell_type": "markdown",
      "id": "3296e42f",
      "metadata": {},
      "source": [
        "## Save the model and push to the Hugging Face Hub"
      ]
    },
    {
      "cell_type": "markdown",
      "id": "b57ebaa4",
      "metadata": {},
      "source": [
        "Finally, you can push the fine-tuned model to your Hub repository to share with the community:"
      ]
    },
    {
      "cell_type": "code",
      "execution_count": null,
      "id": "5de8ca50",
      "metadata": {},
      "outputs": [],
      "source": [
        "trainer.save_model(training_args.output_dir)\n",
        "trainer.push_to_hub(dataset_name=\"HuggingFaceH4/Multilingual-Thinking\")"
      ]
    },
    {
      "cell_type": "markdown",
      "id": "3caa03d3",
      "metadata": {},
      "source": [
        "**Note**: To avoid out-of-memory (OOM) errors, we recommend restarting the kernel at this point. The trained model is still occupying GPU memory, but it's no longer needed."
      ]
    },
    {
      "cell_type": "markdown",
      "id": "dcf67472",
      "metadata": {},
      "source": [
        "## Inference\n",
        "\n",
        "Once the model is uploaded to Hub, we can use it for inference. To do so we first initialize the original base model and its tokenizer. Next, we need to merge the fine-tuned weights with the base model for fast inference:"
      ]
    },
    {
      "cell_type": "code",
      "execution_count": null,
      "id": "515c4b64",
      "metadata": {},
      "outputs": [],
      "source": [
        "from transformers import AutoModelForCausalLM, AutoTokenizer\n",
        "from peft import PeftModel\n",
        "\n",
        "# Load the tokenizer\n",
        "tokenizer = AutoTokenizer.from_pretrained(\"openai/gpt-oss-20b\")\n",
        "\n",
        "# Load the original model first\n",
        "model_kwargs = dict(attn_implementation=\"eager\", torch_dtype=\"auto\", use_cache=True, device_map=\"auto\")\n",
        "base_model = AutoModelForCausalLM.from_pretrained(\"openai/gpt-oss-20b\", **model_kwargs).cuda()\n",
        "\n",
        "# Merge fine-tuned weights with the base model\n",
        "peft_model_id = \"gpt-oss-20b-multilingual-reasoner\"\n",
        "model = PeftModel.from_pretrained(base_model, peft_model_id)\n",
        "model = model.merge_and_unload()"
      ]
    },
    {
      "cell_type": "markdown",
      "id": "ad0bd360",
      "metadata": {},
      "source": [
        "Now that the model is loaded, the final step is to generate some tokens from it! Here we use the model's `generate` method to produce output based on the input prompt. Let's first define the prompt:"
      ]
    },
    {
      "cell_type": "markdown",
      "id": "082afb43",
      "metadata": {},
      "source": [
        "Now we can tokenize the prompt and generate the output. Finally, we can decode the output tokens to get the final response:"
      ]
    },
    {
      "cell_type": "code",
      "execution_count": null,
      "id": "0e8d1007",
      "metadata": {},
      "outputs": [],
      "source": [
        "REASONING_LANGUAGE = \"German\"\n",
        "SYSTEM_PROMPT = f\"reasoning language: {REASONING_LANGUAGE}\"\n",
        "USER_PROMPT = \"¿Cuál es el capital de Australia?\"  # Spanish for \"What is the capital of Australia?\"\n",
        "\n",
        "messages = [\n",
        "    {\"role\": \"system\", \"content\": SYSTEM_PROMPT},\n",
        "    {\"role\": \"user\", \"content\": USER_PROMPT},\n",
        "]\n",
        "\n",
        "input_ids = tokenizer.apply_chat_template(\n",
        "    messages,\n",
        "    add_generation_prompt=True,\n",
        "    return_tensors=\"pt\",\n",
        ").to(model.device)\n",
        "\n",
        "gen_kwargs = {\"max_new_tokens\": 512, \"do_sample\": True, \"temperature\": 0.6, \"top_p\": None, \"top_k\": None}\n",
        "\n",
        "output_ids = model.generate(input_ids, **gen_kwargs)\n",
        "response = tokenizer.batch_decode(output_ids)[0]\n",
        "print(response)"
      ]
    },
    {
      "cell_type": "markdown",
      "id": "28452ff8",
      "metadata": {},
      "source": [
        "Let's also try with languages that the model has not been explicitly fine-tuned on, such as Chinese and Hindi:"
      ]
    },
    {
      "cell_type": "code",
      "execution_count": null,
      "id": "50ae0810",
      "metadata": {},
      "outputs": [],
      "source": [
        "REASONING_LANGUAGE = \"Chinese\"  # or Hindi, or any other language...\n",
        "SYSTEM_PROMPT = f\"reasoning language: {REASONING_LANGUAGE}\"\n",
        "USER_PROMPT = \"What is the national symbol of Canada?\"\n",
        "\n",
        "messages = [\n",
        "    {\"role\": \"system\", \"content\": SYSTEM_PROMPT},\n",
        "    {\"role\": \"user\", \"content\": USER_PROMPT},\n",
        "]\n",
        "\n",
        "input_ids = tokenizer.apply_chat_template(\n",
        "    messages,\n",
        "    add_generation_prompt=True,\n",
        "    return_tensors=\"pt\",\n",
        ").to(model.device)\n",
        "\n",
        "output_ids = model.generate(input_ids, **gen_kwargs)\n",
        "response = tokenizer.batch_decode(output_ids)[0]\n",
        "print(response)"
      ]
    },
    {
      "cell_type": "markdown",
      "id": "930b7b03",
      "metadata": {},
      "source": [
        "Great, it works - we've now fine-tuned `openai/gpt-oss-20b` to reason in multiple languages!"
      ]
    },
    {
      "cell_type": "markdown",
      "id": "fd3ff811",
      "metadata": {},
      "source": [
        "## Conclusion"
      ]
    },
    {
      "cell_type": "markdown",
      "id": "f404075f",
      "metadata": {},
      "source": [
        "Congratulations! You have successfully fine-tuned a multilingual reasoning model using the TRL library and LoRA. The steps in this notebook can be adapted to fine-tune [`openai/gpt-oss-20b`](https://huggingface.co/openai/gpt-oss-20b) on many other [datasets](https://huggingface.co/datasets) on the Hugging Face Hub - we are excited to see what you'll build!"
      ]
    }
  ],
  "metadata": {
    "kernelspec": {
      "display_name": "openai-tsm",
      "language": "python",
      "name": "python3"
    },
    "language_info": {
      "codemirror_mode": {
        "name": "ipython",
        "version": 3
      },
      "file_extension": ".py",
      "mimetype": "text/x-python",
      "name": "python",
      "nbconvert_exporter": "python",
      "pygments_lexer": "ipython3",
      "version": "3.11.13"
    }
  },
  "nbformat": 4,
  "nbformat_minor": 5
}
