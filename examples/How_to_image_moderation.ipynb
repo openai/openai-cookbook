{
 "cells": [
  {
   "cell_type": "markdown",
   "metadata": {},
   "source": [
    "# How to use image moderation\n",
    "\n",
    "This Python script demonstrates how to use OpenAI's Moderation API to analyze image URLs for compliance with moderation policies. The example includes two key functions: one for checking individual image URLs (`check_image_moderation`) and another for batch processing multiple URLs (`batch_process_image_urls`). The script not only identifies whether an image is approved for upload but also provides detailed feedback on flagged categories, helping users understand why an image may not meet the criteria. Additionally, the batch processing results are displayed in a neatly formatted table for better readability, making this tool practical for reviewing multiple images efficiently. For more information about using the Moderation API for images, visit the [OpenAI Moderation Guide](https://platform.openai.com/docs/guides/moderation?example=images).\n",
    "\n",
    "To try out this example, first install the dependencies `openai`, `pandas`, `tabulate` and then modify the `image_urls` as necessary.\n",
    "\n",
    "This API can be incredibly useful in a variety of real-world scenarios where content moderation is critical. For instance, social media platforms can use it to automatically screen user-uploaded images for harmful or inappropriate content, ensuring compliance with community guidelines. E-commerce platforms could utilize it to prevent the listing of prohibited or counterfeit items. Additionally, educational platforms and online forums can leverage this tool to maintain a safe and respectful environment by filtering out offensive imagery. Organizations handling large volumes of user-generated content, such as news agencies or content-sharing platforms, can use the batch processing feature to efficiently review multiple images at once, saving time while promoting ethical and responsible content dissemination. This solution not only aids in regulatory compliance but also helps foster trust and safety in digital communities.\n",
    "\n"
   ]
  },
  {
   "cell_type": "code",
   "execution_count": 6,
   "metadata": {},
   "outputs": [
    {
     "name": "stdout",
     "output_type": "stream",
     "text": [
      "Processing item 1/2: https://assets.editorial.aetnd.com/uploads/2009/10/world-war-one-gettyimages-90007631.jpg\n",
      "Processing item 2/2: https://whc.unesco.org/uploads/thumbs/site_0252_0008-360-360-20250108121530.jpg\n",
      "\n",
      "Batch Processing Results:\n",
      "|   Item | url                                                                                       | approved   | comments                               |\n",
      "|-------:|:------------------------------------------------------------------------------------------|:-----------|:---------------------------------------|\n",
      "|      1 | https://assets.editorial.aetnd.com/uploads/2009/10/world-war-one-gettyimages-90007631.jpg | False      | Violence                               |\n",
      "|      2 | https://whc.unesco.org/uploads/thumbs/site_0252_0008-360-360-20250108121530.jpg           | True       | The image is good and can be uploaded. |\n"
     ]
    }
   ],
   "source": [
    "from openai import OpenAI\n",
    "import os\n",
    "import pandas as pd\n",
    "\n",
    "# Initialize OpenAI client\n",
    "client = OpenAI()\n",
    "\n",
    "def check_image_moderation(image_url):\n",
    "    \"\"\"\n",
    "    Checks if an image URL passes OpenAI's moderation criteria.\n",
    "\n",
    "    Parameters:\n",
    "        image_url (str): The URL of the image to be checked.\n",
    "\n",
    "    Returns:\n",
    "        dict: A dictionary containing the URL, approval status, and reasons if not approved.\n",
    "    \"\"\"\n",
    "    try:\n",
    "        # Call the moderation API with the image URL\n",
    "        response = client.moderations.create(\n",
    "            model=\"omni-moderation-latest\",\n",
    "            input=[\n",
    "                {\n",
    "                    \"type\": \"image_url\",\n",
    "                    \"image_url\": {\n",
    "                        \"url\": image_url\n",
    "                    }\n",
    "                }\n",
    "            ]\n",
    "        )\n",
    "\n",
    "        # Extract the moderation categories and their flags\n",
    "        results = response.results[0]\n",
    "        flagged_categories = vars(results.categories)\n",
    "        flagged = results.flagged\n",
    "\n",
    "        if not flagged:\n",
    "            return {\"url\": image_url, \"approved\": True, \"comments\": \"The image is good and can be uploaded.\"}\n",
    "        else:\n",
    "            reasons = [category.capitalize() for category, is_flagged in flagged_categories.items() if is_flagged]\n",
    "            return {\"url\": image_url, \"approved\": False, \"comments\": \", \".join(reasons)}\n",
    "\n",
    "    except Exception as e:\n",
    "        return {\"url\": image_url, \"approved\": False, \"comments\": f\"Error: {e}\"}\n",
    "\n",
    "\n",
    "def batch_process_image_urls(image_urls):\n",
    "    \"\"\"\n",
    "    Processes a batch of image URLs and prints the results in a table.\n",
    "\n",
    "    Parameters:\n",
    "        image_urls (list): A list of image URLs to be checked.\n",
    "\n",
    "    Returns:\n",
    "        None\n",
    "    \"\"\"\n",
    "    results = []\n",
    "\n",
    "    # Check each URL in the batch\n",
    "    for idx, url in enumerate(image_urls, start=1):\n",
    "        print(f\"Processing item {idx}/{len(image_urls)}: {url}\")\n",
    "        result = check_image_moderation(url)\n",
    "        results.append({\"Item\": idx, **result})\n",
    "\n",
    "    # Create a DataFrame for better visualization\n",
    "    df = pd.DataFrame(results)\n",
    "    print(\"\\nBatch Processing Results:\")\n",
    "    print(df.to_markdown(index=False))\n",
    "\n",
    "# Example batch of image URLs to check\n",
    "image_urls = [\n",
    "    \"https://assets.editorial.aetnd.com/uploads/2009/10/world-war-one-gettyimages-90007631.jpg\",\n",
    "    \"https://whc.unesco.org/uploads/thumbs/site_0252_0008-360-360-20250108121530.jpg\"\n",
    "]\n",
    "\n",
    "batch_process_image_urls(image_urls)\n"
   ]
  }
 ],
 "metadata": {
  "kernelspec": {
   "display_name": "Python 3",
   "language": "python",
   "name": "python3"
  },
  "language_info": {
   "codemirror_mode": {
    "name": "ipython",
    "version": 3
   },
   "file_extension": ".py",
   "mimetype": "text/x-python",
   "name": "python",
   "nbconvert_exporter": "python",
   "pygments_lexer": "ipython3",
   "version": "3.9.6"
  }
 },
 "nbformat": 4,
 "nbformat_minor": 2
}
