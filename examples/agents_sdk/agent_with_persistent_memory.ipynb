{
 "cells": [
  {
   "cell_type": "markdown",
   "id": "d9633618",
   "metadata": {},
   "source": [
    "# Agent with the persistent memory capabilities\n",
    "\n",
    "This cookbook shows how to add **persistent memory** to your OpenAI Agents using **Memori**, an open-source memory engine that makes AI agents remember conversations and learn from past interactions.\n",
    "\n",
    "## What You'll Learn\n",
    "\n",
    "In this example, we'll build a memory-enhanced assistant that can:\n",
    "\n",
    "1. **Remember Past Conversations** - Keep track of what you've talked about before\n",
    "2. **Learn Your Preferences** - Remember what you like and don't like  \n",
    "3. **Search Memory** - Find relevant information from previous chats\n",
    "4. **Store New Information** - Save important details for future use\n",
    "\n",
    "## How Memori Works\n",
    "\n",
    "Memori gives your AI agents two types of memory:\n",
    "\n",
    "- **Short-term Memory (Conscious Mode)** - Like keeping important info in your head that you use often\n",
    "- **Long-term Memory (Auto Mode)** - Like searching through all your past conversations when you need specific information\n",
    "\n",
    "Think of it like having a personal assistant who never forgets anything you've told them!"
   ]
  },
  {
   "cell_type": "markdown",
   "id": "d8f5477e",
   "metadata": {},
   "source": [
    "## Prerequisites\n",
    "\n",
    "Before running this cookbook, you need:\n",
    "\n",
    "#### 1. OpenAI Account\n",
    "- Sign up at [OpenAI](https://openai.com) if you don't have an account\n",
    "- Get your API key from the [OpenAI API Keys page](https://platform.openai.com/api-keys)\n",
    "\n",
    "#### 2. Install Required Packages\n",
    "We'll install these in the next cell:\n",
    "- `memorisdk` - The Memori memory engine\n",
    "- `openai-agents` - OpenAI's agent framework\n",
    "\n",
    "#### 3. Create a .env file with your OpenAI API Key\n",
    "```\n",
    "OPENAI_API_KEY=sk-your-openai-key-here\n",
    "```"
   ]
  },
  {
   "cell_type": "markdown",
   "id": "0a00953d",
   "metadata": {},
   "source": [
    "### Environment Setup\n",
    "First, let's install the necessary packages and set up our environment."
   ]
  },
  {
   "cell_type": "code",
   "execution_count": 1,
   "id": "1b98bb0e",
   "metadata": {},
   "outputs": [
    {
     "name": "stdout",
     "output_type": "stream",
     "text": [
      "Note: you may need to restart the kernel to use updated packages.\n",
      "Note: you may need to restart the kernel to use updated packages.\n",
      "Note: you may need to restart the kernel to use updated packages.\n"
     ]
    }
   ],
   "source": [
    "# Install required packages\n",
    "%pip install memorisdk --quiet\n",
    "%pip install openai-agents --quiet\n",
    "%pip install python-dotenv --quiet"
   ]
  },
  {
   "cell_type": "code",
   "execution_count": null,
   "id": "1b8ceb4a",
   "metadata": {},
   "outputs": [
    {
     "name": "stderr",
     "output_type": "stream",
     "text": [
      "\u001b[32m2025-08-25 14:58:31.936\u001b[0m | \u001b[33m\u001b[1mWARNING \u001b[0m | \u001b[36mmemori.core.memory\u001b[0m:\u001b[36m<module>\u001b[0m:\u001b[36m19\u001b[0m - \u001b[33m\u001b[1mLiteLLM not available - native callback system disabled\u001b[0m\n"
     ]
    },
    {
     "name": "stdout",
     "output_type": "stream",
     "text": [
      "✅ All packages imported successfully!\n",
      "🧠 Memori + OpenAI Agents integration ready!\n"
     ]
    }
   ],
   "source": [
    "import os\n",
    "import asyncio\n",
    "from dotenv import load_dotenv\n",
    "from textwrap import dedent\n",
    "\n",
    "# Import Memori for memory capabilities\n",
    "from memori import Memori, create_memory_tool\n",
    "\n",
    "# Import OpenAI Agents SDK\n",
    "from agents import Agent, Runner, function_tool\n",
    "\n",
    "# Load environment variables\n",
    "load_dotenv()\n",
    "\n",
    "print(\"All packages imported successfully!\")\n",
    "print(\"Memori + OpenAI Agents integration ready!\")"
   ]
  },
  {
   "cell_type": "markdown",
   "id": "77451391",
   "metadata": {},
   "source": [
    "### Initialize Memori Memory System\n",
    "\n",
    "Now let's set up Memori to give our agent persistent memory. We'll use both conscious and auto modes for the best experience."
   ]
  },
  {
   "cell_type": "code",
   "execution_count": null,
   "id": "774bcc8a",
   "metadata": {},
   "outputs": [
    {
     "name": "stdout",
     "output_type": "stream",
     "text": [
      "🧠 Initializing Memori memory system...\n",
      "✅ Memory system initialized!\n",
      "📁 Memory database: cookbook_memory.db\n",
      "🏷️  Namespace: cookbook_demo\n"
     ]
    }
   ],
   "source": [
    "print(\"Initializing Memori memory system...\")\n",
    "\n",
    "# Initialize Memori with both conscious and auto memory modes\n",
    "memory_system = Memori(\n",
    "    database_connect=\"sqlite:///cookbook_memory.db\",  # Local SQLite database\n",
    "    conscious_ingest=True,  # Short-term working memory\n",
    "    auto_ingest=True,       # Dynamic memory search  \n",
    "    verbose=False,          # Less debug output\n",
    "    namespace=\"cookbook_demo\",  # Organize memories by project\n",
    ")\n",
    "\n",
    "# Enable the memory system\n",
    "memory_system.enable()\n",
    "\n",
    "print(\"Memory system initialized!\")\n",
    "print(\"Memory database: cookbook_memory.db\")\n",
    "print(\"Namespace: cookbook_demo\")"
   ]
  },
  {
   "cell_type": "markdown",
   "id": "8aa03d12",
   "metadata": {},
   "source": [
    "### Create Memory Tools\n",
    "\n",
    "Now we'll create function tools that let our agent search and store memories. These tools give the agent the ability to remember and recall information."
   ]
  },
  {
   "cell_type": "code",
   "execution_count": null,
   "id": "ea7c2e70",
   "metadata": {},
   "outputs": [
    {
     "name": "stdout",
     "output_type": "stream",
     "text": [
      "🛠️ Memory tools created successfully!\n",
      "🔧 Available tools:\n",
      "   - search_memory: Find past conversations and preferences\n",
      "   - remember_user_info: Store new information about the user\n"
     ]
    }
   ],
   "source": [
    "# Create the built-in memory search tool\n",
    "memory_tool = create_memory_tool(memory_system)\n",
    "\n",
    "@function_tool\n",
    "def search_memory(query: str) -> str:\n",
    "    \"\"\"\n",
    "    Search the agent's memory for past conversations, user preferences, and information.\n",
    "    Use this to find relevant context from previous interactions.\n",
    "\n",
    "    Args:\n",
    "        query: What to search for in memory (e.g., \"user's name\", \"favorite color\", \"Python projects\")\n",
    "\n",
    "    Returns:\n",
    "        str: Search results from the agent's memory\n",
    "    \"\"\"\n",
    "    try:\n",
    "        if not query.strip():\n",
    "            return \"Please provide a search query\"\n",
    "\n",
    "        print(f\"Searching memory for: {query}\")\n",
    "        \n",
    "        # Use Memori's memory tool to search\n",
    "        result = memory_tool.execute(query=query.strip())\n",
    "        return result if result else \"No relevant memories found\"\n",
    "\n",
    "    except Exception as e:\n",
    "        return f\"Memory search error: {str(e)}\"\n",
    "\n",
    "\n",
    "@function_tool  \n",
    "def remember_user_info(info: str) -> str:\n",
    "    \"\"\"\n",
    "    Remember important information about the user for future conversations.\n",
    "    Use this when the user shares preferences, goals, or other important details.\n",
    "\n",
    "    Args:\n",
    "        info: The information to remember (e.g., \"User's name is Alice\", \"Prefers Python over JavaScript\")\n",
    "\n",
    "    Returns:\n",
    "        str: Confirmation of what was remembered\n",
    "    \"\"\"\n",
    "    try:\n",
    "        print(f\"Storing user info: {info}\")\n",
    "\n",
    "        # Store in Memori's memory system\n",
    "        memory_system.record_conversation(\n",
    "            user_input=f\"User shared: {info}\", \n",
    "            ai_output=f\"I'll remember that: {info}\"\n",
    "        )\n",
    "\n",
    "        return f\"Remembered: {info}\"\n",
    "\n",
    "    except Exception as e:\n",
    "        return f\"Error storing information: {str(e)}\"\n",
    "\n",
    "\n",
    "print(\"Memory tools created successfully!\")\n",
    "print(\"Available tools:\")\n",
    "print(\"   - search_memory: Find past conversations and preferences\")\n",
    "print(\"   - remember_user_info: Store new information about the user\")"
   ]
  },
  {
   "cell_type": "markdown",
   "id": "a59d76ba",
   "metadata": {},
   "source": [
    "### Create the Memory-Enhanced Agent\n",
    "\n",
    "Now let's create an OpenAI Agent that has access to persistent memory. This agent will be able to remember past conversations and provide personalized responses."
   ]
  },
  {
   "cell_type": "code",
   "execution_count": null,
   "id": "6801b29e",
   "metadata": {},
   "outputs": [
    {
     "name": "stdout",
     "output_type": "stream",
     "text": [
      "🤖 Memory-Enhanced Assistant created!\n",
      "🧠 This agent can:\n",
      "   - Remember past conversations\n",
      "   - Learn your preferences\n",
      "   - Search through memory\n",
      "   - Provide personalized responses\n"
     ]
    }
   ],
   "source": [
    "# Create the memory-enhanced OpenAI Agent\n",
    "memory_agent = Agent(\n",
    "    name=\"Memory-Enhanced Assistant\",\n",
    "    instructions=dedent(\n",
    "        \"\"\"\n",
    "        You are a helpful AI assistant with persistent memory capabilities. You can remember\n",
    "        past conversations and user preferences across different chat sessions.\n",
    "\n",
    "        Your memory abilities:\n",
    "        1. search_memory: Search for relevant past conversations, user preferences, \n",
    "           and any information from previous interactions\n",
    "        2. remember_user_info: Store important information about the user\n",
    "\n",
    "        Guidelines for using memory:\n",
    "        - ALWAYS start by searching your memory for relevant context before responding\n",
    "        - When users share important information (name, preferences, goals, projects), \n",
    "          use remember_user_info to store it\n",
    "        - Be conversational and personalize responses based on remembered information\n",
    "        - Reference past conversations naturally when relevant\n",
    "        - If this seems like a first conversation, introduce your memory capabilities\n",
    "\n",
    "        Be helpful, friendly, and make good use of your memory to provide personalized assistance!\n",
    "        \"\"\"\n",
    "    ),\n",
    "    model=\"gpt-4o-mini\",\n",
    "    tools=[search_memory, remember_user_info],\n",
    ")\n",
    "\n",
    "print(\"Memory-Enhanced Assistant created!\")\n",
    "print(\"This agent can:\")\n",
    "print(\"   - Remember past conversations\")\n",
    "print(\"   - Learn your preferences\")\n",
    "print(\"   - Search through memory\")\n",
    "print(\"   - Provide personalized responses\")"
   ]
  },
  {
   "cell_type": "markdown",
   "id": "9d16bea9",
   "metadata": {},
   "source": [
    "### Helper Function for Agent Interaction\n",
    "\n",
    "Let's create a helper function that processes user input through our memory-enhanced agent and automatically stores the conversation in memory."
   ]
  },
  {
   "cell_type": "code",
   "execution_count": null,
   "id": "97e88869",
   "metadata": {},
   "outputs": [
    {
     "name": "stdout",
     "output_type": "stream",
     "text": [
      "📞 Chat function ready!\n"
     ]
    }
   ],
   "source": [
    "async def chat_with_memory_agent(user_input: str) -> str:\n",
    "    \"\"\"\n",
    "    Process user input through the memory-enhanced agent and store the conversation.\n",
    "    \n",
    "    Args:\n",
    "        user_input: What the user said\n",
    "        \n",
    "    Returns:\n",
    "        str: The agent's response\n",
    "    \"\"\"\n",
    "    try:\n",
    "        print(f\"Processing: {user_input[:50]}{'...' if len(user_input) > 50 else ''}\")\n",
    "\n",
    "        # Run the agent with the user input\n",
    "        result = await Runner.run(memory_agent, input=user_input)\n",
    "\n",
    "        # Get the response content\n",
    "        response_content = result.final_output if hasattr(result, \"final_output\") else str(result)\n",
    "\n",
    "        # Store the conversation in Memori's memory system\n",
    "        memory_system.record_conversation(\n",
    "            user_input=user_input, \n",
    "            ai_output=response_content\n",
    "        )\n",
    "\n",
    "        return response_content\n",
    "\n",
    "    except Exception as e:\n",
    "        error_msg = f\"Sorry, I encountered an error: {str(e)}\"\n",
    "        print(f\"Error: {error_msg}\")\n",
    "        return error_msg\n",
    "\n",
    "print(\"Chat function ready!\")"
   ]
  },
  {
   "cell_type": "markdown",
   "id": "0a24d091",
   "metadata": {},
   "source": [
    "## Demo 1: First Conversation - Building Memory\n",
    "\n",
    "Let's start with a first conversation where we introduce ourselves and share some preferences. The agent will remember this information for future interactions."
   ]
  },
  {
   "cell_type": "code",
   "execution_count": null,
   "id": "28d0542e",
   "metadata": {},
   "outputs": [
    {
     "name": "stdout",
     "output_type": "stream",
     "text": [
      "🎯 Demo 1: First Conversation - Building Memory\n",
      "==================================================\n",
      "👤 User: Hi! I'm Alice and I'm a Python developer. I love working with data science and I'm currently learning about AI agents.\n",
      "\n",
      "🤖 Assistant (thinking...)\n",
      "\n",
      "Processing: Hi! I'm Alice and I'm a Python developer. I love w...\n",
      "💾 Storing user info: User's name is Alice.\n",
      "💾 Storing user info: User is a Python developer.\n",
      "💾 Storing user info: User loves working with data science.\n",
      "💾 Storing user info: User is currently learning about AI agents.\n",
      "🤖 Assistant: Hi, Alice! It’s great to meet you! Python is such a powerful tool for data science, and diving into AI agents sounds exciting. How's your learning going so far?\n"
     ]
    }
   ],
   "source": [
    "print(\"Demo 1: First Conversation - Building Memory\")\n",
    "print(\"=\" * 50)\n",
    "\n",
    "# First conversation - introducing ourselves\n",
    "user_message = \"Hi! I'm Alice and I'm a Python developer. I love working with data science and I'm currently learning about AI agents.\"\n",
    "\n",
    "print(f\"User: {user_message}\")\n",
    "print(\"\\nAssistant (thinking...)\\n\")\n",
    "\n",
    "response = await chat_with_memory_agent(user_message)\n",
    "print(f\"Assistant: {response}\")"
   ]
  },
  {
   "cell_type": "markdown",
   "id": "9b554cea",
   "metadata": {},
   "source": [
    "## Demo 2: Second Conversation - Memory in Action\n",
    "\n",
    "Now let's have another conversation and see how the agent uses the memory from our previous interaction to provide personalized responses."
   ]
  },
  {
   "cell_type": "code",
   "execution_count": null,
   "id": "f1e647ae",
   "metadata": {},
   "outputs": [
    {
     "name": "stdout",
     "output_type": "stream",
     "text": [
      "\n",
      "🎯 Demo 2: Second Conversation - Memory in Action\n",
      "==================================================\n",
      "👤 User: Can you help me with a project? I want to build something cool but I'm not sure what.\n",
      "\n",
      "🤖 Assistant (thinking...)\n",
      "\n",
      "Processing: Can you help me with a project? I want to build so...\n",
      "🔍 Searching memory for: user's project interests\n",
      "🤖 Assistant: I see you love working with data science! Here are a few cool project ideas you might consider:\n",
      "\n",
      "1. **Predictive Analytics Model**: Create a model that predicts stock prices, house values, or sales trends using historical data.\n",
      "\n",
      "2. **Sentiment Analysis Tool**: Build a tool that analyzes social media posts or product reviews to determine public sentiment on various topics.\n",
      "\n",
      "3. **Data Visualization Dashboard**: Design an interactive dashboard that visualizes complex data sets, allowing users to manipulate and filter the data.\n",
      "\n",
      "4. **Recommendation System**: Create a system that recommends products, movies, or music based on user preferences and behaviors.\n",
      "\n",
      "5. **Healthcare Analytics**: Analyze health data to uncover trends, predict outcomes, or provide insights for better patient care.\n",
      "\n",
      "Do any of these resonate with you, or do you have something else in mind?\n"
     ]
    }
   ],
   "source": [
    "print(\"\\nDemo 2: Second Conversation - Memory in Action\")\n",
    "print(\"=\" * 50)\n",
    "\n",
    "# Second conversation - asking for help\n",
    "user_message = \"Can you help me with a project? I want to build something cool but I'm not sure what.\"\n",
    "\n",
    "print(f\"User: {user_message}\")\n",
    "print(\"\\nAssistant (thinking...)\\n\")\n",
    "\n",
    "response = await chat_with_memory_agent(user_message)\n",
    "print(f\"Assistant: {response}\")"
   ]
  },
  {
   "cell_type": "markdown",
   "id": "c108e371",
   "metadata": {},
   "source": [
    "## Demo 3: Adding More Preferences\n",
    "\n",
    "Let's add more information to our memory by sharing additional preferences."
   ]
  },
  {
   "cell_type": "code",
   "execution_count": null,
   "id": "6c1471fc",
   "metadata": {},
   "outputs": [],
   "source": [
    "print(\"\\nDemo 3: Adding More Preferences\")\n",
    "print(\"=\" * 50)\n",
    "\n",
    "# Adding more preferences\n",
    "user_message = \"I also love using Jupyter notebooks for my data analysis work, and I prefer using pandas and matplotlib for visualization. I'm working on a machine learning project about predicting house prices.\"\n",
    "\n",
    "print(f\"User: {user_message}\")\n",
    "print(\"\\nAssistant (thinking...)\\n\")\n",
    "\n",
    "response = await chat_with_memory_agent(user_message)\n",
    "print(f\"Assistant: {response}\")"
   ]
  },
  {
   "cell_type": "markdown",
   "id": "c49af803",
   "metadata": {},
   "source": [
    "## Demo 4: Testing Memory Recall\n",
    "\n",
    "Now let's test how well the agent remembers our previous conversations by asking about something we mentioned earlier."
   ]
  },
  {
   "cell_type": "code",
   "execution_count": null,
   "id": "7b7363c0",
   "metadata": {},
   "outputs": [],
   "source": [
    "print(\"\\nDemo 4: Testing Memory Recall\")\n",
    "print(\"=\" * 50)\n",
    "\n",
    "# Testing memory recall\n",
    "user_message = \"What do you remember about my current projects and interests?\"\n",
    "\n",
    "print(f\"User: {user_message}\")\n",
    "print(\"\\nAssistant (thinking...)\\n\")\n",
    "\n",
    "response = await chat_with_memory_agent(user_message)\n",
    "print(f\"Assistant: {response}\")"
   ]
  },
  {
   "cell_type": "markdown",
   "id": "37e770f6",
   "metadata": {},
   "source": [
    "## Demo 5: Memory-Based Recommendations\n",
    "\n",
    "Finally, let's see how the agent uses accumulated memory to provide personalized recommendations."
   ]
  },
  {
   "cell_type": "code",
   "execution_count": null,
   "id": "44f55c4c",
   "metadata": {},
   "outputs": [],
   "source": [
    "print(\"\\nDemo 5: Memory-Based Recommendations\")\n",
    "print(\"=\" * 50)\n",
    "\n",
    "# Getting personalized recommendations\n",
    "user_message = \"I have some free time this weekend. What would you recommend I work on or learn about?\"\n",
    "\n",
    "print(f\"User: {user_message}\")\n",
    "print(\"\\nAssistant (thinking...)\\n\")\n",
    "\n",
    "response = await chat_with_memory_agent(user_message)\n",
    "print(f\"Assistant: {response}\")"
   ]
  },
  {
   "cell_type": "markdown",
   "id": "b199e967",
   "metadata": {},
   "source": [
    "## Interactive Chat Session\n",
    "\n",
    "Now let's create an interactive chat session where you can talk with the memory-enhanced agent directly. The agent will remember everything from this conversation for future sessions."
   ]
  },
  {
   "cell_type": "code",
   "execution_count": null,
   "id": "00b8f44c",
   "metadata": {},
   "outputs": [],
   "source": [
    "async def interactive_chat():\n",
    "    \"\"\"\n",
    "    Interactive chat session with the memory-enhanced agent.\n",
    "    \"\"\"\n",
    "    print(\"\\nInteractive Chat Session Started!\")\n",
    "    print(\"=\" * 50)\n",
    "    print(\"Start chatting with your memory-enhanced assistant!\")\n",
    "    print(\"Try asking about previous conversations or sharing new information.\")\n",
    "    print(\"Type 'quit', 'exit', or 'stop' to end the session.\\n\")\n",
    "\n",
    "    conversation_count = 0\n",
    "\n",
    "    while True:\n",
    "        try:\n",
    "            # Get user input\n",
    "            user_input = input(\"You: \").strip()\n",
    "\n",
    "            # Check for exit commands\n",
    "            if user_input.lower() in [\"quit\", \"exit\", \"stop\", \"bye\"]:\n",
    "                print(\"\\nAssistant: Goodbye! I'll remember our conversation for next time.\")\n",
    "                break\n",
    "\n",
    "            if not user_input:\n",
    "                continue\n",
    "\n",
    "            conversation_count += 1\n",
    "            print(f\"\\nAssistant (thinking... #{conversation_count})\")\n",
    "\n",
    "            # Get response from memory-enhanced agent\n",
    "            response = await chat_with_memory_agent(user_input)\n",
    "\n",
    "            print(f\"Assistant: {response}\\n\")\n",
    "\n",
    "        except KeyboardInterrupt:\n",
    "            print(\"\\n\\nAssistant: Goodbye! I'll remember our conversation for next time.\")\n",
    "            break\n",
    "        except Exception as e:\n",
    "            print(f\"\\nError: {str(e)}\")\n",
    "            print(\"Please try again.\\n\")\n",
    "\n",
    "    print(\"\\nSession Summary:\")\n",
    "    print(f\"   - Conversations: {conversation_count}\")\n",
    "    print(f\"   - Memory database: cookbook_memory.db\")\n",
    "    print(f\"   - Namespace: cookbook_demo\")\n",
    "    print(\"\\nAll conversations are saved and will be available in future sessions!\")\n",
    "\n",
    "# Start the interactive chat (uncomment the line below to run)\n",
    "# await interactive_chat()\n",
    "\n",
    "print(\"Interactive chat function ready!\")\n",
    "print(\"Uncomment the line above and run the cell to start chatting!\")"
   ]
  },
  {
   "cell_type": "markdown",
   "id": "36f0ee64",
   "metadata": {},
   "source": [
    "## Memory Statistics and Inspection\n",
    "\n",
    "Let's look at what's been stored in our memory system and get some statistics about our conversations."
   ]
  },
  {
   "cell_type": "code",
   "execution_count": null,
   "id": "6238b35b",
   "metadata": {},
   "outputs": [],
   "source": [
    "print(\"Memory System Statistics\")\n",
    "print(\"=\" * 50)\n",
    "\n",
    "try:\n",
    "    # Get memory statistics\n",
    "    stats = memory_system.get_memory_stats()\n",
    "    print(f\"Memory Statistics:\")\n",
    "    for key, value in stats.items():\n",
    "        print(f\"   - {key}: {value}\")\n",
    "except Exception as e:\n",
    "    print(f\"Memory stats not available: {str(e)}\")\n",
    "\n",
    "print(\"\\nSearching for stored preferences...\")\n",
    "try:\n",
    "    # Search for user preferences\n",
    "    preferences = memory_tool.execute(query=\"user preferences python data science\")\n",
    "    print(f\"Found preferences:\\n{preferences}\")\n",
    "except Exception as e:\n",
    "    print(f\"Error searching memory: {str(e)}\")\n",
    "\n",
    "print(\"\\nMemory Database Information:\")\n",
    "print(\"   - Database file: cookbook_memory.db\")\n",
    "print(\"   - Namespace: cookbook_demo\")\n",
    "print(\"   - Conscious mode: Enabled (short-term memory)\")\n",
    "print(\"   - Auto mode: Enabled (dynamic search)\")"
   ]
  },
  {
   "cell_type": "markdown",
   "id": "0801186b",
   "metadata": {},
   "source": [
    "## Real-World Use Cases\n",
    "\n",
    "Here are some practical applications where Memori + OpenAI Agents can be powerful:\n",
    "\n",
    "### 1. **Personal Assistant**\n",
    "- Remember your daily routines, preferences, and goals\n",
    "- Track ongoing projects and deadlines\n",
    "- Provide personalized recommendations\n",
    "\n",
    "### 2. **Customer Support Agent**\n",
    "- Remember customer history and preferences\n",
    "- Track previous issues and solutions\n",
    "- Provide consistent, personalized support\n",
    "\n",
    "### 3. **Learning Companion**\n",
    "- Remember what you've learned and what you're struggling with\n",
    "- Track your learning progress over time\n",
    "- Suggest next steps based on your learning journey\n",
    "\n",
    "### 4. **Code Review Assistant**\n",
    "- Remember your coding style and preferences\n",
    "- Track patterns in your code reviews\n",
    "- Learn from past feedback to improve suggestions\n",
    "\n",
    "### 5. **Research Assistant**\n",
    "- Remember your research topics and interests\n",
    "- Track papers you've read and want to read\n",
    "- Connect related research across different sessions"
   ]
  },
  {
   "cell_type": "markdown",
   "id": "8bdec58e",
   "metadata": {},
   "source": [
    "## Conclusion\n",
    "\n",
    "In this cookbook, we've explored how to integrate **Memori** with **OpenAI Agents** to create AI assistants with persistent memory. Here's what we accomplished:\n",
    "\n",
    "### What We Built\n",
    "- **Memory-Enhanced Agent**: An OpenAI Agent that remembers past conversations\n",
    "- **Search & Store Tools**: Functions to search memory and store new information\n",
    "- **Dual Memory Modes**: Both short-term (conscious) and long-term (auto) memory\n",
    "- **Interactive Chat**: A fully functional chat interface with memory\n",
    "\n",
    "### Key Memory Features\n",
    "- **Automatic Recording**: All conversations are automatically saved\n",
    "- **Intelligent Search**: AI-powered search through past conversations\n",
    "- **Context Injection**: Relevant memories are automatically added to conversations\n",
    "- **Persistent Storage**: Memories survive between different sessions\n",
    "\n",
    "### Next Steps\n",
    "- **Explore More Examples**: Check out [Memori's GitHub](https://github.com/gibsonai/memori) for more integration examples\n",
    "- **Production Setup**: Use PostgreSQL or MySQL for production applications\n",
    "- **Custom Tools**: Create specialized memory tools for your specific use case\n",
    "- **Multi-Agent Systems**: Share memory between multiple agents\n",
    "\n",
    "### Resources\n",
    "- **Memori Documentation**: [gibsonai.github.io/memori](https://gibsonai.github.io/memori/)\n",
    "- **GitHub Repository**: [github.com/gibsonai/memori](https://github.com/gibsonai/memori)\n",
    "- **Discord Community**: [gibsonai.com/discord](https://www.gibsonai.com/discord)\n",
    "\n",
    "**Congratulations!** You now have a memory-enhanced AI agent that can remember conversations, learn preferences, and provide personalized assistance across sessions. This is just the beginning of what's possible with persistent memory in AI agents!"
   ]
  }
 ],
 "metadata": {
  "kernelspec": {
   "display_name": ".venv",
   "language": "python",
   "name": "python3"
  },
  "language_info": {
   "codemirror_mode": {
    "name": "ipython",
    "version": 3
   },
   "file_extension": ".py",
   "mimetype": "text/x-python",
   "name": "python",
   "nbconvert_exporter": "python",
   "pygments_lexer": "ipython3",
   "version": "3.12.10"
  }
 },
 "nbformat": 4,
 "nbformat_minor": 5
}
