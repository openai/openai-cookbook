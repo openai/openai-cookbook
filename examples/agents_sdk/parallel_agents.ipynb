{
 "cells": [
  {
   "cell_type": "markdown",
   "metadata": {},
   "source": [
    "# Running Specialized Agents in Parallel with the OpenAI Agents SDK\n",
    "\n",
    "Why would you want to do this?\n",
    "In many production workflows you must answer several independent questions about the same piece of content.\n",
    "Doing those analyses one-by-one increases latency and can increase total cost if any step fails and forces a retry.\n",
    "By \"fanning out\" multiple specialized agents at the same time and then \"fanning in\" their outputs to a final “meta” agent, you're able to reduce this latency.\n",
    "\n",
    "This notebook present a toy example that you likely wouldn't parallelize in the real world, but that shows:\n",
    "1. How to define several focused agents with the OpenAI Agents SDK.\n",
    "2. How to execute them concurrently using either Python [asyncio](https://docs.python.org/3/library/asyncio.html) for lower latency, lightweight parallelization or directly through the [Agents SDK](https://openai.github.io/openai-agents-python/tools/#agents-as-tools) for ease of management and dynamic tool call planning.\n",
    "3. How to gather their individual outputs and feed them into a downstream meta-agent that produces the final, user-ready answer.\n",
    "4. A simple timeline visualization so you can see the latency benefit of parallelization.\n",
    "\n",
    "This same pattern can be adapted to real world scenarios such as customer-support triage, content moderation, or other scenarios where you might want to run multiple independent analyses on an input and merge them into a single outcome."
   ]
  },
  {
   "cell_type": "markdown",
   "metadata": {},
   "source": [
    "1. Install dependencies"
   ]
  },
  {
   "cell_type": "code",
   "execution_count": null,
   "metadata": {},
   "outputs": [],
   "source": [
    "%pip install openai-agents asyncio matplotlib nest_asyncio\n",
    "\n",
    "import time\n",
    "\n",
    "import asyncio\n",
    "import matplotlib.pyplot as plt\n",
    "import nest_asyncio\n",
    "\n",
    "from agents import Agent, Runner\n",
    "\n",
    "nest_asyncio.apply()"
   ]
  },
  {
   "cell_type": "markdown",
   "metadata": {},
   "source": [
    "2. Define your Agents"
   ]
  },
  {
   "cell_type": "code",
   "execution_count": 2,
   "metadata": {},
   "outputs": [],
   "source": [
    "# Agent focusing on product features\n",
    "features_agent = Agent(\n",
    "    name=\"FeaturesAgent\",\n",
    "    instructions=\"Extract the key product features from the review.\"\n",
    ")\n",
    "\n",
    "# Agent focusing on pros & cons\n",
    "pros_cons_agent = Agent(\n",
    "    name=\"ProsConsAgent\",\n",
    "    instructions=\"List the pros and cons mentioned in the review.\"\n",
    ")\n",
    "\n",
    "# Agent focusing on sentiment analysis\n",
    "sentiment_agent = Agent(\n",
    "    name=\"SentimentAgent\",\n",
    "    instructions=\"Summarize the overall user sentiment from the review.\"\n",
    ")\n",
    "\n",
    "# Agent focusing on recommendation summary\n",
    "recommend_agent = Agent(\n",
    "    name=\"RecommendAgent\",\n",
    "    instructions=\"State whether you would recommend this product and why.\"\n",
    ")\n",
    "\n",
    "parallel_agents = [\n",
    "    features_agent,\n",
    "    pros_cons_agent,\n",
    "    sentiment_agent,\n",
    "    recommend_agent\n",
    "]\n",
    "\n",
    "# Meta-agent to combine outputs\n",
    "meta_agent = Agent(\n",
    "    name=\"MetaAgent\",\n",
    "    instructions=\"You are given multiple summaries labeled with Features, ProsCons, Sentiment, and a Recommendation.\"\n",
    "    \" Combine them into a concise executive summary of the product review with a 1-5 star rating for each summary area.\"\n",
    ")\n"
   ]
  },
  {
   "cell_type": "code",
   "execution_count": 3,
   "metadata": {},
   "outputs": [],
   "source": [
    "starts, ends = [], []\n",
    "async def run_agent(agent, review_text: str):\n",
    "    agent_name = agent.name\n",
    "\n",
    "    start = time.time()\n",
    "    starts.append((agent_name, start))\n",
    "\n",
    "    result = await Runner.run(agent, review_text)\n",
    "\n",
    "    end = time.time()\n",
    "    ends.append((agent_name, end))\n",
    "\n",
    "    return result"
   ]
  },
  {
   "cell_type": "markdown",
   "metadata": {},
   "source": [
    "3. Create function for parallel execution"
   ]
  },
  {
   "cell_type": "code",
   "execution_count": 4,
   "metadata": {},
   "outputs": [],
   "source": [
    "async def run_agents(review_text: str):\n",
    "    responses = await asyncio.gather(\n",
    "        *(run_agent(agent, review_text) for agent in parallel_agents)\n",
    "    )\n",
    "\n",
    "    labeled_summaries = [\n",
    "        f\"### {resp.last_agent.name}\\n{resp.final_output}\"\n",
    "        for resp in responses\n",
    "    ]\n",
    "\n",
    "    collected_summaries = \"\\n\".join(labeled_summaries)\n",
    "    final_summary = await run_agent(meta_agent, collected_summaries)\n",
    "\n",
    "\n",
    "    print('Final summary:', final_summary.final_output)\n",
    "\n",
    "    return"
   ]
  },
  {
   "cell_type": "code",
   "execution_count": 5,
   "metadata": {},
   "outputs": [
    {
     "name": "stdout",
     "output_type": "stream",
     "text": [
      "Final summary: ### Executive Summary\n",
      "\n",
      "The AuroraSound X2 wireless noise-cancelling headphones offer a blend of premium design and advanced features. The headphones boast a matte-finish with comfortable, memory-foam padding, making them ideal for extended use. With Bluetooth 5.2, they provide seamless connectivity and stable communication. The noise-cancelling capabilities effectively reduce ambient noise and feature a well-tuned Transparency mode for essential sound transmission.\n",
      "\n",
      "**Audio Quality** is a highlight, delivering rich, balanced sound with customizable EQ presets including “Podcast,” “Bass Boost,” and “Concert Hall.” Intuitive touch controls allow for easy navigation, though some users report occasional misfires. The extended battery life offers over 30 hours with ANC on, with a quick-charge option for convenience.\n",
      "\n",
      "**Minor Limitations** include a bulky carrying case, occasional touch control issues, and limited color choices (black or white). Despite these, the overall sentiment is highly positive, with users particularly appreciating the headphones' design, connectivity, and performance. The product is recommended for those seeking high-quality audio experiences with effective noise-cancelling features.\n",
      "\n",
      "### Star Ratings\n",
      "\n",
      "- **Features**: ★★★★☆\n",
      "- **Pros & Cons**: ★★★★☆\n",
      "- **Sentiment**: ★★★★★\n",
      "- **Recommendation**: ★★★★★\n",
      "\n",
      "Overall, the AuroraSound X2 headphones are a compelling choice, offering excellent value despite minor drawbacks.\n"
     ]
    },
    {
     "data": {
      "image/png": "[encoded data removed]",
      "text/plain": [
       "<Figure size 800x300 with 1 Axes>"
      ]
     },
     "metadata": {},
     "output_type": "display_data"
    }
   ],
   "source": [
    "review_text = \"\"\"\n",
    "I recently upgraded to the AuroraSound X2 wireless noise-cancelling headphones, and after two weeks of daily use I have quite a bit to share. First off, the design feels premium without being flashy: the matte‐finish ear cups are softly padded and rotate smoothly for storage, while the headband’s memory‐foam cushion barely presses on my temples even after marathon work calls. Connectivity is seamless—pairing with my laptop and phone took under five seconds each time, and the Bluetooth 5.2 link held rock-solid through walls and down the hallway.\n",
    "\n",
    "The noise-cancelling performance is genuinely impressive. In a busy café with music and chatter swirling around, flipping on ANC immediately quiets low-level ambient hums, and it even attenuates sudden noises—like the barista’s milk frother—without sounding distorted. The “Transparency” mode is equally well‐tuned: voices come through clearly, but the world outside isn’t overwhelmingly loud. Audio quality in standard mode is rich and balanced, with tight bass, clear mids, and a hint of sparkle in the highs. There’s also a dedicated EQ app, where you can toggle between “Podcast,” “Bass Boost,” and “Concert Hall” presets or craft your own curve.\n",
    "\n",
    "On the control front, intuitive touch panels let you play/pause, skip tracks, and adjust volume with a simple swipe or tap. One neat trick: holding down on the right ear cup invokes your phone’s voice assistant. Battery life lives up to the hype, too—over 30 hours with ANC on, and the quick‐charge feature delivers 2 hours of playtime from just a 10-minute top-up.\n",
    "\n",
    "That said, it isn’t perfect. For one, the carrying case is a bit bulky, so it doesn’t slip easily into a slim bag. And while the touch interface is mostly reliable, I occasionally trigger a pause when trying to adjust the cup position. The headphones also come in only two colorways—black or white—which feels limiting given the premium price point.\n",
    "\"\"\"\n",
    "\n",
    "asyncio.get_event_loop().run_until_complete(run_agents(review_text))\n",
    "\n",
    "def plot_timeline(starts, ends):\n",
    "\n",
    "    # Plot the timeline of the agents\n",
    "    # normalize times to zero\n",
    "    base = min(t for _, t in starts)\n",
    "    labels = [n for n, _ in starts]\n",
    "    start_offsets = [t - base for _, t in starts]\n",
    "    lengths = [ends[i][1] - starts[i][1] for i in range(len(starts))]\n",
    "\n",
    "    plt.figure(figsize=(8, 3))\n",
    "    plt.barh(labels, lengths, left=start_offsets)\n",
    "    plt.xlabel(\"Seconds since kickoff\")\n",
    "    plt.title(\"Agent Execution Timeline\")\n",
    "    plt.show()\n",
    "\n",
    "plot_timeline(starts, ends)"
   ]
  },
  {
   "cell_type": "markdown",
   "metadata": {},
   "source": [
    "The agents can also be parallelized directly through the SDK via the \"agent as tool\" route, adding convenience and the assistance of the planner dynamically deciding which tools to call at the expense of higher latency. This latency comes both from the additional planning API call up front, along with the higher overhead and context from the tool call objects."
   ]
  },
  {
   "cell_type": "code",
   "execution_count": 7,
   "metadata": {},
   "outputs": [
    {
     "name": "stdout",
     "output_type": "stream",
     "text": [
      "Final summary: **Executive Summary: AuroraSound X2 Wireless Noise-Cancelling Headphones**\n",
      "\n",
      "**Features (⭐️⭐️⭐️⭐️⭐️ 5/5):** The headphones boast a premium, matte-finish design with comfortable memory-foam cushioning. They offer seamless Bluetooth 5.2 connectivity, impressive noise-cancelling capabilities, and a well-tuned \"Transparency\" mode. The audio quality is rich and balanced, with customizable sound options via a dedicated EQ app. Additional features include intuitive touch controls and excellent battery life paired with a quick-charge option.\n",
      "\n",
      "**Pros and Cons (⭐️⭐️⭐️⭐️ 4/5):** \n",
      "- **Pros:** Premium design, comfortable fit, seamless connectivity, effective noise-cancelling, clear voice input in \"Transparency\" mode, customizable audio, intuitive controls, long battery life.\n",
      "- **Cons:** Bulky carrying case, occasional touch control sensitivity issues, limited color options.\n",
      "\n",
      "**Sentiment (⭐️⭐️⭐️⭐️ 4/5):** The overall sentiment is highly positive, with appreciation for the design, comfort, connectivity, noise-cancelling effectiveness, and audio quality. Minor drawbacks are noted but do not outweigh the benefits.\n",
      "\n",
      "**Recommendation (⭐️⭐️⭐️⭐️ 4/5):** Highly recommended for those seeking premium noise-cancelling headphones with versatile features and excellent audio performance. The minor drawbacks are outweighed by the comprehensive suite of high-quality features.\n"
     ]
    },
    {
     "data": {
      "image/png": "[encoded data removed]",
      "text/plain": [
       "<Figure size 800x300 with 1 Axes>"
      ]
     },
     "metadata": {},
     "output_type": "display_data"
    }
   ],
   "source": [
    "from agents import ModelSettings\n",
    "\n",
    "\n",
    "meta_agent_parallel_tools = Agent(\n",
    "    name=\"MetaAgent\",\n",
    "    instructions=\"You are given multiple summaries labeled with Features, ProsCons, Sentiment, and a Recommendation.\"\n",
    "    \" Combine them into a concise executive summary of the product review with a 1-5 star rating for each summary area.\",\n",
    "   model_settings=ModelSettings(\n",
    "       parallel_tool_calls=True\n",
    "   ),\n",
    "    tools=[\n",
    "        features_agent.as_tool(\n",
    "            tool_name=\"features\",\n",
    "            tool_description=\"Extract the key product features from the review.\",\n",
    "        ),\n",
    "        pros_cons_agent.as_tool(\n",
    "            tool_name=\"pros_cons\",\n",
    "            tool_description=\"List the pros and cons mentioned in the review.\",\n",
    "        ),\n",
    "        sentiment_agent.as_tool(\n",
    "            tool_name=\"sentiment\",\n",
    "            tool_description=\"Summarize the overall user sentiment from the review.\",\n",
    "        ),\n",
    "        recommend_agent.as_tool(\n",
    "            tool_name=\"recommend\",\n",
    "            tool_description=\"State whether you would recommend this product and why.\",\n",
    "        ),\n",
    "    ],\n",
    ")\n",
    "\n",
    "starts, ends = [], []\n",
    "result = await run_agent(meta_agent_parallel_tools, review_text)\n",
    "\n",
    "print('Final summary:', result.final_output)\n",
    "\n",
    "plot_timeline(starts, ends)\n"
   ]
  },
  {
   "cell_type": "markdown",
   "metadata": {},
   "source": [
    "## Summary\n",
    "\n",
    "From the above, we can see two different patterns for parallelizing agents. Ultimately, the approach you use will depend on the balance you want between:\n",
    "\n",
    "1. Convenience vs. customization\n",
    "    * If you prefer convenience, the agent as tool route is the way to go. If you want to customize how agents fan in and out across multiple layers, building a graph with `asyncio.gather` might make more sense\n",
    "1. Planning vs. determinism\n",
    "    * If you want your planner (in this case the meta agent) to dynamically decide which tools to call and the order, you should use agents as tools whereas `asyncio.gather` makes more sense if you want a deterministic order.\n",
    "1. Latency sensitivity\n",
    "    * If you're highly sensitive to latency, you may want to use `asyncio` to avoid the additional upfront cost of planning the parallel tools and the overhead of tool outputs and longer context windows."
   ]
  }
 ],
 "metadata": {
  "kernelspec": {
   "display_name": ".venv",
   "language": "python",
   "name": "python3"
  },
  "language_info": {
   "codemirror_mode": {
    "name": "ipython",
    "version": 3
   },
   "file_extension": ".py",
   "mimetype": "text/x-python",
   "name": "python",
   "nbconvert_exporter": "python",
   "pygments_lexer": "ipython3",
   "version": "3.11.8"
  }
 },
 "nbformat": 4,
 "nbformat_minor": 2
}
