{
 "cells": [
  {
   "cell_type": "markdown",
   "metadata": {},
   "source": [
    "# Running Specialized Agents in Parallel with the OpenAI Agents SDK\n",
    "\n",
    "Why would you want to do this?\n",
    "In many production workflows you must answer several independent questions about the same piece of content.\n",
    "Doing those analyses one-by-one increases latency and can increase total cost if any step fails and forces a retry.\n",
    "By \"fanning out\" multiple specialized agents at the same time and then \"fanning in\" their outputs to a final “meta” agent, you're able to reduce this latency.\n",
    "\n",
    "This notebook present a toy example that you likely wouldn't parallelize in the real world, but that shows:\n",
    "1. How to define several focused agents with the OpenAI Agents SDK.\n",
    "2. How to execute them concurrently using Python `asyncio`.\n",
    "3. How to gather their individual outputs and feed them into a downstream meta-agent that produces the final, user-ready answer.\n",
    "4. A simple timeline visualization so you can see the latency benefit of parallelization.\n",
    "\n",
    "This same pattern can be adapted to real world scenarios such as customer-support triage, content moderation, or other scenarios where you might want to run multiple independent analyses on an input and merge them into a single outcome."
   ]
  },
  {
   "cell_type": "markdown",
   "metadata": {},
   "source": [
    "1. Install dependencies"
   ]
  },
  {
   "cell_type": "code",
   "execution_count": null,
   "metadata": {},
   "outputs": [],
   "source": [
    "%pip install openai-agents asyncio matplotlib nest_asyncio\n",
    "\n",
    "import time\n",
    "\n",
    "import asyncio\n",
    "import matplotlib.pyplot as plt\n",
    "import nest_asyncio\n",
    "\n",
    "from agents import Agent, Runner\n",
    "\n",
    "nest_asyncio.apply()"
   ]
  },
  {
   "cell_type": "markdown",
   "metadata": {},
   "source": [
    "2. Define your Agents"
   ]
  },
  {
   "cell_type": "code",
   "execution_count": 30,
   "metadata": {},
   "outputs": [],
   "source": [
    "# Agent focusing on product features\n",
    "features_agent = Agent(\n",
    "    name=\"FeaturesAgent\",\n",
    "    instructions=\"Extract the key product features from the review.\"\n",
    ")\n",
    "\n",
    "# Agent focusing on pros & cons\n",
    "pros_cons_agent = Agent(\n",
    "    name=\"ProsConsAgent\",\n",
    "    instructions=\"List the pros and cons mentioned in the review.\"\n",
    ")\n",
    "\n",
    "# Agent focusing on sentiment analysis\n",
    "sentiment_agent = Agent(\n",
    "    name=\"SentimentAgent\",\n",
    "    instructions=\"Summarize the overall user sentiment from the review.\"\n",
    ")\n",
    "\n",
    "# Agent focusing on recommendation summary\n",
    "recommend_agent = Agent(\n",
    "    name=\"RecommendAgent\",\n",
    "    instructions=\"State whether you would recommend this product and why.\"\n",
    ")\n",
    "\n",
    "parallel_agents = [\n",
    "    features_agent,\n",
    "    pros_cons_agent,\n",
    "    sentiment_agent,\n",
    "    recommend_agent\n",
    "]\n",
    "\n",
    "# Meta-agent to combine outputs\n",
    "meta_agent = Agent(\n",
    "    name=\"MetaAgent\",\n",
    "    instructions=\"You are given multiple summaries labeled with Features, ProsCons, Sentiment, and a Recommendation.\"\n",
    "    \" Combine them into a concise executive summary of the product review with a 1-5 star rating for each summary area.\"\n",
    ")\n"
   ]
  },
  {
   "cell_type": "code",
   "execution_count": 34,
   "metadata": {},
   "outputs": [],
   "source": [
    "starts, ends = [], []\n",
    "async def run_agent(agent, review_text: str):\n",
    "    agent_name = agent.name\n",
    "\n",
    "    start = time.time()\n",
    "    starts.append((agent_name, start))\n",
    "\n",
    "    result = await Runner.run(agent, review_text)\n",
    "\n",
    "    end = time.time()\n",
    "    ends.append((agent_name, end))\n",
    "\n",
    "    return result"
   ]
  },
  {
   "cell_type": "markdown",
   "metadata": {},
   "source": [
    "3. Create function for parallel execution"
   ]
  },
  {
   "cell_type": "code",
   "execution_count": 35,
   "metadata": {},
   "outputs": [],
   "source": [
    "async def run_agents(review_text: str):\n",
    "    responses = await asyncio.gather(\n",
    "        *(run_agent(agent, review_text) for agent in parallel_agents)\n",
    "    )\n",
    "\n",
    "    labeled_summaries = [\n",
    "        f\"### {resp.last_agent.name}\\n{resp.final_output}\"\n",
    "        for resp in responses\n",
    "    ]\n",
    "\n",
    "    collected_summaries = \"\\n\".join(labeled_summaries)\n",
    "    final_summary = await run_agent(meta_agent, collected_summaries)\n",
    "\n",
    "\n",
    "    print('Final summary:', final_summary.final_output)\n",
    "\n",
    "    return"
   ]
  },
  {
   "cell_type": "code",
   "execution_count": 36,
   "metadata": {},
   "outputs": [
    {
     "name": "stdout",
     "output_type": "stream",
     "text": [
      "Final summary: ### Executive Summary\n",
      "\n",
      "**AuroraSound X2 Wireless Noise-Cancelling Headphones**\n",
      "\n",
      "**Features (4/5):**  \n",
      "The AuroraSound X2 boasts a premium design with matte‐finish ear cups and a memory‐foam headband ensuring comfort during long usage. Connectivity is seamless via Bluetooth 5.2, and the headphones offer effective active noise-cancelling (ANC) and a well-tuned \"Transparency\" mode. Audio quality is superior, with rich sound supported by customizable EQ presets. Though the touch controls are intuitive, they can be overly sensitive. The battery life is impressive, offering over 30 hours with ANC and a quick-charge feature. However, the carrying case is bulky, and color choices are limited to black or white.\n",
      "\n",
      "**Pros & Cons (4/5):**  \n",
      "Pros include the premium design, comfort, seamless connectivity, excellent noise-cancelling, rich audio quality, and long battery life. Cons are minor, including the bulky carrying case, touch interface sensitivity, and limited color options. \n",
      "\n",
      "**Sentiment (5/5):**  \n",
      "User sentiment is overwhelmingly positive, highlighting the headphones' design, noise-cancellation, sound quality, and connectivity. Minor issues with the carrying case and touch controls do not significantly impact the overall satisfaction.\n",
      "\n",
      "**Recommendation (5/5):**  \n",
      "The AuroraSound X2 is highly recommended for its design, comfort, impressive connectivity, and noise-cancelling capabilities. Despite minor drawbacks, the headphones' performance, sound quality, and features make it a solid choice for high-quality audio needs.\n",
      "\n",
      "**Overall Rating: 4.5/5**  \n",
      "The AuroraSound X2 offers a compelling package for those seeking premium wireless noise-cancelling headphones, making it a worthy investment.\n"
     ]
    },
    {
     "data": {
      "image/png": "[encoded data removed]",
      "text/plain": [
       "<Figure size 800x300 with 1 Axes>"
      ]
     },
     "metadata": {},
     "output_type": "display_data"
    }
   ],
   "source": [
    "review_text = \"\"\"\n",
    "I recently upgraded to the AuroraSound X2 wireless noise-cancelling headphones, and after two weeks of daily use I have quite a bit to share. First off, the design feels premium without being flashy: the matte‐finish ear cups are softly padded and rotate smoothly for storage, while the headband’s memory‐foam cushion barely presses on my temples even after marathon work calls. Connectivity is seamless—pairing with my laptop and phone took under five seconds each time, and the Bluetooth 5.2 link held rock-solid through walls and down the hallway.\n",
    "\n",
    "The noise-cancelling performance is genuinely impressive. In a busy café with music and chatter swirling around, flipping on ANC immediately quiets low-level ambient hums, and it even attenuates sudden noises—like the barista’s milk frother—without sounding distorted. The “Transparency” mode is equally well‐tuned: voices come through clearly, but the world outside isn’t overwhelmingly loud. Audio quality in standard mode is rich and balanced, with tight bass, clear mids, and a hint of sparkle in the highs. There’s also a dedicated EQ app, where you can toggle between “Podcast,” “Bass Boost,” and “Concert Hall” presets or craft your own curve.\n",
    "\n",
    "On the control front, intuitive touch panels let you play/pause, skip tracks, and adjust volume with a simple swipe or tap. One neat trick: holding down on the right ear cup invokes your phone’s voice assistant. Battery life lives up to the hype, too—over 30 hours with ANC on, and the quick‐charge feature delivers 2 hours of playtime from just a 10-minute top-up.\n",
    "\n",
    "That said, it isn’t perfect. For one, the carrying case is a bit bulky, so it doesn’t slip easily into a slim bag. And while the touch interface is mostly reliable, I occasionally trigger a pause when trying to adjust the cup position. The headphones also come in only two colorways—black or white—which feels limiting given the premium price point.\n",
    "\"\"\"\n",
    "\n",
    "asyncio.get_event_loop().run_until_complete(run_agents(review_text))\n",
    "\n",
    "# Plot the timeline of the agents\n",
    "# normalize times to zero\n",
    "base = min(t for _, t in starts)\n",
    "labels = [n for n, _ in starts]\n",
    "start_offsets = [t - base for _, t in starts]\n",
    "lengths = [ends[i][1] - starts[i][1] for i in range(len(starts))]\n",
    "\n",
    "plt.figure(figsize=(8, 3))\n",
    "plt.barh(labels, lengths, left=start_offsets)\n",
    "plt.xlabel(\"Seconds since kickoff\")\n",
    "plt.title(\"Agent Execution Timeline\")\n",
    "plt.show()"
   ]
  }
 ],
 "metadata": {
  "kernelspec": {
   "display_name": ".venv",
   "language": "python",
   "name": "python3"
  },
  "language_info": {
   "codemirror_mode": {
    "name": "ipython",
    "version": 3
   },
   "file_extension": ".py",
   "mimetype": "text/x-python",
   "name": "python",
   "nbconvert_exporter": "python",
   "pygments_lexer": "ipython3",
   "version": "3.11.8"
  }
 },
 "nbformat": 4,
 "nbformat_minor": 2
}
