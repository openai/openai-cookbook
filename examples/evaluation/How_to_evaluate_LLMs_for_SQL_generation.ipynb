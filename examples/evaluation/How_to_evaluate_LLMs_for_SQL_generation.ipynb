{
 "cells": [
  {
   "cell_type": "markdown",
   "id": "d5dd7679-5ed6-4243-8e0f-549f8118bff7",
   "metadata": {},
   "source": [
    "# How to test and evaluate LLMs for SQL generation\n",
    "\n",
    "LLMs are fundamentatlly non-deterministic in their responses, this attribute makes them wonderfully creative and dynamic in their responses. However, this trait poses significant challenges in achieving consistency, a crucial aspect for integrating LLMs into production environments.\n",
    "\n",
    "The key to harnessing the potential of LLMs in practical applications lies in consistent and systematic evaluation. This enables the identification and rectification of inconsistencies and helps in monitoring progress over time as the application evolves.\n",
    "\n",
    "## Scope of this notebook\n",
    "\n",
    "This notebook aims to demonstrate a framework for evaluating LLMs, particularly focusing on:\n",
    "\n",
    "* **Unit Testing:** Essential for assessing individual components of the application.\n",
    "* **Evaluation Metrics:** Methods to quantitatively measure the model's effectiveness.\n",
    "* **Runbook Documentation:** A record of historical evaluations to track progress and regression.\n",
    "\n",
    "This example focuses on a natural language to SQL use case - code generation use cases fit well with this approach when you combine **code validation** with **code execution**, so your application can test code for real as it is generated to ensure consistency.\n",
    "\n",
    "Although this notebook uses SQL generation usecase to demonstrate the concept, the approach is generic and can be applied to a wide variety of LLM driven applications.\n",
    "\n",
    "We will use two versions of a prompt to perform SQL generation.  We will then use the unit tests and evaluation functions to test the perforamance of the prompts.  Specifically, in this demonstration, we will evaluate:\n",
    "\n",
    "1. The consistency of JSON response.\n",
    "2. Syntactic correctness of SQL in response.\n",
    "\n",
    "\n",
    "## Table of contents\n",
    "\n",
    "1. **[Setup](#Setup):** Install required libraries, download data consisting of SQL queries and corresponding natural language translations.\n",
    "2. **[Test Development](#Test-development):** Create unit tests and define evaluation metrics for the SQL generation process.\n",
    "4. **[Evaluation](#Evaluation):** Conduct tests using different prompts to assess the impact on performance.\n",
    "5. **[Reporting](#Report):** Compile a report that succinctly presents the performance differences observed across various tests."
   ]
  },
  {
   "cell_type": "markdown",
   "id": "2913d615",
   "metadata": {},
   "source": [
    "## Setup\n",
    "\n",
    "Import our libraries and the dataset we'll use, which is the natural language to SQL [b-mc2/sql-create-context](https://huggingface.co/datasets/b-mc2/sql-create-context) dataset from HuggingFace."
   ]
  },
  {
   "cell_type": "code",
   "execution_count": 94,
   "id": "245fcedb",
   "metadata": {},
   "outputs": [
    {
     "name": "stdout",
     "output_type": "stream",
     "text": [
      "cannot find .env file\n"
     ]
    }
   ],
   "source": [
    "from datasets import load_dataset\n",
    "from openai import OpenAI\n",
    "import pandas as pd\n",
    "import pydantic\n",
    "import os\n",
    "import sqlite3\n",
    "from sqlite3 import Error\n",
    "from pprint import pprint\n",
    "import matplotlib.pyplot as plt\n",
    "import numpy as np\n",
    "from dotenv import load_dotenv\n",
    "\n",
    "# Loads key from local .env file to setup API KEY in env variables\n",
    "%reload_ext dotenv\n",
    "%dotenv\n",
    "    \n",
    "GPT_MODEL = 'gpt-4o'\n",
    "dataset = load_dataset(\"b-mc2/sql-create-context\")"
   ]
  },
  {
   "cell_type": "markdown",
   "id": "04c7fde6-d7dc-4a0d-b9a0-32858f3bac25",
   "metadata": {},
   "source": [
    "### Looking at the dataset\n",
    "\n",
    "We use Huggingface datasets library to download SQL create context dataset.  This dataset consists of:\n",
    "\n",
    "1. Question, expressed in natural language\n",
    "2. Answer, expressed in SQL designed to answer the question in natural language.\n",
    "3. Context, expressed as a CREATE SQL statement, that describes the table that may be used to answer the question.\n",
    "\n",
    "In our demonstration today, we will use LLM to attempt to answer the question (in natural language).  The LLM will be expected to generate a CREATE SQL statement to create a context suitable to answer the user question and a coresponding SELECT SQL query designed to answer the user question completely.\n",
    "\n",
    "The dataset looks like this:"
   ]
  },
  {
   "cell_type": "code",
   "execution_count": 95,
   "id": "f8027115",
   "metadata": {},
   "outputs": [
    {
     "data": {
      "text/html": [
       "<div>\n",
       "<style scoped>\n",
       "    .dataframe tbody tr th:only-of-type {\n",
       "        vertical-align: middle;\n",
       "    }\n",
       "\n",
       "    .dataframe tbody tr th {\n",
       "        vertical-align: top;\n",
       "    }\n",
       "\n",
       "    .dataframe thead th {\n",
       "        text-align: right;\n",
       "    }\n",
       "</style>\n",
       "<table border=\"1\" class=\"dataframe\">\n",
       "  <thead>\n",
       "    <tr style=\"text-align: right;\">\n",
       "      <th></th>\n",
       "      <th>answer</th>\n",
       "      <th>question</th>\n",
       "      <th>context</th>\n",
       "    </tr>\n",
       "  </thead>\n",
       "  <tbody>\n",
       "    <tr>\n",
       "      <th>0</th>\n",
       "      <td>SELECT COUNT(*) FROM head WHERE age &gt; 56</td>\n",
       "      <td>How many heads of the departments are older th...</td>\n",
       "      <td>CREATE TABLE head (age INTEGER)</td>\n",
       "    </tr>\n",
       "    <tr>\n",
       "      <th>1</th>\n",
       "      <td>SELECT name, born_state, age FROM head ORDER B...</td>\n",
       "      <td>List the name, born state and age of the heads...</td>\n",
       "      <td>CREATE TABLE head (name VARCHAR, born_state VA...</td>\n",
       "    </tr>\n",
       "    <tr>\n",
       "      <th>2</th>\n",
       "      <td>SELECT creation, name, budget_in_billions FROM...</td>\n",
       "      <td>List the creation year, name and budget of eac...</td>\n",
       "      <td>CREATE TABLE department (creation VARCHAR, nam...</td>\n",
       "    </tr>\n",
       "    <tr>\n",
       "      <th>3</th>\n",
       "      <td>SELECT MAX(budget_in_billions), MIN(budget_in_...</td>\n",
       "      <td>What are the maximum and minimum budget of the...</td>\n",
       "      <td>CREATE TABLE department (budget_in_billions IN...</td>\n",
       "    </tr>\n",
       "    <tr>\n",
       "      <th>4</th>\n",
       "      <td>SELECT AVG(num_employees) FROM department WHER...</td>\n",
       "      <td>What is the average number of employees of the...</td>\n",
       "      <td>CREATE TABLE department (num_employees INTEGER...</td>\n",
       "    </tr>\n",
       "  </tbody>\n",
       "</table>\n",
       "</div>"
      ],
      "text/plain": [
       "                                              answer  \\\n",
       "0           SELECT COUNT(*) FROM head WHERE age > 56   \n",
       "1  SELECT name, born_state, age FROM head ORDER B...   \n",
       "2  SELECT creation, name, budget_in_billions FROM...   \n",
       "3  SELECT MAX(budget_in_billions), MIN(budget_in_...   \n",
       "4  SELECT AVG(num_employees) FROM department WHER...   \n",
       "\n",
       "                                            question  \\\n",
       "0  How many heads of the departments are older th...   \n",
       "1  List the name, born state and age of the heads...   \n",
       "2  List the creation year, name and budget of eac...   \n",
       "3  What are the maximum and minimum budget of the...   \n",
       "4  What is the average number of employees of the...   \n",
       "\n",
       "                                             context  \n",
       "0                    CREATE TABLE head (age INTEGER)  \n",
       "1  CREATE TABLE head (name VARCHAR, born_state VA...  \n",
       "2  CREATE TABLE department (creation VARCHAR, nam...  \n",
       "3  CREATE TABLE department (budget_in_billions IN...  \n",
       "4  CREATE TABLE department (num_employees INTEGER...  "
      ]
     },
     "execution_count": 95,
     "metadata": {},
     "output_type": "execute_result"
    }
   ],
   "source": [
    "sql_df = dataset['train'].to_pandas()\n",
    "sql_df.head()"
   ]
  },
  {
   "cell_type": "markdown",
   "id": "b04cb5eb",
   "metadata": {},
   "source": [
    "\n",
    "## Test development\n",
    "\n",
    "To test to output of the LLM generations, we'll develop two unit tests and an evaluation, which will combine to give us a basic evaluation framework to grade the quality of our LLM iterations.\n",
    "\n",
    "To re-iterate, our purpose is to measure the correctness and consistency of LLM output given our questions.\n",
    "\n",
    "### Unit tests\n",
    "\n",
    "Unit tests should test the most granular components of your LLM application.\n",
    "\n",
    "For this section we'll develop unit tests to test the following:\n",
    "- `test_valid_schema` will check that a parseable `create` and `select` statement are returned by the LLM.\n",
    "- `test_llm_sql` will execute both the `create` and `select` statements on a `sqlite` database to ensure they are syntactically correct."
   ]
  },
  {
   "cell_type": "code",
   "execution_count": 96,
   "id": "eb811101",
   "metadata": {},
   "outputs": [],
   "source": [
    "from pydantic import BaseModel\n",
    "\n",
    "\n",
    "class LLMResponse(BaseModel):\n",
    "    \"\"\"This simple Class expects to receive a JSON string that can be parsed into a `create` and `select` statement.\"\"\"\n",
    "    create: str\n",
    "    select: str"
   ]
  },
  {
   "cell_type": "markdown",
   "id": "19fadf67-8b2f-4e17-95df-030a36aad90b",
   "metadata": {},
   "source": [
    "#### Prompt\n",
    "\n",
    "For this demonstration purposes, we use a fairly simple prompt requesting GPT to generate a pair of context CREATE SQL and a answering SELECT SQL query.  We supply the natural language question as part of the prompt.  We request the response to be in JSON format, so that it can be parsed easily."
   ]
  },
  {
   "cell_type": "code",
   "execution_count": 98,
   "id": "c2be3ba4",
   "metadata": {},
   "outputs": [
    {
     "name": "stdout",
     "output_type": "stream",
     "text": [
      "('Translate this natural language request into a JSON object containing two '\n",
      " 'SQL queries. \\n'\n",
      " 'The first query should be a CREATE statement for a table answering the '\n",
      " \"user's request, while the second should be a SELECT query answering their \"\n",
      " 'question.')\n"
     ]
    }
   ],
   "source": [
    "system_prompt = '''Translate this natural language request into a JSON object containing two SQL queries. \n",
    "The first query should be a CREATE statement for a table answering the user's request, while the second should be a SELECT query answering their question.'''\n",
    "\n",
    "pprint(system_prompt)\n"
   ]
  },
  {
   "cell_type": "code",
   "execution_count": 99,
   "id": "3a20d712",
   "metadata": {},
   "outputs": [
    {
     "name": "stdout",
     "output_type": "stream",
     "text": [
      "[{'content': 'Translate this natural language request into a JSON object '\n",
      "             'containing two SQL queries. \\n'\n",
      "             'The first query should be a CREATE statement for a table '\n",
      "             \"answering the user's request, while the second should be a \"\n",
      "             'SELECT query answering their question.',\n",
      "  'role': 'system'},\n",
      " {'content': 'How many heads of the departments are older than 56 ?',\n",
      "  'role': 'user'}]\n"
     ]
    }
   ],
   "source": [
    "# Compiling the system prompt and user question into message array\n",
    "\n",
    "messages = []\n",
    "messages.append({\"role\": \"system\", \"content\": system_prompt})\n",
    "messages.append({\"role\":\"user\",\"content\": sql_df.iloc[0]['question']})\n",
    "pprint(messages)"
   ]
  },
  {
   "cell_type": "code",
   "execution_count": 116,
   "id": "38b704b3-6f0e-4708-bc70-96723d69da6f",
   "metadata": {},
   "outputs": [],
   "source": [
    "# Sending the message array to GPT, requesting a response (ensure that you have API key loaded to Env for this step)\n",
    "\n",
    "client = OpenAI()\n",
    "# completion = client.chat.completions.create(model = GPT_MODEL, messages = messages)\n",
    "\n",
    "\n",
    "completion = client.beta.chat.completions.parse(\n",
    "    model=GPT_MODEL,\n",
    "    messages=messages,\n",
    "    response_format=LLMResponse,\n",
    ")"
   ]
  },
  {
   "cell_type": "markdown",
   "id": "901e3bb7",
   "metadata": {},
   "source": [
    "#### Check JSON formatting\n",
    "\n",
    "Our first simple unit test checks that the LLM response is parseable into the `LLMResponse` Pydantic class that we've defined.\n",
    "\n",
    "We'll test that our first response passes, then create a failing example to check that the check fails. This logic will be wrapped in a simple function `test_valid_schema`."
   ]
  },
  {
   "cell_type": "code",
   "execution_count": 117,
   "id": "2b057391-4f83-4b5a-8843-a9ee74bee871",
   "metadata": {},
   "outputs": [
    {
     "name": "stdout",
     "output_type": "stream",
     "text": [
      "('{\"create\":\"CREATE TABLE Departments (\\\\n    DepartmentID INT PRIMARY '\n",
      " 'KEY,\\\\n    DepartmentName VARCHAR(255),\\\\n    HeadName VARCHAR(255),\\\\n    '\n",
      " 'HeadAge INT\\\\n);\",\"select\":\"SELECT COUNT(*) AS NumberOfHeadsOlderThan56 FROM '\n",
      " 'Departments WHERE HeadAge > 56;\"}')\n"
     ]
    }
   ],
   "source": [
    "# Viewing the output from  GPT\n",
    "\n",
    "content = completion.choices[0].message.content\n",
    "pprint(content)"
   ]
  },
  {
   "cell_type": "markdown",
   "id": "4b98bbb4-dd17-49bc-828c-e561abf5b481",
   "metadata": {},
   "source": [
    "#### Validating the output schema\n",
    "\n",
    "We expect GPT to respond with a valid SQL, we can validate this using LLMResponse base model.  `test_valid_schema` is designed to help us validate this."
   ]
  },
  {
   "cell_type": "code",
   "execution_count": 118,
   "id": "4c7133f1-74d6-43f1-9443-09a3f8308c35",
   "metadata": {},
   "outputs": [],
   "source": [
    "def test_valid_schema(content):\n",
    "    \"\"\"Tests whether the content provided can be parsed into our Pydantic model.\"\"\"\n",
    "    try:\n",
    "        LLMResponse.model_validate_json(content)\n",
    "        return True\n",
    "    # Catch pydantic's validation errors:\n",
    "    except pydantic.ValidationError as exc:\n",
    "        print(f\"ERROR: Invalid schema: {exc}\")\n",
    "        return False"
   ]
  },
  {
   "cell_type": "code",
   "execution_count": 119,
   "id": "6a9a9128",
   "metadata": {},
   "outputs": [
    {
     "data": {
      "text/plain": [
       "True"
      ]
     },
     "execution_count": 119,
     "metadata": {},
     "output_type": "execute_result"
    }
   ],
   "source": [
    "test_valid_schema(content)"
   ]
  },
  {
   "cell_type": "markdown",
   "id": "78f1af23-4dd0-4860-8a1a-88e5146be6ed",
   "metadata": {},
   "source": [
    "#### Testing negative scenario\n",
    "\n",
    "To simulate a scenario in which we get an invalid JSON response from GPT, we hardcode an invalid JSON as response.  We expect `test_valid_schema` function to throw an exception."
   ]
  },
  {
   "cell_type": "code",
   "execution_count": 120,
   "id": "a0a26690",
   "metadata": {},
   "outputs": [
    {
     "name": "stdout",
     "output_type": "stream",
     "text": [
      "ERROR: Invalid schema: 1 validation error for LLMResponse\n",
      "  Invalid JSON: expected value at line 1 column 1 [type=json_invalid, input_value='CREATE departments, select * from departments', input_type=str]\n",
      "    For further information visit https://errors.pydantic.dev/2.8/v/json_invalid\n"
     ]
    },
    {
     "data": {
      "text/plain": [
       "False"
      ]
     },
     "execution_count": 120,
     "metadata": {},
     "output_type": "execute_result"
    }
   ],
   "source": [
    "failing_query = 'CREATE departments, select * from departments'\n",
    "test_valid_schema(failing_query)"
   ]
  },
  {
   "cell_type": "markdown",
   "id": "a5fdc420-94cc-4e47-80e1-82bf51e44f2a",
   "metadata": {},
   "source": [
    "As expected, we get an exception thrown from the `test_valid_schema` fucntion."
   ]
  },
  {
   "cell_type": "markdown",
   "id": "a4e972cd-5734-43c0-a103-b9ceb41552fd",
   "metadata": {},
   "source": [
    "### Test SQL queries\n",
    "\n",
    "Next we'll validate the correctness of the SQL.  This test will be desined to validate:\n",
    "\n",
    "1. The CREATE SQL returned in GPT response is syntactically correct.\n",
    "2. The SELECT SQL returned in the GPT response is syntactically correct.\n",
    "\n",
    "To achieve this, we will use a sqlite instance. We will direct the retured SQL functions to a sqlite instance.  If the SQL statements are valid, sqlite instance will accept and execute the statements; otherwise we will expect an exception to be thrown.\n",
    "\n",
    "`create_connection` function below will setup a sqlite instance (in-memory by default) and create a connection to be used later."
   ]
  },
  {
   "cell_type": "code",
   "execution_count": 121,
   "id": "9cc95481",
   "metadata": {},
   "outputs": [],
   "source": [
    "# Set up SQLite to act as our test database\n",
    "def create_connection(db_file=\":memory:\"):\n",
    "    \"\"\"create a database connection to a SQLite database\"\"\"\n",
    "    try:\n",
    "        conn = sqlite3.connect(db_file)\n",
    "        # print(sqlite3.version)\n",
    "    except Error as e:\n",
    "        print(e)\n",
    "        return None\n",
    "\n",
    "    return conn\n",
    "\n",
    "def close_connection(conn):\n",
    "    \"\"\"close a database connection\"\"\"\n",
    "    try:\n",
    "        conn.close()\n",
    "    except Error as e:\n",
    "        print(e)\n",
    "\n",
    "\n",
    "conn = create_connection()"
   ]
  },
  {
   "cell_type": "markdown",
   "id": "aa5c5cb8-1c81-403b-a3f2-f2784d8235fc",
   "metadata": {},
   "source": [
    "Next, we will create the following functions to carry out the syntactical correctness checks.\n",
    "\n",
    "\n",
    "- `test_create`: Function testing if the CREATE SQL statement succeeds.\n",
    "- `test_select`: Function testing if the SELECT SQL statement succeeds.\n",
    "- `test_llm_sql`: Wrapper function executing the two tests above."
   ]
  },
  {
   "cell_type": "code",
   "execution_count": 122,
   "id": "c6d2573d",
   "metadata": {},
   "outputs": [],
   "source": [
    "def test_select(conn, cursor, select):\n",
    "    \"\"\"Tests that a SQLite select query can be executed successfully.\"\"\"\n",
    "    try:\n",
    "        print(f\"Testing select query: {select}\")\n",
    "        cursor.execute(select)\n",
    "        record = cursor.fetchall()\n",
    "        print(record)\n",
    "\n",
    "        return True\n",
    "\n",
    "    except sqlite3.Error as error:\n",
    "        print(\"Error while executing select query:\", error)\n",
    "\n",
    "        return False\n",
    "\n",
    "\n",
    "def test_create(conn, cursor, create):\n",
    "    \"\"\"Tests that a SQLite create query can be executed successfully\"\"\"\n",
    "    try:\n",
    "        print(f\"Testing create query: {create}\")\n",
    "        cursor.execute(create)\n",
    "        conn.commit()\n",
    "\n",
    "        return True\n",
    "\n",
    "    except sqlite3.Error as error:\n",
    "        print(\"Error while creating the SQLite table:\", error)\n",
    "\n",
    "        return False\n",
    "\n",
    "\n",
    "def test_llm_sql(LLMResponse):\n",
    "    \"\"\"Runs a suite of SQLite tests\"\"\"\n",
    "    try:\n",
    "        conn = create_connection()\n",
    "        cursor = conn.cursor()\n",
    "\n",
    "        create_response = test_create(conn, cursor, LLMResponse.create)\n",
    "\n",
    "        select_response = test_select(conn, cursor, LLMResponse.select)\n",
    "\n",
    "        if conn:\n",
    "            close_connection(conn)\n",
    "\n",
    "        if create_response is not True:\n",
    "            return False\n",
    "\n",
    "        elif select_response is not True:\n",
    "            return False\n",
    "\n",
    "        else:\n",
    "            return True\n",
    "\n",
    "    except sqlite3.Error as error:\n",
    "        print(\"Error while creating a sqlite table\", error)\n",
    "\n",
    "        return False"
   ]
  },
  {
   "cell_type": "code",
   "execution_count": 123,
   "id": "a9266753-4646-4901-bc14-632d3bf47aaa",
   "metadata": {},
   "outputs": [
    {
     "name": "stdout",
     "output_type": "stream",
     "text": [
      "CREATE SQL is: CREATE TABLE Departments (\n",
      "    DepartmentID INT PRIMARY KEY,\n",
      "    DepartmentName VARCHAR(255),\n",
      "    HeadName VARCHAR(255),\n",
      "    HeadAge INT\n",
      ");\n",
      "SELECT SQL is: SELECT COUNT(*) AS NumberOfHeadsOlderThan56 FROM Departments WHERE HeadAge > 56;\n"
     ]
    }
   ],
   "source": [
    "# Viewing CREATE and SELECT sqls returned by GPT\n",
    "\n",
    "test_query = LLMResponse.model_validate_json(content)\n",
    "print(f\"CREATE SQL is: {test_query.create}\")\n",
    "print(f\"SELECT SQL is: {test_query.select}\")"
   ]
  },
  {
   "cell_type": "code",
   "execution_count": 124,
   "id": "83bc1f1b",
   "metadata": {},
   "outputs": [
    {
     "name": "stdout",
     "output_type": "stream",
     "text": [
      "Testing create query: CREATE TABLE Departments (\n",
      "    DepartmentID INT PRIMARY KEY,\n",
      "    DepartmentName VARCHAR(255),\n",
      "    HeadName VARCHAR(255),\n",
      "    HeadAge INT\n",
      ");\n",
      "Testing select query: SELECT COUNT(*) AS NumberOfHeadsOlderThan56 FROM Departments WHERE HeadAge > 56;\n",
      "[(0,)]\n"
     ]
    },
    {
     "data": {
      "text/plain": [
       "True"
      ]
     },
     "execution_count": 124,
     "metadata": {},
     "output_type": "execute_result"
    }
   ],
   "source": [
    "# Testing the CREATE and SELECT sqls are valid (we expect this to be succesful)\n",
    "\n",
    "test_llm_sql(test_query)"
   ]
  },
  {
   "cell_type": "code",
   "execution_count": 125,
   "id": "589c7cc7",
   "metadata": {},
   "outputs": [
    {
     "name": "stdout",
     "output_type": "stream",
     "text": [
      "Testing create query: CREATE TABLE departments (id INT, name VARCHAR(255), head_of_department VARCHAR(255))\n",
      "Testing select query: SELECT COUNT(*) FROM departments WHERE age > 56\n",
      "Error while executing select query: no such column: age\n"
     ]
    },
    {
     "data": {
      "text/plain": [
       "False"
      ]
     },
     "execution_count": 125,
     "metadata": {},
     "output_type": "execute_result"
    }
   ],
   "source": [
    "# Again we'll perform a negative test to confirm that a failing SELECT will return an error.\n",
    "\n",
    "test_failure_query = '{\"create\": \"CREATE TABLE departments (id INT, name VARCHAR(255), head_of_department VARCHAR(255))\", \"select\": \"SELECT COUNT(*) FROM departments WHERE age > 56\"}'\n",
    "test_failure_query = LLMResponse.model_validate_json(test_failure_query)\n",
    "test_llm_sql(test_failure_query)"
   ]
  },
  {
   "cell_type": "markdown",
   "id": "8148f820",
   "metadata": {},
   "source": [
    "### Evaluation\n",
    "\n",
    "The last component is to **evaluate** whether the generate SQL actually answers the user's question. This test will be performed by `gpt-4o-mini`, and will assess how **relevant** the produced SQL query is when compared to the initial user request.\n",
    "\n",
    "This is a simple example which adapts an approach outlined in the [G-Eval paper](https://arxiv.org/abs/2303.16634), and tested in one of our other [cookbooks](https://github.com/openai/openai-cookbook/blob/main/examples/evaluation/How_to_eval_abstractive_summarization.ipynb)."
   ]
  },
  {
   "cell_type": "code",
   "execution_count": 126,
   "id": "029c8426",
   "metadata": {},
   "outputs": [],
   "source": [
    "EVALUATION_MODEL = \"gpt-4o-mini\"\n",
    "\n",
    "EVALUATION_PROMPT_TEMPLATE = \"\"\"\n",
    "You will be given one summary written for an article. Your task is to rate the summary on one metric.\n",
    "Please make sure you read and understand these instructions very carefully. \n",
    "Please keep this document open while reviewing, and refer to it as needed.\n",
    "\n",
    "Evaluation Criteria:\n",
    "\n",
    "{criteria}\n",
    "\n",
    "Evaluation Steps:\n",
    "\n",
    "{steps}\n",
    "\n",
    "Example:\n",
    "\n",
    "Request:\n",
    "\n",
    "{request}\n",
    "\n",
    "Queries:\n",
    "\n",
    "{queries}\n",
    "\n",
    "Evaluation Form (scores ONLY):\n",
    "\n",
    "- {metric_name}\n",
    "\"\"\"\n",
    "\n",
    "# Relevance\n",
    "\n",
    "RELEVANCY_SCORE_CRITERIA = \"\"\"\n",
    "Relevance(1-5) - review of how relevant the produced SQL queries are to the original question. \\\n",
    "The queries should contain all points highlighted in the user's request. \\\n",
    "Annotators were instructed to penalize queries which contained redundancies and excess information.\n",
    "\"\"\"\n",
    "\n",
    "RELEVANCY_SCORE_STEPS = \"\"\"\n",
    "1. Read the request and the queries carefully.\n",
    "2. Compare the queries to the request document and identify the main points of the request.\n",
    "3. Assess how well the queries cover the main points of the request, and how much irrelevant or redundant information it contains.\n",
    "4. Assign a relevance score from 1 to 5.\n",
    "\"\"\""
   ]
  },
  {
   "cell_type": "code",
   "execution_count": 127,
   "id": "85cfb78d",
   "metadata": {},
   "outputs": [],
   "source": [
    "def get_geval_score(\n",
    "    criteria: str, steps: str, request: str, queries: str, metric_name: str\n",
    "):\n",
    "    \"\"\"Given evaluation criteria and an observation, this function uses EVALUATION GPT to evaluate the observation against those criteria.\n",
    "\"\"\"\n",
    "    prompt = EVALUATION_PROMPT_TEMPLATE.format(\n",
    "        criteria=criteria,\n",
    "        steps=steps,\n",
    "        request=request,\n",
    "        queries=queries,\n",
    "        metric_name=metric_name,\n",
    "    )\n",
    "    response = client.chat.completions.create(\n",
    "        model=EVALUATION_MODEL,\n",
    "        messages=[{\"role\": \"user\", \"content\": prompt}],\n",
    "        temperature=0,\n",
    "        max_tokens=5,\n",
    "        top_p=1,\n",
    "        frequency_penalty=0,\n",
    "        presence_penalty=0,\n",
    "    )\n",
    "    return response.choices[0].message.content"
   ]
  },
  {
   "cell_type": "code",
   "execution_count": 128,
   "id": "607ee304",
   "metadata": {},
   "outputs": [],
   "source": [
    "# Test out evaluation on a few records\n",
    "\n",
    "evaluation_results = []\n",
    "\n",
    "for x,y in sql_df.head(3).iterrows():\n",
    "    \n",
    "    score = get_geval_score(RELEVANCY_SCORE_CRITERIA,RELEVANCY_SCORE_STEPS,y['question'],y['context'] + '\\n' + y['answer'],'relevancy')\n",
    "    \n",
    "    evaluation_results.append((y['question'],y['context'] + '\\n' + y['answer'],score))"
   ]
  },
  {
   "cell_type": "code",
   "execution_count": 129,
   "id": "bd1002c2",
   "metadata": {},
   "outputs": [
    {
     "name": "stdout",
     "output_type": "stream",
     "text": [
      "User Question \t: How many heads of the departments are older than 56 ?\n",
      "CREATE SQL Returned \t: CREATE TABLE head (age INTEGER)\n",
      "SELECT SQL Returned \t: SELECT COUNT(*) FROM head WHERE age > 56\n",
      "5\n",
      "********************\n",
      "User Question \t: List the name, born state and age of the heads of departments ordered by age.\n",
      "CREATE SQL Returned \t: CREATE TABLE head (name VARCHAR, born_state VARCHAR, age VARCHAR)\n",
      "SELECT SQL Returned \t: SELECT name, born_state, age FROM head ORDER BY age\n",
      "4\n",
      "********************\n",
      "User Question \t: List the creation year, name and budget of each department.\n",
      "CREATE SQL Returned \t: CREATE TABLE department (creation VARCHAR, name VARCHAR, budget_in_billions VARCHAR)\n",
      "SELECT SQL Returned \t: SELECT creation, name, budget_in_billions FROM department\n",
      "4\n",
      "********************\n"
     ]
    }
   ],
   "source": [
    "for result in evaluation_results:\n",
    "    print(f\"User Question \\t: {result[0]}\")\n",
    "    print(f\"CREATE SQL Returned \\t: {result[1].splitlines()[0]}\")\n",
    "    print(f\"SELECT SQL Returned \\t: {result[1].splitlines()[1]}\")\n",
    "    print(f\"{result[2]}\")\n",
    "    print(\"*\" * 20)"
   ]
  },
  {
   "cell_type": "markdown",
   "id": "afe98f7a-3e88-437f-a5cd-d105969d3020",
   "metadata": {},
   "source": [
    "## "
   ]
  },
  {
   "cell_type": "markdown",
   "id": "fe04c6c7",
   "metadata": {},
   "source": [
    "## Putting it all together\n",
    "\n",
    "We'll now test these functions in combination including our unit test and evaluations to test out two system prompts.\n",
    "\n",
    "Each iteration of input/output and scores should be stored as a **run**. Optionally you can add GPT-4 annotation within your evaluations or as a separate step to review an entire run and highlight the reasons for errors.\n",
    "\n",
    "For this example, the second system prompt will include an extra line of clarification, so we can assess the impact of this for both SQL validity and quality of solution."
   ]
  },
  {
   "cell_type": "markdown",
   "id": "61b68e2a",
   "metadata": {},
   "source": [
    "### First run - System Prompt 1\n",
    "\n",
    "The system under test is the first system prompt as shown below.  This `run` will generate responses for this system prompt and evaluate the responses using the functions we've created so far."
   ]
  },
  {
   "cell_type": "code",
   "execution_count": 115,
   "id": "85c44a17",
   "metadata": {},
   "outputs": [
    {
     "name": "stdout",
     "output_type": "stream",
     "text": [
      "('Translate this natural language request into a JSON object containing two SQL queries. \\n'\n",
      " \"The first query should be a CREATE statement for a table answering the user's request, while the second should be a \"\n",
      " 'SELECT query answering their question. \\n')\n"
     ]
    }
   ],
   "source": [
    "# Set first system prompt\n",
    "system_prompt = \"\"\"Translate this natural language request into a JSON object containing two SQL queries. \n",
    "The first query should be a CREATE statement for a table answering the user's request, while the second should be a SELECT query answering their question. \n",
    "\"\"\"\n",
    "\n",
    "pprint(system_prompt, width = 120)"
   ]
  },
  {
   "cell_type": "code",
   "execution_count": 130,
   "id": "1244c44e",
   "metadata": {},
   "outputs": [],
   "source": [
    "def get_response(system_prompt,user_message,model=GPT_MODEL):\n",
    "    messages = []\n",
    "    messages.append({\"role\": \"system\", \"content\": system_prompt})\n",
    "    messages.append({\"role\":\"user\",\"content\": user_message})\n",
    "\n",
    "    response = client.beta.chat.completions.parse(\n",
    "        model=GPT_MODEL,\n",
    "        messages=messages,\n",
    "        response_format=LLMResponse,\n",
    "    )\n",
    "\n",
    "    \n",
    "    # response = client.chat.completions.create(model=GPT_MODEL,messages=messages,temperature=0,response_format=LLMResponse)\n",
    "    \n",
    "    return response.choices[0].message.content"
   ]
  },
  {
   "cell_type": "markdown",
   "id": "76c2723b-3060-400f-b6fe-c3c3c9d6907e",
   "metadata": {},
   "source": [
    "#### Run the tests and evaluations\n",
    "\n",
    "The functions below, run unit test and evaluate responses"
   ]
  },
  {
   "cell_type": "code",
   "execution_count": 131,
   "id": "a98afa30",
   "metadata": {},
   "outputs": [],
   "source": [
    "def execute_unit_tests(input_df,output_list,system_prompt):\n",
    "    \"\"\"Unit testing function that takes in a dataframe and appends test results to an output_list.\n",
    "    The system prompt is configurable to allow us to test a couple with this framework.\"\"\"\n",
    "\n",
    "    for x,y in input_df.iterrows():\n",
    "        model_response = get_response(system_prompt,y['question'])\n",
    "\n",
    "        format_valid = test_valid_schema(model_response)\n",
    "\n",
    "        try:\n",
    "            test_query = LLMResponse.model_validate_json(model_response)\n",
    "            sql_valid = test_llm_sql(test_query)\n",
    "\n",
    "        except:\n",
    "            sql_valid = False\n",
    "\n",
    "        output_list.append((y['question'],model_response,format_valid,sql_valid))\n",
    "        \n",
    "def evaluate_row(row):\n",
    "    \"\"\"Simple evaluation function to categorize unit testing results. \n",
    "    If the format or SQL are flagged it returns a label, otherwise it is correct\"\"\"\n",
    "    if row['format'] == False:\n",
    "        return 'Format incorrect'\n",
    "    \n",
    "    elif row['sql'] == False:\n",
    "        return 'SQL incorrect'\n",
    "    \n",
    "    else:\n",
    "        return 'SQL correct'"
   ]
  },
  {
   "cell_type": "code",
   "execution_count": 132,
   "id": "898e5069",
   "metadata": {},
   "outputs": [],
   "source": [
    "# Select 100 unseen queries to test this one\n",
    "test_df = sql_df.tail(50)"
   ]
  },
  {
   "cell_type": "code",
   "execution_count": 133,
   "id": "2baec278",
   "metadata": {},
   "outputs": [
    {
     "name": "stdout",
     "output_type": "stream",
     "text": [
      "Testing create query: CREATE TABLE partnerships (\n",
      "  id INT AUTO_INCREMENT PRIMARY KEY,\n",
      "  player1 VARCHAR(255),\n",
      "  player2 VARCHAR(255),\n",
      "  venue VARCHAR(255),\n",
      "  date DATE\n",
      ");\n",
      "Testing select query: SELECT venue FROM partnerships WHERE player1 = 'shoaib malik' AND player2 = 'misbah-ul-haq';\n",
      "[]\n",
      "Testing create query: CREATE TABLE cricket_partnerships (\n",
      "    id INT PRIMARY KEY,\n",
      "    batsman_1 VARCHAR(100),\n",
      "    batsman_2 VARCHAR(100),\n",
      "    venue VARCHAR(255)\n",
      ");\n",
      "Testing select query: SELECT venue FROM cricket_partnerships WHERE batsman_1 = 'Herschelle Gibbs' AND batsman_2 = 'Justin Kemp';\n",
      "[]\n",
      "Testing create query: CREATE TABLE PointsTable (\n",
      "    Number INT NOT NULL,\n",
      "    Played INT NOT NULL,\n",
      "    Points INT NOT NULL\n",
      ");\n",
      "Testing select query: SELECT Played FROM PointsTable WHERE Points = 310;\n",
      "[]\n",
      "Testing create query: CREATE TABLE teams (\n",
      "    id INT PRIMARY KEY,\n",
      "    name VARCHAR(100),\n",
      "    losing_bonus INT,\n",
      "    points_against INT\n",
      ");\n",
      "Testing select query: SELECT losing_bonus FROM teams WHERE points_against = 588;\n",
      "[]\n",
      "Testing create query: CREATE TABLE TriesAgainst (ID INT, TeamID INT, OpponentID INT, MatchDate DATE, TriesAgainst INT, LosingBonus INT);\n",
      "Testing select query: SELECT * FROM TriesAgainst WHERE LosingBonus = 7;\n",
      "[]\n",
      "Testing create query: CREATE TABLE RugbyTeamStats (\n",
      "    TeamName VARCHAR(255),\n",
      "    TryBonus INT,\n",
      "    PointsAgainst INT\n",
      ");\n",
      "Testing select query: SELECT TryBonus FROM RugbyTeamStats WHERE PointsAgainst = 488;\n",
      "[]\n",
      "Testing create query: CREATE TABLE Points (\n",
      "    id INT PRIMARY KEY,\n",
      "    try_bonus INT,\n",
      "    description VARCHAR(255)\n",
      ");\n",
      "Testing select query: SELECT * FROM Points WHERE try_bonus = 140;\n",
      "[]\n",
      "Testing create query: CREATE TABLE DrawnMatches (\n",
      "    MatchID INT PRIMARY KEY,\n",
      "    TriesAgainst INT,\n",
      "    Result VARCHAR(10)\n",
      ");\n",
      "Testing select query: SELECT MatchID FROM DrawnMatches WHERE TriesAgainst = 0 AND Result = 'Drawn';\n",
      "[]\n",
      "Testing create query: CREATE TABLE champions (\n",
      "    id INT PRIMARY KEY,\n",
      "    name VARCHAR(255),\n",
      "    reign_days INT,\n",
      "    defenses INT\n",
      ");\n",
      "Testing select query: SELECT reign_days FROM champions WHERE reign_days > 3 AND defenses = 1;\n",
      "[]\n",
      "Testing create query: CREATE TABLE champions (\n",
      "    champion_id INT PRIMARY KEY,\n",
      "    name VARCHAR(255) NOT NULL,\n",
      "    days_held INT NOT NULL,\n",
      "    reign INT NOT NULL,\n",
      "    defenses INT NOT NULL\n",
      ");\n",
      "Testing select query: SELECT days_held FROM champions WHERE reign > 3 AND defenses < 1;\n",
      "[]\n",
      "Testing create query: CREATE TABLE champions (\n",
      "    id INT PRIMARY KEY,\n",
      "    name VARCHAR(255),\n",
      "    days_held INT,\n",
      "    reign INT,\n",
      "    defenses INT\n",
      ");\n",
      "Testing select query: SELECT AVG(defenses) AS average_defenses \n",
      "FROM champions \n",
      "WHERE days_held = 404 AND reign > 1;\n",
      "[(None,)]\n",
      "Testing create query: CREATE TABLE champions (\n",
      "    id SERIAL PRIMARY KEY,\n",
      "    champion_name VARCHAR(255),\n",
      "    defense INT,\n",
      "    days_held INT\n",
      ");\n",
      "Testing select query: SELECT MIN(defense) AS lowest_defense\n",
      "FROM champions\n",
      "WHERE days_held = 345;\n",
      "[(None,)]\n",
      "Testing create query: CREATE TABLE GameScores (\n",
      "    game_id INT PRIMARY KEY,\n",
      "    score_team1 INT,\n",
      "    score_team2 INT,\n",
      "    match_date DATE\n",
      ");\n",
      "Testing select query: SELECT match_date FROM GameScores WHERE score_team1 = 76 AND score_team2 = 72;\n",
      "[]\n",
      "Testing create query: CREATE TABLE GameResults (\n",
      "    date DATE,\n",
      "    team VARCHAR(50),\n",
      "    opponent VARCHAR(50),\n",
      "    result VARCHAR(10),\n",
      "    pitcher VARCHAR(50),\n",
      "    record VARCHAR(10),\n",
      "    attendance INT\n",
      ");\n",
      "Testing select query: SELECT attendance FROM GameResults WHERE pitcher = 'Ponson' AND record = '1-5' AND result = 'loss';\n",
      "[]\n",
      "Testing create query: CREATE TABLE Records (\n",
      "    record_id INT PRIMARY KEY,\n",
      "    date DATE NOT NULL,\n",
      "    value VARCHAR(10) NOT NULL\n",
      ");\n",
      "Testing select query: SELECT date FROM Records WHERE value = '36-39';\n",
      "[]\n",
      "Testing create query: CREATE TABLE records (\n",
      "    id INT AUTO_INCREMENT PRIMARY KEY,\n",
      "    record VARCHAR(10) NOT NULL,\n",
      "    record_date DATE NOT NULL\n",
      ");\n",
      "Testing select query: SELECT record_date FROM records WHERE record = '30-31';\n",
      "[]\n",
      "Testing create query: CREATE TABLE games (\n",
      "    id SERIAL PRIMARY KEY,\n",
      "    player_name TEXT,\n",
      "    outcome TEXT,\n",
      "    losses TEXT,\n",
      "    opponent TEXT\n",
      ");\n",
      "Testing select query: SELECT opponent FROM games WHERE player_name = 'Leonard' AND outcome = 'loss' AND losses = '7-8';\n",
      "[]\n",
      "Testing create query: CREATE TABLE GameScores (\n",
      "    id INT PRIMARY KEY AUTO_INCREMENT,\n",
      "    game_number INT NOT NULL,\n",
      "    score VARCHAR(50) NOT NULL\n",
      ");\n",
      "Error while creating the SQLite table: near \"AUTO_INCREMENT\": syntax error\n",
      "Testing select query: SELECT score FROM GameScores WHERE game_number = 61; -- 18-43 is the record of wins-losses, which indicates game 61\n",
      "Error while executing select query: no such table: GameScores\n",
      "Testing create query: CREATE TABLE games (id INT PRIMARY KEY, opponent VARCHAR(255), score VARCHAR(255), date DATE, season_record VARCHAR(10));\n",
      "Testing select query: SELECT score FROM games WHERE opponent = 'Royals' AND season_record = '24-52';\n",
      "[]\n",
      "Testing create query: CREATE TABLE game_scores (\n",
      "    id SERIAL PRIMARY KEY,\n",
      "    record VARCHAR(10),\n",
      "    score VARCHAR(10)\n",
      ");\n",
      "Testing select query: SELECT score FROM game_scores WHERE record = '22-46';\n",
      "[]\n",
      "Testing create query: CREATE TABLE military_specialties (\n",
      "    id INT PRIMARY KEY AUTO_INCREMENT,\n",
      "    real_name VARCHAR(255),\n",
      "    primary_specialty VARCHAR(255)\n",
      ");\n",
      "Error while creating the SQLite table: near \"AUTO_INCREMENT\": syntax error\n",
      "Testing select query: SELECT real_name FROM military_specialties WHERE primary_specialty = 'shock paratrooper';\n",
      "Error while executing select query: no such table: military_specialties\n",
      "Testing create query: CREATE TABLE Persons (ID INT PRIMARY KEY, FirstName VARCHAR(50), LastName VARCHAR(50), Birthplace VARCHAR(100));\n",
      "Testing select query: SELECT Birthplace FROM Persons WHERE FirstName = 'Pete' AND LastName = 'Sanderson';\n",
      "[]\n",
      "Testing create query: CREATE TABLE Employees (\n",
      "    id INT PRIMARY KEY,\n",
      "    name VARCHAR(100) NOT NULL,\n",
      "    role VARCHAR(100) NOT NULL\n",
      ");\n",
      "Testing select query: SELECT role FROM Employees WHERE name = 'Jean-Luc Bouvier';\n",
      "[]\n",
      "Testing create query: CREATE TABLE silent_attack_kayak_pilot (\n",
      "    id INT PRIMARY KEY,\n",
      "    real_name VARCHAR(255),\n",
      "    nickname VARCHAR(255)\n",
      ");\n",
      "Testing select query: SELECT real_name FROM silent_attack_kayak_pilot WHERE nickname = 'silent attack kayak';\n",
      "[]\n",
      "Testing create query: CREATE TABLE Persons (\n",
      "    ID INT PRIMARY KEY,\n",
      "    FirstName VARCHAR(255),\n",
      "    LastName VARCHAR(255),\n",
      "    BirthPlace VARCHAR(255),\n",
      "    CodeName VARCHAR(255)\n",
      ");\n",
      "Testing select query: SELECT CodeName FROM Persons WHERE BirthPlace = 'Liverpool';\n",
      "[]\n",
      "Testing create query: CREATE TABLE Canoeing_Medalists (\n",
      "    id INT PRIMARY KEY AUTO_INCREMENT,\n",
      "    name VARCHAR(255) NOT NULL,\n",
      "    country VARCHAR(100),\n",
      "    medal_type ENUM('gold', 'silver', 'bronze') NOT NULL,\n",
      "    event VARCHAR(255)\n",
      ");\n",
      "Error while creating the SQLite table: near \"AUTO_INCREMENT\": syntax error\n",
      "Testing select query: SELECT name FROM Canoeing_Medalists;\n",
      "Error while executing select query: no such table: Canoeing_Medalists\n",
      "Testing create query: CREATE TABLE WomensHalfMiddleweightEventGames (\n",
      "    EventID INT PRIMARY KEY,\n",
      "    GameName VARCHAR(255) NOT NULL,\n",
      "    Year INT NOT NULL\n",
      ");\n",
      "Testing select query: SELECT GameName, Year\n",
      "FROM WomensHalfMiddleweightEventGames;\n",
      "[]\n",
      "Testing create query: CREATE TABLE OlympicMedals (\n",
      "    id SERIAL PRIMARY KEY,\n",
      "    athlete_name VARCHAR(255),\n",
      "    event VARCHAR(255),\n",
      "    medal_type ENUM('Gold', 'Silver', 'Bronze'),\n",
      "    year INT,\n",
      "    city VARCHAR(255)\n",
      ");\n",
      "Error while creating the SQLite table: near \"'Gold'\": syntax error\n",
      "Testing select query: SELECT athlete_name, event\n",
      "FROM OlympicMedals\n",
      "WHERE medal_type = 'Bronze' AND year = 2000 AND city = 'Sydney';\n",
      "Error while executing select query: no such table: OlympicMedals\n",
      "Testing create query: CREATE TABLE game_attendance (\n",
      "    game_id INT PRIMARY KEY,\n",
      "    opponent VARCHAR(255),\n",
      "    attendees INT\n",
      ");\n",
      "Testing select query: SELECT COUNT(*) FROM game_attendance WHERE opponent = 'twins';\n",
      "[(0,)]\n",
      "Testing create query: CREATE TABLE Records (Date DATE, Record VARCHAR(5));\n",
      "Testing select query: SELECT Date FROM Records WHERE Record = '41-46';\n",
      "[]\n",
      "Testing create query: CREATE TABLE Scores (\n",
      "  id INT PRIMARY KEY AUTO_INCREMENT,\n",
      "  score INT NOT NULL,\n",
      "  wins INT NOT NULL,\n",
      "  losses INT NOT NULL\n",
      ");\n",
      "Error while creating the SQLite table: near \"AUTO_INCREMENT\": syntax error\n",
      "Testing select query: SELECT score FROM Scores WHERE wins = 48 AND losses = 55;\n",
      "Error while executing select query: no such table: Scores\n",
      "Testing create query: CREATE TABLE ScoresRecords (\n",
      "    id INT PRIMARY KEY,\n",
      "    score INT NOT NULL,\n",
      "    record VARCHAR(20) NOT NULL\n",
      ");\n",
      "Testing select query: SELECT score FROM ScoresRecords WHERE record = '44-49';\n",
      "[]\n",
      "Testing create query: CREATE TABLE games (\n",
      "    id INT PRIMARY KEY,\n",
      "    score VARCHAR(10),\n",
      "    opponent VARCHAR(50),\n",
      "    record VARCHAR(5)\n",
      ");\n",
      "Testing select query: SELECT score FROM games WHERE opponent = 'white sox' AND record = '2-0';\n",
      "[]\n",
      "Testing create query: CREATE TABLE votes (\n",
      "    id INT PRIMARY KEY,\n",
      "    candidate_name VARCHAR(255),\n",
      "    vote_count INT\n",
      ");\n",
      "Testing select query: SELECT vote_count FROM votes WHERE candidate_name = 'Candice Sjostrom';\n",
      "[]\n",
      "Testing create query: CREATE TABLE election_results (\n",
      "    candidate_name VARCHAR(100),\n",
      "    votes_received INT,\n",
      "    total_votes INT\n",
      ");\n",
      "Testing select query: SELECT (votes_received::FLOAT / total_votes) * 100 AS percentage_received\n",
      "FROM election_results\n",
      "WHERE candidate_name = 'Chris Wright';\n",
      "Error while executing select query: unrecognized token: \":\"\n",
      "Testing create query: CREATE TABLE election_results (\n",
      "    year INT,\n",
      "    candidate_name VARCHAR(255),\n",
      "    percentage_of_vote DECIMAL(5, 2),\n",
      "    office VARCHAR(255),\n",
      "    votes INT\n",
      ");\n",
      "Testing select query: SELECT votes FROM election_results \n",
      "WHERE year > 1992 AND \n",
      "      percentage_of_vote = 1.59 AND \n",
      "      office = 'us representative 4';\n",
      "[]\n",
      "Testing create query: CREATE TABLE Representatives (\n",
      "    id INT PRIMARY KEY,\n",
      "    name VARCHAR(255),\n",
      "    start_year INT,\n",
      "    end_year INT\n",
      ");\n",
      "\n",
      "INSERT INTO Representatives (id, name, start_year, end_year) VALUES\n",
      "(1, 'J. Smith Young', 2010, 2014),\n",
      "(2, 'Another Representative', 2015, 2020);\n",
      "Error while creating the SQLite table: You can only execute one statement at a time.\n",
      "Testing select query: SELECT start_year, end_year FROM Representatives WHERE name = 'J. Smith Young';\n",
      "Error while executing select query: no such table: Representatives\n",
      "Testing create query: CREATE TABLE Politicians (\n",
      "    id INT PRIMARY KEY,\n",
      "    name VARCHAR(255),\n",
      "    party VARCHAR(255)\n",
      ");\n",
      "Testing select query: SELECT party FROM Politicians WHERE name = 'Thomas L. Young';\n",
      "[]\n",
      "Testing create query: CREATE TABLE country_medals (\n",
      "    country VARCHAR(100),\n",
      "    gold INT,\n",
      "    silver INT,\n",
      "    bronze INT,\n",
      "    total_medals INT GENERATED ALWAYS AS (gold + silver + bronze) STORED\n",
      ");\n",
      "Testing select query: SELECT MIN(total_medals) AS lowest_total_medals\n",
      "FROM country_medals\n",
      "WHERE gold = 0 AND bronze > 2 AND silver > 1;\n",
      "[(None,)]\n",
      "Testing create query: CREATE TABLE olympic_medals (\n",
      "    country VARCHAR(100),\n",
      "    rank INT,\n",
      "    gold INT,\n",
      "    silver INT,\n",
      "    bronze INT,\n",
      "    total INT\n",
      ");\n",
      "Testing select query: SELECT SUM(silver) AS total_silver_medals \n",
      "FROM olympic_medals \n",
      "WHERE rank = 14 AND total < 1;\n",
      "[(None,)]\n",
      "Testing create query: CREATE TABLE football_statistics (\n",
      "    player_id INT PRIMARY KEY,\n",
      "    player_name VARCHAR(255),\n",
      "    tackles INT,\n",
      "    fumble_recoveries INT,\n",
      "    forced_fumbles INT\n",
      ");\n",
      "Testing select query: SELECT tackles FROM football_statistics WHERE fumble_recoveries > 0 AND forced_fumbles > 0;\n",
      "[]\n",
      "Testing create query: CREATE TABLE player_stats (\n",
      "  id SERIAL PRIMARY KEY,\n",
      "  player_name VARCHAR(100),\n",
      "  solo_tackles INT,\n",
      "  forced_fumbles INT\n",
      ");\n",
      "Testing select query: SELECT COUNT(*) FROM player_stats \n",
      "WHERE player_name = 'Jim Laney' AND solo_tackles < 2;\n",
      "[(0,)]\n",
      "Testing create query: CREATE TABLE players_tackles (\n",
      "    player_id INT PRIMARY KEY,\n",
      "    player_name VARCHAR(50),\n",
      "    solo_tackles INT,\n",
      "    total_tackles INT\n",
      ");\n",
      "Testing select query: SELECT MAX(total_tackles) as high_total\n",
      "FROM players_tackles\n",
      "WHERE solo_tackles > 15;\n",
      "[(None,)]\n",
      "Testing create query: CREATE TABLE FootballStats (\n",
      "    player_name VARCHAR(255),\n",
      "    fumble_recoveries INT,\n",
      "    forced_fumbles INT,\n",
      "    sacks INT,\n",
      "    solo_tackles INT\n",
      ");\n",
      "Testing select query: SELECT fumble_recoveries FROM FootballStats \n",
      "WHERE player_name = 'Scott Gajos' AND forced_fumbles = 0 AND sacks = 0 AND solo_tackles < 2;\n",
      "[]\n",
      "Testing create query: CREATE TABLE matches (\n",
      "    match_id INT PRIMARY KEY,\n",
      "    date_time TIMESTAMP,\n",
      "    location VARCHAR(255),\n",
      "    home_team VARCHAR(255),\n",
      "    opponent VARCHAR(255)\n",
      ");\n",
      "Testing select query: SELECT opponent FROM matches WHERE date_time = '2023-10-20 20:00:00' AND location = 'Camp Nou';\n",
      "[]\n",
      "Testing create query: CREATE TABLE Matches (\n",
      "    match_id INT PRIMARY KEY,\n",
      "    date DATE,\n",
      "    time TIME,\n",
      "    home_team VARCHAR(100),\n",
      "    away_team VARCHAR(100),\n",
      "    home_score INT,\n",
      "    away_score INT\n",
      ");\n",
      "Testing select query: SELECT time \n",
      "FROM Matches \n",
      "WHERE home_score = 3 AND away_score = 2 OR home_score = 2 AND away_score = 3;\n",
      "[]\n",
      "Testing create query: CREATE TABLE matches (\n",
      "    match_id INT PRIMARY KEY,\n",
      "    home_team VARCHAR(50),\n",
      "    away_team VARCHAR(50),\n",
      "    ground VARCHAR(100),\n",
      "    match_date DATE\n",
      ");\n",
      "Testing select query: SELECT ground FROM matches WHERE away_team = 'Aston Villa';\n",
      "[]\n",
      "Testing create query: CREATE TABLE competitions (\n",
      "    id SERIAL PRIMARY KEY,\n",
      "    name VARCHAR(255),\n",
      "    location VARCHAR(255),\n",
      "    date DATE,\n",
      "    time TIME,\n",
      "    competition_type VARCHAR(255)\n",
      ");\n",
      "Testing select query: SELECT competition_type FROM competitions WHERE location = 'San Siro' AND time = '18:30:00' AND date = CURRENT_DATE;\n",
      "[]\n",
      "Testing create query: CREATE TABLE RedwoodSchoolLocality (\n",
      "    id INT PRIMARY KEY AUTO_INCREMENT,\n",
      "    name VARCHAR(255) NOT NULL,\n",
      "    decile INT NOT NULL,\n",
      "    locality VARCHAR(255) NOT NULL\n",
      ");\n",
      "Error while creating the SQLite table: near \"AUTO_INCREMENT\": syntax error\n",
      "Testing select query: SELECT COUNT(DISTINCT decile) AS total_deciles FROM RedwoodSchoolLocality WHERE locality = 'Redwood School';\n",
      "Error while executing select query: no such table: RedwoodSchoolLocality\n",
      "Testing create query: CREATE TABLE Reports (\n",
      "    report_id INT PRIMARY KEY,\n",
      "    report_name VARCHAR(255),\n",
      "    details TEXT\n",
      ");\n",
      "Testing select query: SELECT report_name FROM Reports WHERE details LIKE '%Circuit of Tripoli%';\n",
      "[]\n"
     ]
    }
   ],
   "source": [
    "# Execute unit tests and capture results\n",
    "results = []\n",
    "\n",
    "execute_unit_tests(input_df=test_df,output_list=results,system_prompt=system_prompt)"
   ]
  },
  {
   "cell_type": "markdown",
   "id": "a070a4bf-7435-4059-bf74-eb6129cbab2b",
   "metadata": {},
   "source": [
    "#### Run Evaluation\n",
    "\n",
    "Now that we have generated the SQL based on system prompt 1 (run 1), we can run evaluation against the results.  We use pandas `apply` functin to \"apply\" evaluation to each resulting generation"
   ]
  },
  {
   "cell_type": "code",
   "execution_count": 134,
   "id": "8fe18367",
   "metadata": {},
   "outputs": [],
   "source": [
    "results_df = pd.DataFrame(results)\n",
    "results_df.columns = ['question','response','format','sql']\n",
    "\n",
    "# Execute evaluation\n",
    "results_df['evaluation_score'] = results_df.apply(lambda x: get_geval_score(RELEVANCY_SCORE_CRITERIA,RELEVANCY_SCORE_STEPS,x['question'],x['response'],'relevancy'),axis=1)\n",
    "results_df['unit_test_evaluation'] = results_df.apply(lambda x: evaluate_row(x),axis=1)"
   ]
  },
  {
   "cell_type": "markdown",
   "id": "c3dd9b04-44e2-476c-86fd-c0a261b1cbdd",
   "metadata": {},
   "source": [
    "## Viewing unit test results and evaluations - Run 1\n",
    "\n",
    "We can now group the outcomes of the unit test (which test the structure of response) and evaluation (which checks if the SQL is syntatically correct)."
   ]
  },
  {
   "cell_type": "code",
   "execution_count": 135,
   "id": "650e6159",
   "metadata": {},
   "outputs": [
    {
     "data": {
      "text/plain": [
       "unit_test_evaluation\n",
       "SQL correct      42\n",
       "SQL incorrect     8\n",
       "Name: count, dtype: int64"
      ]
     },
     "execution_count": 135,
     "metadata": {},
     "output_type": "execute_result"
    }
   ],
   "source": [
    "results_df['unit_test_evaluation'].value_counts()"
   ]
  },
  {
   "cell_type": "code",
   "execution_count": 137,
   "id": "b3f98f81",
   "metadata": {
    "scrolled": true
   },
   "outputs": [
    {
     "data": {
      "text/plain": [
       "evaluation_score\n",
       "5    33\n",
       "4    16\n",
       "3     1\n",
       "Name: count, dtype: int64"
      ]
     },
     "execution_count": 137,
     "metadata": {},
     "output_type": "execute_result"
    }
   ],
   "source": [
    "results_df['evaluation_score'].value_counts()"
   ]
  },
  {
   "cell_type": "markdown",
   "id": "019f3a1d",
   "metadata": {},
   "source": [
    "### Second run\n",
    "\n",
    "We now use a new system prompt to run same unit test and evaluation.  Please note that we are using the same functions for unit testing and evaluations; the only change is the system prompt (which is under the test)."
   ]
  },
  {
   "cell_type": "code",
   "execution_count": 138,
   "id": "513a2da1",
   "metadata": {},
   "outputs": [
    {
     "name": "stdout",
     "output_type": "stream",
     "text": [
      "('Translate this natural language request into a JSON object containing two SQL queries. \\n'\n",
      " \"The first query should be a CREATE statement for a table answering the user's request, while the second should be a \"\n",
      " 'SELECT query answering their question. \\n'\n",
      " 'Ensure the SQL is always generated on one line, never use \\n'\n",
      " ' to separate rows.')\n"
     ]
    }
   ],
   "source": [
    "system_prompt_2 = \"\"\"Translate this natural language request into a JSON object containing two SQL queries. \n",
    "The first query should be a CREATE statement for a table answering the user's request, while the second should be a SELECT query answering their question. \n",
    "Ensure the SQL is always generated on one line, never use \\n to separate rows.\"\"\"\n",
    "\n",
    "pprint(system_prompt_2, width=120)"
   ]
  },
  {
   "cell_type": "code",
   "execution_count": 139,
   "id": "70bd3e32",
   "metadata": {},
   "outputs": [
    {
     "name": "stdout",
     "output_type": "stream",
     "text": [
      "Testing create query: CREATE TABLE partnerships (id INT PRIMARY KEY, player_one VARCHAR(255), player_two VARCHAR(255), venue VARCHAR(255));\n",
      "Testing select query: SELECT venue FROM partnerships WHERE player_one = 'Shoaib Malik' AND player_two = 'Misbah-ul-Haq';\n",
      "[]\n",
      "Testing create query: CREATE TABLE cricket_partnerships (id INT PRIMARY KEY, player1 VARCHAR(100), player2 VARCHAR(100), venue VARCHAR(100), match_date DATE, runs INT);\n",
      "Testing select query: SELECT venue FROM cricket_partnerships WHERE player1 = 'Herschelle Gibbs' AND player2 = 'Justin Kemp';\n",
      "[]\n",
      "Testing create query: CREATE TABLE PointsTable (NumberPlayed INT, Points INT);\n",
      "Testing select query: SELECT NumberPlayed FROM PointsTable WHERE Points = 310;\n",
      "[]\n",
      "Testing create query: CREATE TABLE TeamStandings (TeamID INT PRIMARY KEY, TeamName VARCHAR(100), PointsAgainst INT, LosingBonus INT);\n",
      "Testing select query: SELECT LosingBonus FROM TeamStandings WHERE PointsAgainst = 588;\n",
      "[]\n",
      "Testing create query: CREATE TABLE RugbyMatches (MatchID INT PRIMARY KEY, TriesFor INT, TriesAgainst INT, LosingBonus INT);\n",
      "Testing select query: SELECT TriesAgainst FROM RugbyMatches WHERE LosingBonus = 7;\n",
      "[]\n",
      "Testing create query: CREATE TABLE RugbyScores (TryBonus INT, PointsAgainst INT);\n",
      "Testing select query: SELECT TryBonus FROM RugbyScores WHERE PointsAgainst = 488;\n",
      "[]\n",
      "Testing create query: CREATE TABLE Points (id INT PRIMARY KEY, description VARCHAR(255), try_bonus INT);\n",
      "Testing select query: SELECT * FROM Points WHERE try_bonus = 140;\n",
      "[]\n",
      "Testing create query: CREATE TABLE DrawnData (MatchID INT PRIMARY KEY, Team VARCHAR(100), TriesAgainst INT);\n",
      "Testing select query: SELECT MatchID, Team FROM DrawnData WHERE TriesAgainst = 0;\n",
      "[]\n",
      "Testing create query: CREATE TABLE champions (id INT PRIMARY KEY, name VARCHAR(255), reign_days INT, defenses INT);\n",
      "Testing select query: SELECT reign_days FROM champions WHERE reign_days > 3 AND defenses = 1;\n",
      "[]\n",
      "Testing create query: CREATE TABLE champions (id INT PRIMARY KEY, name VARCHAR(255), reign_duration INT, number_of_defenses INT);\n",
      "Testing select query: SELECT reign_duration FROM champions WHERE reign_duration > 3 AND number_of_defenses < 1;\n",
      "[]\n",
      "Testing create query: CREATE TABLE champions (id INT PRIMARY KEY, name VARCHAR(100), days_held INT, reign INT, defenses INT);\n",
      "Testing select query: SELECT AVG(defenses) AS average_defenses FROM champions WHERE days_held = 404 AND reign > 1;\n",
      "[(None,)]\n",
      "Testing create query: CREATE TABLE ChampionshipHistory (ChampionName VARCHAR(255), Defense INT, DaysHeld INT, PRIMARY KEY (ChampionName));\n",
      "Testing select query: SELECT MIN(Defense) FROM ChampionshipHistory WHERE DaysHeld = 345;\n",
      "[(None,)]\n",
      "Testing create query: CREATE TABLE game_records (id INT PRIMARY KEY, score VARCHAR(7), date DATE);\n",
      "Testing select query: SELECT date FROM game_records WHERE score = '76-72';\n",
      "[]\n",
      "Testing create query: CREATE TABLE games (id INT PRIMARY KEY, player_name VARCHAR(50), outcome VARCHAR(10), attendance INT);\n",
      "Testing select query: SELECT attendance FROM games WHERE player_name = 'Ponson' AND outcome = 'loss' AND id = 1;\n",
      "[]\n",
      "Testing create query: CREATE TABLE records (id INT PRIMARY KEY, date DATE, record_range VARCHAR(10));\n",
      "Testing select query: SELECT date FROM records WHERE record_range = '36-39';\n",
      "[]\n",
      "Testing create query: CREATE TABLE records (id INT PRIMARY KEY, result VARCHAR(255), date DATE);\n",
      "Testing select query: SELECT date FROM records WHERE result = '30-31';\n",
      "[]\n",
      "Testing create query: CREATE TABLE games (id INT PRIMARY KEY, player_name VARCHAR(255), record VARCHAR(10), opponent VARCHAR(255), result VARCHAR(10));\n",
      "Testing select query: SELECT opponent FROM games WHERE player_name = 'Leonard' AND record = '7–8' AND result = 'loss';\n",
      "[]\n",
      "Testing create query: CREATE TABLE GameScores (id INT PRIMARY KEY, team1_score INT, team2_score INT, record VARCHAR(5));\n",
      "Testing select query: SELECT team1_score, team2_score FROM GameScores WHERE record = '18-43';\n",
      "[]\n",
      "Testing create query: CREATE TABLE game_scores (id INT PRIMARY KEY, team1 VARCHAR(50), team2 VARCHAR(50), score1 INT, score2 INT, team1_record VARCHAR(10), team2_record VARCHAR(10));\n",
      "Testing select query: SELECT score1, score2 FROM game_scores WHERE (team1 = 'Royals' AND team2_record = '24-52') OR (team2 = 'Royals' AND team1_record = '24-52');\n",
      "[]\n",
      "Testing create query: CREATE TABLE game_scores (record VARCHAR(255), score INT);\n",
      "Testing select query: SELECT score FROM game_scores WHERE record = '22–46';\n",
      "[]\n",
      "Testing create query: CREATE TABLE MilitarySpecialists (id INT PRIMARY KEY, real_name VARCHAR(255), primary_specialty VARCHAR(255));\n",
      "Testing select query: SELECT real_name FROM MilitarySpecialists WHERE primary_specialty = 'shock paratrooper';\n",
      "[]\n",
      "Testing create query: CREATE TABLE People (Name TEXT, Birthplace TEXT, PRIMARY KEY(Name));\n",
      "Testing select query: SELECT Birthplace FROM People WHERE Name = 'Pete Sanderson';\n",
      "[]\n",
      "Testing create query: CREATE TABLE Roles (id INT PRIMARY KEY, name VARCHAR(255), person VARCHAR(255));\n",
      "Testing select query: SELECT role FROM Roles WHERE person = 'Jean-Luc Bouvier';\n",
      "Error while executing select query: no such column: role\n",
      "Testing create query: CREATE TABLE Pilots (id INT PRIMARY KEY, real_name VARCHAR(100), role VARCHAR(100), vehicle VARCHAR(100));\n",
      "Testing select query: SELECT real_name FROM Pilots WHERE role = 'pilot' AND vehicle = 'silent attack kayak';\n",
      "[]\n",
      "Testing create query: CREATE TABLE Persons (ID INT PRIMARY KEY, Name VARCHAR(100), CodeName VARCHAR(50), BirthPlace VARCHAR(100));\n",
      "Testing select query: SELECT CodeName FROM Persons WHERE BirthPlace = 'Liverpool';\n",
      "[]\n",
      "Testing create query: CREATE TABLE CanoeingMedalists (ID INT PRIMARY KEY, Name VARCHAR(100), Country VARCHAR(50), MedalType VARCHAR(10));\n",
      "Testing select query: SELECT Name FROM CanoeingMedalists;\n",
      "[]\n",
      "Testing create query: CREATE TABLE WomensHalfMiddleweightGames (id SERIAL PRIMARY KEY, game_name VARCHAR(255) NOT NULL, year INT NOT NULL);\n",
      "Testing select query: SELECT game_name, year FROM WomensHalfMiddleweightGames;\n",
      "[]\n",
      "Testing create query: CREATE TABLE OlympicMedals (Year INT, City VARCHAR(50), Medal VARCHAR(10), Event VARCHAR(100), Athlete VARCHAR(100));\n",
      "Testing select query: SELECT Athlete FROM OlympicMedals WHERE Year = 2000 AND City = 'Sydney' AND Medal = 'Bronze';\n",
      "[]\n",
      "Testing create query: CREATE TABLE GameAttendance (game_id INT PRIMARY KEY, opponent VARCHAR(255), attendees INT);\n",
      "Testing select query: SELECT COUNT(*) FROM GameAttendance WHERE opponent = 'twins';\n",
      "[(0,)]\n",
      "Testing create query: CREATE TABLE Records (id INT PRIMARY KEY, date DATE, result VARCHAR(5));\n",
      "Testing select query: SELECT date FROM Records WHERE result = '41-46';\n",
      "[]\n",
      "Testing create query: CREATE TABLE Scores (Record VARCHAR(5), Score INT);\n",
      "Testing select query: SELECT Score FROM Scores WHERE Record = '48-55';\n",
      "[]\n",
      "Testing create query: CREATE TABLE Scores (Record VARCHAR(50));\n",
      "Testing select query: SELECT * FROM Scores WHERE Record = '44-49';\n",
      "[]\n",
      "Testing create query: CREATE TABLE games (id INT PRIMARY KEY, opponent VARCHAR(100), score VARCHAR(10), record VARCHAR(5));\n",
      "Testing select query: SELECT score FROM games WHERE opponent = 'white sox' AND record = '2-0';\n",
      "[]\n",
      "Testing create query: CREATE TABLE election_votes (id INT PRIMARY KEY, candidate_name VARCHAR(255), votes INT);\n",
      "Testing select query: SELECT votes FROM election_votes WHERE candidate_name = 'Candice Sjostrom';\n",
      "[]\n",
      "Testing create query: CREATE TABLE results (id INT PRIMARY KEY, name VARCHAR(100), percentage DECIMAL(5,2));\n",
      "Testing select query: SELECT percentage FROM results WHERE name = 'Chris Wright';\n",
      "[]\n",
      "Testing create query: CREATE TABLE votes (year INT, percentage FLOAT, office VARCHAR(50), candidate_id INT, vote_count INT);\n",
      "Testing select query: SELECT SUM(vote_count) AS total_votes FROM votes WHERE year > 1992 AND percentage = 1.59 AND office = 'us representative' AND candidate_id = 4;\n",
      "[(None,)]\n",
      "Testing create query: CREATE TABLE Representatives (Name VARCHAR(50), StartYear INT, EndYear INT);\n",
      "Testing select query: SELECT StartYear, EndYear FROM Representatives WHERE Name = 'J. Smith Young';\n",
      "[]\n",
      "Testing create query: CREATE TABLE political_figures (id INT PRIMARY KEY, name VARCHAR(100), party VARCHAR(100));\n",
      "Testing select query: SELECT party FROM political_figures WHERE name = 'Thomas L. Young';\n",
      "[]\n",
      "Testing create query: CREATE TABLE medals (country VARCHAR(50), gold INT, silver INT, bronze INT);\n",
      "Testing select query: SELECT MIN(gold + silver + bronze) AS lowest_total_medals FROM medals WHERE gold = 0 AND bronze > 2 AND silver > 1;\n",
      "[(None,)]\n",
      "Testing create query: CREATE TABLE Medals (CountryRank INT, TotalMedals INT, SilverMedals INT);\n",
      "Testing select query: SELECT SUM(SilverMedals) FROM Medals WHERE CountryRank = 14 AND TotalMedals < 1;\n",
      "[(None,)]\n",
      "Testing create query: CREATE TABLE player_stats (player_id INT PRIMARY KEY, name VARCHAR(100), tackles INT, fumble_recoveries INT, forced_fumbles INT);\n",
      "Testing select query: SELECT tackles FROM player_stats WHERE fumble_recoveries > 0 AND forced_fumbles > 0;\n",
      "[]\n",
      "Testing create query: CREATE TABLE PlayerStats (id INT PRIMARY KEY, playerName VARCHAR(100), forcedFumbles INT, soloTackles INT);\n",
      "Testing select query: SELECT COUNT(forcedFumbles) FROM PlayerStats WHERE playerName = 'Jim Laney' AND soloTackles < 2;\n",
      "[(0,)]\n",
      "Testing create query: CREATE TABLE player_stats (player_id INT PRIMARY KEY, player_name VARCHAR(100), solo_tackles INT, total_tackles INT);\n",
      "Testing select query: SELECT MAX(total_tackles) AS high_total FROM player_stats WHERE solo_tackles > 15;\n",
      "[(None,)]\n",
      "Testing create query: CREATE TABLE player_stats (player_name VARCHAR(50), fumble_recoveries INT, forced_fumbles INT, sacks INT, solo_tackles INT);\n",
      "Testing select query: SELECT fumble_recoveries FROM player_stats WHERE player_name = 'Scott Gajos' AND forced_fumbles = 0 AND sacks = 0 AND solo_tackles < 2;\n",
      "[]\n",
      "Testing create query: CREATE TABLE MatchSchedule (match_id INT PRIMARY KEY, opponent_name VARCHAR(100), match_time TIME, match_venue VARCHAR(100));\n",
      "Testing select query: SELECT opponent_name FROM MatchSchedule WHERE match_time = '20:00:00' AND match_venue = 'Camp Nou';\n",
      "[]\n",
      "Testing create query: CREATE TABLE match_results (match_id INTEGER PRIMARY KEY, team_1 VARCHAR(50), team_2 VARCHAR(50), score_1 INTEGER, score_2 INTEGER, match_time TIME);\n",
      "Testing select query: SELECT match_time FROM match_results WHERE score_1 = 3 AND score_2 = 2;\n",
      "[]\n",
      "Testing create query: CREATE TABLE Matches (match_id INT PRIMARY KEY, home_team VARCHAR(50), away_team VARCHAR(50), ground VARCHAR(100));\n",
      "Testing select query: SELECT ground FROM Matches WHERE (home_team = 'Aston Villa' OR away_team = 'Aston Villa');\n",
      "[]\n",
      "Testing create query: CREATE TABLE Competitions (id INT PRIMARY KEY, name VARCHAR(255), location VARCHAR(255), start_time TIME, time_zone VARCHAR(10), date DATE);\n",
      "Testing select query: SELECT name FROM Competitions WHERE location = 'San Siro' AND TIME(start_time AT TIME ZONE time_zone AT TIME ZONE 'GMT') = '18:30';\n",
      "Error while executing select query: near \"AT\": syntax error\n",
      "Testing create query: CREATE TABLE LocalityDecile (LocalityID INT PRIMARY KEY, LocalityName VARCHAR(255), Decile INT);\n",
      "Testing select query: SELECT SUM(Decile) AS TotalDecile FROM LocalityDecile WHERE LocalityName = 'redwood school locality';\n",
      "[(None,)]\n",
      "Testing create query: CREATE TABLE report (id INT, title VARCHAR(255), content TEXT, date DATE, PRIMARY KEY(id));\n",
      "Testing select query: SELECT * FROM report WHERE content LIKE '%Circuit of Tripoli%';\n",
      "[]\n"
     ]
    }
   ],
   "source": [
    "# Execute unit tests\n",
    "results_2 = []\n",
    "\n",
    "execute_unit_tests(input_df=test_df,output_list=results_2,system_prompt=system_prompt_2)"
   ]
  },
  {
   "cell_type": "code",
   "execution_count": 140,
   "id": "04532d59",
   "metadata": {},
   "outputs": [],
   "source": [
    "results_2_df = pd.DataFrame(results_2)\n",
    "results_2_df.columns = ['question','response','format','sql']\n",
    "\n",
    "# Execute evaluation\n",
    "results_2_df['evaluation_score'] = results_2_df.apply(lambda x: get_geval_score(RELEVANCY_SCORE_CRITERIA,RELEVANCY_SCORE_STEPS,x['question'],x['response'],'relevancy'),axis=1)\n",
    "results_2_df['unit_test_evaluation'] = results_2_df.apply(lambda x: evaluate_row(x),axis=1)"
   ]
  },
  {
   "cell_type": "markdown",
   "id": "cd95c3f9-f90d-451d-a32b-aeb066906779",
   "metadata": {},
   "source": [
    "## Viewing unit test results and evaluations - Run 2\n",
    "\n",
    "We can now group the outcomes of the unit test (which test the structure of response) and evaluation (which checks if the SQL is syntatically correct)."
   ]
  },
  {
   "cell_type": "code",
   "execution_count": 141,
   "id": "cbaa4bdf",
   "metadata": {},
   "outputs": [
    {
     "data": {
      "text/plain": [
       "unit_test_evaluation\n",
       "SQL correct      48\n",
       "SQL incorrect     2\n",
       "Name: count, dtype: int64"
      ]
     },
     "execution_count": 141,
     "metadata": {},
     "output_type": "execute_result"
    }
   ],
   "source": [
    "results_2_df['unit_test_evaluation'].value_counts()"
   ]
  },
  {
   "cell_type": "code",
   "execution_count": 142,
   "id": "1ada474e",
   "metadata": {
    "scrolled": true
   },
   "outputs": [
    {
     "data": {
      "text/plain": [
       "evaluation_score\n",
       "5    33\n",
       "4    16\n",
       "3     1\n",
       "Name: count, dtype: int64"
      ]
     },
     "execution_count": 142,
     "metadata": {},
     "output_type": "execute_result"
    }
   ],
   "source": [
    "results_2_df['evaluation_score'].value_counts()"
   ]
  },
  {
   "cell_type": "markdown",
   "id": "1908c933",
   "metadata": {},
   "source": [
    "## Report\n",
    "\n",
    "We'll make a simple dataframe to store and display the run performance - this is where you can use tools like Weights & Biases Prompts or Gantry to store the results for analytics on your different iterations."
   ]
  },
  {
   "cell_type": "code",
   "execution_count": 143,
   "id": "d277222d",
   "metadata": {},
   "outputs": [],
   "source": [
    "results_df['run'] = 1\n",
    "results_df['Evaluating Model'] = 'gpt-4'\n",
    "\n",
    "results_2_df['run'] = 2\n",
    "results_2_df['Evaluating Model'] = 'gpt-4'"
   ]
  },
  {
   "cell_type": "code",
   "execution_count": 144,
   "id": "6da35c99",
   "metadata": {},
   "outputs": [],
   "source": [
    "run_df = pd.concat([results_df,results_2_df])"
   ]
  },
  {
   "cell_type": "code",
   "execution_count": 145,
   "id": "4116cb37",
   "metadata": {},
   "outputs": [
    {
     "data": {
      "text/html": [
       "<div>\n",
       "<style scoped>\n",
       "    .dataframe tbody tr th:only-of-type {\n",
       "        vertical-align: middle;\n",
       "    }\n",
       "\n",
       "    .dataframe tbody tr th {\n",
       "        vertical-align: top;\n",
       "    }\n",
       "\n",
       "    .dataframe thead th {\n",
       "        text-align: right;\n",
       "    }\n",
       "</style>\n",
       "<table border=\"1\" class=\"dataframe\">\n",
       "  <thead>\n",
       "    <tr style=\"text-align: right;\">\n",
       "      <th></th>\n",
       "      <th>question</th>\n",
       "      <th>response</th>\n",
       "      <th>format</th>\n",
       "      <th>sql</th>\n",
       "      <th>evaluation_score</th>\n",
       "      <th>unit_test_evaluation</th>\n",
       "      <th>run</th>\n",
       "      <th>Evaluating Model</th>\n",
       "    </tr>\n",
       "  </thead>\n",
       "  <tbody>\n",
       "    <tr>\n",
       "      <th>0</th>\n",
       "      <td>What venue did the parntership of shoaib malik...</td>\n",
       "      <td>{\"create\":\"CREATE TABLE partnerships (\\n  id I...</td>\n",
       "      <td>True</td>\n",
       "      <td>True</td>\n",
       "      <td>5</td>\n",
       "      <td>SQL correct</td>\n",
       "      <td>1</td>\n",
       "      <td>gpt-4</td>\n",
       "    </tr>\n",
       "    <tr>\n",
       "      <th>1</th>\n",
       "      <td>What venue did the partnership of herschelle g...</td>\n",
       "      <td>{\"create\":\"CREATE TABLE cricket_partnerships (...</td>\n",
       "      <td>True</td>\n",
       "      <td>True</td>\n",
       "      <td>5</td>\n",
       "      <td>SQL correct</td>\n",
       "      <td>1</td>\n",
       "      <td>gpt-4</td>\n",
       "    </tr>\n",
       "    <tr>\n",
       "      <th>2</th>\n",
       "      <td>What is the number Played that has 310 Points ...</td>\n",
       "      <td>{\"create\":\"CREATE TABLE PointsTable (\\n    Num...</td>\n",
       "      <td>True</td>\n",
       "      <td>True</td>\n",
       "      <td>5</td>\n",
       "      <td>SQL correct</td>\n",
       "      <td>1</td>\n",
       "      <td>gpt-4</td>\n",
       "    </tr>\n",
       "    <tr>\n",
       "      <th>3</th>\n",
       "      <td>What Losing bonus has a Points against of 588?</td>\n",
       "      <td>{\"create\":\"CREATE TABLE teams (\\n    id INT PR...</td>\n",
       "      <td>True</td>\n",
       "      <td>True</td>\n",
       "      <td>5</td>\n",
       "      <td>SQL correct</td>\n",
       "      <td>1</td>\n",
       "      <td>gpt-4</td>\n",
       "    </tr>\n",
       "    <tr>\n",
       "      <th>4</th>\n",
       "      <td>What Tries against has a Losing bonus of 7?</td>\n",
       "      <td>{\"create\":\"CREATE TABLE TriesAgainst (ID INT, ...</td>\n",
       "      <td>True</td>\n",
       "      <td>True</td>\n",
       "      <td>4</td>\n",
       "      <td>SQL correct</td>\n",
       "      <td>1</td>\n",
       "      <td>gpt-4</td>\n",
       "    </tr>\n",
       "  </tbody>\n",
       "</table>\n",
       "</div>"
      ],
      "text/plain": [
       "                                            question  \\\n",
       "0  What venue did the parntership of shoaib malik...   \n",
       "1  What venue did the partnership of herschelle g...   \n",
       "2  What is the number Played that has 310 Points ...   \n",
       "3     What Losing bonus has a Points against of 588?   \n",
       "4        What Tries against has a Losing bonus of 7?   \n",
       "\n",
       "                                            response  format   sql  \\\n",
       "0  {\"create\":\"CREATE TABLE partnerships (\\n  id I...    True  True   \n",
       "1  {\"create\":\"CREATE TABLE cricket_partnerships (...    True  True   \n",
       "2  {\"create\":\"CREATE TABLE PointsTable (\\n    Num...    True  True   \n",
       "3  {\"create\":\"CREATE TABLE teams (\\n    id INT PR...    True  True   \n",
       "4  {\"create\":\"CREATE TABLE TriesAgainst (ID INT, ...    True  True   \n",
       "\n",
       "  evaluation_score unit_test_evaluation  run Evaluating Model  \n",
       "0                5          SQL correct    1            gpt-4  \n",
       "1                5          SQL correct    1            gpt-4  \n",
       "2                5          SQL correct    1            gpt-4  \n",
       "3                5          SQL correct    1            gpt-4  \n",
       "4                4          SQL correct    1            gpt-4  "
      ]
     },
     "execution_count": 145,
     "metadata": {},
     "output_type": "execute_result"
    }
   ],
   "source": [
    "run_df.head()"
   ]
  },
  {
   "cell_type": "code",
   "execution_count": 146,
   "id": "ed800f0c",
   "metadata": {},
   "outputs": [
    {
     "data": {
      "text/html": [
       "<div>\n",
       "<style scoped>\n",
       "    .dataframe tbody tr th:only-of-type {\n",
       "        vertical-align: middle;\n",
       "    }\n",
       "\n",
       "    .dataframe tbody tr th {\n",
       "        vertical-align: top;\n",
       "    }\n",
       "\n",
       "    .dataframe thead th {\n",
       "        text-align: right;\n",
       "    }\n",
       "</style>\n",
       "<table border=\"1\" class=\"dataframe\">\n",
       "  <thead>\n",
       "    <tr style=\"text-align: right;\">\n",
       "      <th></th>\n",
       "      <th></th>\n",
       "      <th>Number of records</th>\n",
       "    </tr>\n",
       "    <tr>\n",
       "      <th>run</th>\n",
       "      <th>unit_test_evaluation</th>\n",
       "      <th></th>\n",
       "    </tr>\n",
       "  </thead>\n",
       "  <tbody>\n",
       "    <tr>\n",
       "      <th rowspan=\"2\" valign=\"top\">1</th>\n",
       "      <th>SQL correct</th>\n",
       "      <td>42</td>\n",
       "    </tr>\n",
       "    <tr>\n",
       "      <th>SQL incorrect</th>\n",
       "      <td>8</td>\n",
       "    </tr>\n",
       "    <tr>\n",
       "      <th rowspan=\"2\" valign=\"top\">2</th>\n",
       "      <th>SQL correct</th>\n",
       "      <td>48</td>\n",
       "    </tr>\n",
       "    <tr>\n",
       "      <th>SQL incorrect</th>\n",
       "      <td>2</td>\n",
       "    </tr>\n",
       "  </tbody>\n",
       "</table>\n",
       "</div>"
      ],
      "text/plain": [
       "                          Number of records\n",
       "run unit_test_evaluation                   \n",
       "1   SQL correct                          42\n",
       "    SQL incorrect                         8\n",
       "2   SQL correct                          48\n",
       "    SQL incorrect                         2"
      ]
     },
     "execution_count": 146,
     "metadata": {},
     "output_type": "execute_result"
    }
   ],
   "source": [
    "# Unit test results\n",
    "unittest_df_pivot = pd.pivot_table(run_df,  values='format',index=['run','unit_test_evaluation'], #columns='position',\n",
    "                          aggfunc='count')\n",
    "unittest_df_pivot.columns = ['Number of records']\n",
    "unittest_df_pivot"
   ]
  },
  {
   "cell_type": "markdown",
   "id": "0162a009-fc43-484c-90f6-d59a8e52f365",
   "metadata": {},
   "source": [
    "#### Plotting the results\n",
    "\n",
    "We can create a simple bar chart to visualise the results of unit tests for both runs."
   ]
  },
  {
   "cell_type": "code",
   "execution_count": 147,
   "id": "e2b4aa03-42f5-4c30-a610-e553937bf160",
   "metadata": {},
   "outputs": [
    {
     "data": {
      "image/png": "[encoded data removed]",
      "text/plain": [
       "<Figure size 1000x600 with 1 Axes>"
      ]
     },
     "metadata": {},
     "output_type": "display_data"
    }
   ],
   "source": [
    "unittest_df_pivot.reset_index(inplace=True)\n",
    "\n",
    "# Plotting\n",
    "plt.figure(figsize=(10, 6))\n",
    "\n",
    "# Set the width of each bar\n",
    "bar_width = 0.35\n",
    "\n",
    "# OpenAI brand colors\n",
    "openai_colors = ['#00D1B2', '#000000']  # Green and Black\n",
    "\n",
    "# Get unique runs and unit test evaluations\n",
    "unique_runs = unittest_df_pivot['run'].unique()\n",
    "unique_unit_test_evaluations = unittest_df_pivot['unit_test_evaluation'].unique()\n",
    "\n",
    "# Ensure we have enough colors (repeating the pattern if necessary)\n",
    "colors = openai_colors * (len(unique_runs) // len(openai_colors) + 1)\n",
    "\n",
    "# Iterate over each run to plot\n",
    "for i, run in enumerate(unique_runs):\n",
    "    run_data = unittest_df_pivot[unittest_df_pivot['run'] == run]\n",
    "\n",
    "    # Position of bars for this run\n",
    "    positions = np.arange(len(unique_unit_test_evaluations)) + i * bar_width\n",
    "\n",
    "    plt.bar(positions, run_data['Number of records'], width=bar_width, label=f'Run {run}', color=colors[i])\n",
    "\n",
    "# Setting the x-axis labels to be the unit test evaluations, centered under the groups\n",
    "plt.xticks(np.arange(len(unique_unit_test_evaluations)) + bar_width / 2, unique_unit_test_evaluations)\n",
    "\n",
    "plt.xlabel('Unit Test Evaluation')\n",
    "plt.ylabel('Number of Records')\n",
    "plt.title('Unit Test Evaluations vs Number of Records for Each Run')\n",
    "plt.legend()\n",
    "plt.show()"
   ]
  },
  {
   "cell_type": "code",
   "execution_count": 148,
   "id": "7228eac7-e0a9-473d-9432-e558bbc91841",
   "metadata": {},
   "outputs": [
    {
     "data": {
      "text/html": [
       "<div>\n",
       "<style scoped>\n",
       "    .dataframe tbody tr th:only-of-type {\n",
       "        vertical-align: middle;\n",
       "    }\n",
       "\n",
       "    .dataframe tbody tr th {\n",
       "        vertical-align: top;\n",
       "    }\n",
       "\n",
       "    .dataframe thead th {\n",
       "        text-align: right;\n",
       "    }\n",
       "</style>\n",
       "<table border=\"1\" class=\"dataframe\">\n",
       "  <thead>\n",
       "    <tr style=\"text-align: right;\">\n",
       "      <th></th>\n",
       "      <th></th>\n",
       "      <th>Number of records</th>\n",
       "    </tr>\n",
       "    <tr>\n",
       "      <th>run</th>\n",
       "      <th>evaluation_score</th>\n",
       "      <th></th>\n",
       "    </tr>\n",
       "  </thead>\n",
       "  <tbody>\n",
       "    <tr>\n",
       "      <th rowspan=\"3\" valign=\"top\">1</th>\n",
       "      <th>3</th>\n",
       "      <td>1</td>\n",
       "    </tr>\n",
       "    <tr>\n",
       "      <th>4</th>\n",
       "      <td>16</td>\n",
       "    </tr>\n",
       "    <tr>\n",
       "      <th>5</th>\n",
       "      <td>33</td>\n",
       "    </tr>\n",
       "    <tr>\n",
       "      <th rowspan=\"3\" valign=\"top\">2</th>\n",
       "      <th>3</th>\n",
       "      <td>1</td>\n",
       "    </tr>\n",
       "    <tr>\n",
       "      <th>4</th>\n",
       "      <td>16</td>\n",
       "    </tr>\n",
       "    <tr>\n",
       "      <th>5</th>\n",
       "      <td>33</td>\n",
       "    </tr>\n",
       "  </tbody>\n",
       "</table>\n",
       "</div>"
      ],
      "text/plain": [
       "                      Number of records\n",
       "run evaluation_score                   \n",
       "1   3                                 1\n",
       "    4                                16\n",
       "    5                                33\n",
       "2   3                                 1\n",
       "    4                                16\n",
       "    5                                33"
      ]
     },
     "execution_count": 148,
     "metadata": {},
     "output_type": "execute_result"
    }
   ],
   "source": [
    "# Unit test results\n",
    "evaluation_df_pivot = pd.pivot_table(run_df,  values='format',index=['run','evaluation_score'], #columns='position',\n",
    "                          aggfunc='count')\n",
    "evaluation_df_pivot.columns = ['Number of records']\n",
    "evaluation_df_pivot"
   ]
  },
  {
   "cell_type": "markdown",
   "id": "786515fa-6841-4820-98f9-aa29ae76cf76",
   "metadata": {},
   "source": [
    "#### Plotting the results\n",
    "\n",
    "We can create a simple bar chart to visualise the results of unit tests for both runs."
   ]
  },
  {
   "cell_type": "code",
   "execution_count": 149,
   "id": "b2a18a78-55ec-43f6-9d62-929707a94364",
   "metadata": {},
   "outputs": [
    {
     "data": {
      "image/png": "[encoded data removed]",
      "text/plain": [
       "<Figure size 1000x600 with 1 Axes>"
      ]
     },
     "metadata": {},
     "output_type": "display_data"
    }
   ],
   "source": [
    "\n",
    "\n",
    "# Reset index without dropping the 'run' and 'evaluation_score' columns\n",
    "evaluation_df_pivot.reset_index(inplace=True)\n",
    "\n",
    "# Plotting\n",
    "plt.figure(figsize=(10, 6))\n",
    "\n",
    "bar_width = 0.35\n",
    "\n",
    "# OpenAI brand colors\n",
    "openai_colors = ['#00D1B2', '#000000']  # Green, Black\n",
    "\n",
    "# Identify unique runs and evaluation scores\n",
    "unique_runs = evaluation_df_pivot['run'].unique()\n",
    "unique_evaluation_scores = evaluation_df_pivot['evaluation_score'].unique()\n",
    "\n",
    "# Repeat colors if there are more runs than colors\n",
    "colors = openai_colors * (len(unique_runs) // len(openai_colors) + 1)\n",
    "\n",
    "for i, run in enumerate(unique_runs):\n",
    "    # Select rows for this run only\n",
    "    run_data = evaluation_df_pivot[evaluation_df_pivot['run'] == run].copy()\n",
    "    \n",
    "    # Ensure every 'evaluation_score' is present\n",
    "    run_data.set_index('evaluation_score', inplace=True)\n",
    "    run_data = run_data.reindex(unique_evaluation_scores, fill_value=0)\n",
    "    run_data.reset_index(inplace=True)\n",
    "    \n",
    "    # Plot each bar\n",
    "    positions = np.arange(len(unique_evaluation_scores)) + i * bar_width\n",
    "    plt.bar(\n",
    "        positions,\n",
    "        run_data['Number of records'],\n",
    "        width=bar_width,\n",
    "        label=f'Run {run}',\n",
    "        color=colors[i]\n",
    "    )\n",
    "\n",
    "# Configure the x-axis to show evaluation scores under the grouped bars\n",
    "plt.xticks(np.arange(len(unique_evaluation_scores)) + bar_width / 2, unique_evaluation_scores)\n",
    "\n",
    "plt.xlabel('Evaluation Score')\n",
    "plt.ylabel('Number of Records')\n",
    "plt.title('Evaluation Scores vs Number of Records for Each Run')\n",
    "plt.legend()\n",
    "plt.show()"
   ]
  },
  {
   "cell_type": "markdown",
   "id": "992f9aa0",
   "metadata": {},
   "source": [
    "## Conclusion\n",
    "\n",
    "Now you have a framework to test SQL generation using LLMs, and with some tweaks this approach can be extended to many other code generation use cases. With GPT-4 and engaged human labellers you can aim to automate the evaluation of these test cases, making an iterative loop where new examples are added to the test set and this structure detects any performance regressions. \n",
    "\n",
    "We hope you find this useful, and please supply any feedback."
   ]
  }
 ],
 "metadata": {
  "kernelspec": {
   "display_name": "myenv",
   "language": "python",
   "name": "python3"
  },
  "language_info": {
   "codemirror_mode": {
    "name": "ipython",
    "version": 3
   },
   "file_extension": ".py",
   "mimetype": "text/x-python",
   "name": "python",
   "nbconvert_exporter": "python",
   "pygments_lexer": "ipython3",
   "version": "3.12.7"
  }
 },
 "nbformat": 4,
 "nbformat_minor": 5
}
