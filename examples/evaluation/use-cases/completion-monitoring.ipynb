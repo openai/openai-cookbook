{
 "cells": [
  {
   "cell_type": "markdown",
   "metadata": {},
   "source": [
    "# Evaluations Example: Push Notifications Summarizer Monitoring\n",
    "\n",
    "Evals are **task-oriented** and iterative, they're the best way to check how your LLM integration is doing and improve it.\n",
    "\n",
    "In the following eval, we are going to focus on the task of **detecting our prompt changes for regressions**.\n",
    "\n",
    "Our use-case is:\n",
    "1. We have been logging chat completion requests by setting `store=True` in our production chat completions requests. Note that you can also enable \"on by default\" logging in your admin panel (https://platform.openai.com/settings/organization/data-controls/data-retention).\n",
    "2. We want to see whether our prompt changes have introduced regressions.\n",
    "\n",
    "## Evals structure\n",
    "\n",
    "Evals have two parts, the \"Eval\" and the \"Run\". An \"Eval\" holds the configuration for your testing criteria and the structure of the data for your \"Runs\". An Eval can have many Runs, which are each evaluated using your testing criteria."
   ]
  },
  {
   "cell_type": "code",
   "execution_count": 1,
   "metadata": {},
   "outputs": [],
   "source": [
    "from openai import AsyncOpenAI\n",
    "import os\n",
    "import asyncio\n",
    "\n",
    "os.environ[\"OPENAI_API_KEY\"] = os.environ.get(\"OPENAI_API_KEY\", \"your-api-key\")\n",
    "client = AsyncOpenAI()"
   ]
  },
  {
   "cell_type": "markdown",
   "metadata": {},
   "source": [
    "## Use-case\n",
    "\n",
    "We're testing the following integration, a push notifications summary, which takes in multiple push notifications and collapses them into a single one, this is a chat completions call."
   ]
  },
  {
   "cell_type": "markdown",
   "metadata": {},
   "source": [
    "# Generate our test data\n",
    "\n",
    "I'm going to produce simulated production chat completions requests with two different prompt versions to test how each performs. The first is a \"good\" prompt, the second is a \"bad\" prompt. These will have different metadata which we'll use later."
   ]
  },
  {
   "cell_type": "code",
   "execution_count": 2,
   "metadata": {},
   "outputs": [],
   "source": [
    "push_notification_data = [\n",
    "        \"\"\"\n",
    "- New message from Sarah: \"Can you call me later?\"\n",
    "- Your package has been delivered!\n",
    "- Flash sale: 20% off electronics for the next 2 hours!\n",
    "\"\"\",\n",
    "        \"\"\"\n",
    "- Weather alert: Thunderstorm expected in your area.\n",
    "- Reminder: Doctor's appointment at 3 PM.\n",
    "- John liked your photo on Instagram.\n",
    "\"\"\",\n",
    "        \"\"\"\n",
    "- Breaking News: Local elections results are in.\n",
    "- Your daily workout summary is ready.\n",
    "- Check out your weekly screen time report.\n",
    "\"\"\",\n",
    "        \"\"\"\n",
    "- Your ride is arriving in 2 minutes.\n",
    "- Grocery order has been shipped.\n",
    "- Don't miss the season finale of your favorite show tonight!\n",
    "\"\"\",\n",
    "        \"\"\"\n",
    "- Event reminder: Concert starts at 7 PM.\n",
    "- Your favorite team just scored!\n",
    "- Flashback: Memories from 3 years ago.\n",
    "\"\"\",\n",
    "        \"\"\"\n",
    "- Low battery alert: Charge your device.\n",
    "- Your friend Mike is nearby.\n",
    "- New episode of \"The Tech Hour\" podcast is live!\n",
    "\"\"\",\n",
    "        \"\"\"\n",
    "- System update available.\n",
    "- Monthly billing statement is ready.\n",
    "- Your next meeting starts in 15 minutes.\n",
    "\"\"\",\n",
    "        \"\"\"\n",
    "- Alert: Unauthorized login attempt detected.\n",
    "- New comment on your blog post: \"Great insights!\"\n",
    "- Tonight's dinner recipe: Pasta Primavera.\n",
    "\"\"\",\n",
    "        \"\"\"\n",
    "- Special offer: Free coffee with any breakfast order.\n",
    "- Your flight has been delayed by 30 minutes.\n",
    "- New movie release: \"Adventures Beyond\" now streaming.\n",
    "\"\"\",\n",
    "        \"\"\"\n",
    "- Traffic alert: Accident reported on Main Street.\n",
    "- Package out for delivery: Expected by 5 PM.\n",
    "- New friend suggestion: Connect with Emma.\n",
    "\"\"\"]"
   ]
  },
  {
   "cell_type": "code",
   "execution_count": null,
   "metadata": {},
   "outputs": [],
   "source": [
    "PROMPTS = [\n",
    "    (\n",
    "        \"\"\"\n",
    "        You are a helpful assistant that summarizes push notifications.\n",
    "        You are given a list of push notifications and you need to collapse them into a single one.\n",
    "        Output only the final summary, nothing else.\n",
    "        \"\"\",\n",
    "        \"v1\"\n",
    "    ),\n",
    "    (\n",
    "        \"\"\"\n",
    "        You are a helpful assistant that summarizes push notifications.\n",
    "        You are given a list of push notifications and you need to collapse them into a single one.\n",
    "        The summary should be longer than it needs to be and include more information than is necessary.\n",
    "        Output only the final summary, nothing else.\n",
    "        \"\"\",\n",
    "        \"v2\"\n",
    "    )\n",
    "]\n",
    "\n",
    "tasks = []\n",
    "for notifications in push_notification_data:\n",
    "    for (prompt, version) in PROMPTS:\n",
    "        tasks.append(client.chat.completions.create(\n",
    "            model=\"gpt-4o-mini\",\n",
    "            messages=[\n",
    "                {\"role\": \"developer\", \"content\": prompt},\n",
    "                {\"role\": \"user\", \"content\": notifications},\n",
    "            ],\n",
    "            store=True,\n",
    "            metadata={\"prompt_version\": version, \"usecase\": \"push_notifications_summarizer\"},\n",
    "        ))\n",
    "await asyncio.gather(*tasks)"
   ]
  },
  {
   "cell_type": "markdown",
   "metadata": {},
   "source": [
    "You can view the completions you just created at https://platform.openai.com/logs. \n",
    "\n",
    "**Make sure that the chat completions show up, as they are necessary for the next step.**"
   ]
  },
  {
   "cell_type": "code",
   "execution_count": null,
   "metadata": {},
   "outputs": [],
   "source": [
    "completions = await client.chat.completions.list()\n",
    "assert completions.data, \"No completions found. You may need to enable logs in your admin panel.\"\n",
    "completions.data[0]"
   ]
  },
  {
   "cell_type": "markdown",
   "metadata": {},
   "source": [
    "# Setting up your eval\n",
    "\n",
    "An Eval holds the configuration that is shared across multiple *Runs*, it has two components:\n",
    "1. Data source configuration `data_source_config` - the schema (columns) that your future *Runs* conform to.\n",
    "    - The `data_source_config` uses JSON Schema to define what variables are available in the Eval.\n",
    "2. Testing Criteria `testing_criteria` - How you'll determine if your integration is working for each *row* of your data source.\n",
    "\n",
    "For this use-case, we're using stored-completions, so we'll set up that data_source_config\n",
    "\n",
    "**Important**\n",
    "You are likely to have many different stored completions use-cases, metadata is the best way to keep track of this for evals to keep them focused and task oriented."
   ]
  },
  {
   "cell_type": "code",
   "execution_count": 5,
   "metadata": {},
   "outputs": [],
   "source": [
    "# We want our input data to be available in our variables, so we set the item_schema to\n",
    "# PushNotifications.model_json_schema()\n",
    "data_source_config = {\n",
    "    \"type\": \"stored_completions\",\n",
    "    \"metadata\": {\n",
    "        \"usecase\": \"push_notifications_summarizer\"\n",
    "    }\n",
    "}"
   ]
  },
  {
   "cell_type": "markdown",
   "metadata": {},
   "source": [
    "This data_source_config defines what variables are available throughout the eval.\n",
    "\n",
    "The stored completions config provides two variables for you to use throughout your eval:\n",
    "1. {{item.input}} - the messages sent to the completions call\n",
    "2. {{sample.output_text}} - the text response from the assistant\n",
    "\n",
    "**Now, we'll use those variables to set up our test criteria.**"
   ]
  },
  {
   "cell_type": "code",
   "execution_count": 6,
   "metadata": {},
   "outputs": [],
   "source": [
    "GRADER_DEVELOPER_PROMPT = \"\"\"\n",
    "Label the following push notification summary as either correct or incorrect.\n",
    "The push notification and the summary will be provided below.\n",
    "A good push notificiation summary is concise and snappy.\n",
    "If it is good, then label it as correct, if not, then incorrect.\n",
    "\"\"\"\n",
    "GRADER_TEMPLATE_PROMPT = \"\"\"\n",
    "Push notifications: {{item.input}}\n",
    "Summary: {{sample.output_text}}\n",
    "\"\"\"\n",
    "push_notification_grader = {\n",
    "    \"name\": \"Push Notification Summary Grader\",\n",
    "    \"type\": \"label_model\",\n",
    "    \"model\": \"o3-mini\",\n",
    "    \"input\": [\n",
    "        {\n",
    "            \"role\": \"developer\",\n",
    "            \"content\": GRADER_DEVELOPER_PROMPT,\n",
    "        },\n",
    "        {\n",
    "            \"role\": \"user\",\n",
    "            \"content\": GRADER_TEMPLATE_PROMPT,\n",
    "        },\n",
    "    ],\n",
    "    \"passing_labels\": [\"correct\"],\n",
    "    \"labels\": [\"correct\", \"incorrect\"],\n",
    "}"
   ]
  },
  {
   "cell_type": "markdown",
   "metadata": {},
   "source": [
    "The `push_notification_grader` is a model grader (llm-as-a-judge), which looks at the input `{{item.input}}` and the generated summary `{{sample.output_text}}` and labels it as \"correct\" or \"incorrect\".\n",
    "\n",
    "Note: under the hood, this uses structured outputs so that labels are always valid.\n",
    "\n",
    "**Now we'll create our eval!, and start adding data to it**"
   ]
  },
  {
   "cell_type": "code",
   "execution_count": 7,
   "metadata": {},
   "outputs": [],
   "source": [
    "eval_create_result = await client.evals.create(\n",
    "    name=\"Push Notification Completion Monitoring\",\n",
    "    metadata={\"description\": \"This eval monitors completions\"},\n",
    "    data_source_config=data_source_config,\n",
    "    testing_criteria=[push_notification_grader],\n",
    ")\n",
    "\n",
    "eval_id = eval_create_result.id"
   ]
  },
  {
   "cell_type": "markdown",
   "metadata": {},
   "source": [
    "# Creating runs\n",
    "\n",
    "Now that we have our eval set-up with our test_criteria, we can start adding runs.\n",
    "I want to compare the performance between my two **prompt versions**\n",
    "\n",
    "To do this, we just define our source as \"stored_completions\" with a metadata filter for each of our prompt versions."
   ]
  },
  {
   "cell_type": "code",
   "execution_count": null,
   "metadata": {},
   "outputs": [],
   "source": [
    "# Grade prompt_version=v1\n",
    "eval_run_result = await client.evals.runs.create(\n",
    "    eval_id=eval_id,\n",
    "    name=\"v1-run\",\n",
    "    data_source={\n",
    "        \"type\": \"completions\",\n",
    "        \"source\": {\n",
    "            \"type\": \"stored_completions\",\n",
    "            \"metadata\": {\n",
    "                \"prompt_version\": \"v1\",\n",
    "            }\n",
    "        }\n",
    "    }\n",
    ")\n",
    "print(eval_run_result.report_url)"
   ]
  },
  {
   "cell_type": "code",
   "execution_count": null,
   "metadata": {},
   "outputs": [],
   "source": [
    "# Grade prompt_version=v2\n",
    "eval_run_result_v2 = await client.evals.runs.create(\n",
    "    eval_id=eval_id,\n",
    "    name=\"v2-run\",\n",
    "    data_source={\n",
    "        \"type\": \"completions\",\n",
    "        \"source\": {\n",
    "            \"type\": \"stored_completions\",\n",
    "            \"metadata\": {\n",
    "                \"prompt_version\": \"v2\",\n",
    "            }\n",
    "        }\n",
    "    }\n",
    ")\n",
    "print(eval_run_result_v2.report_url)"
   ]
  },
  {
   "cell_type": "markdown",
   "metadata": {},
   "source": [
    "Just for to be thorough, let's see how this prompt would do with 4o, instead of 4o-mini, with both prompt versions as the starting point.\n",
    "\n",
    "All we have to do is reference the input messages ({{item.input}}) and set the model to 4o. Since we don't already have any stored completions for 4o, this eval run will generate new completions."
   ]
  },
  {
   "cell_type": "code",
   "execution_count": null,
   "metadata": {},
   "outputs": [],
   "source": [
    "tasks = []\n",
    "for prompt_version in [\"v1\", \"v2\"]:\n",
    "    tasks.append(client.evals.runs.create(\n",
    "        eval_id=eval_id,\n",
    "        name=f\"post-fix-new-model-run-{prompt_version}\",\n",
    "        data_source={\n",
    "            \"type\": \"completions\",\n",
    "            \"input_messages\": {\n",
    "                \"type\": \"item_reference\",\n",
    "                \"item_reference\": \"item.input\",\n",
    "            },\n",
    "            \"model\": \"gpt-4o\",\n",
    "            \"source\": {\n",
    "                \"type\": \"stored_completions\",\n",
    "                \"metadata\": {\n",
    "                    \"prompt_version\": prompt_version,\n",
    "                }\n",
    "            }\n",
    "        },\n",
    "    ))\n",
    "result = await asyncio.gather(*tasks)\n",
    "for run in result:\n",
    "    print(run.report_url)"
   ]
  },
  {
   "cell_type": "markdown",
   "metadata": {},
   "source": [
    "If you view that report, you'll see that we can see that prompt_version=v2 has a regression!\n",
    "\n",
    "## Congratulations, you just discovered a bug, you could revert it, or make another prompt change, etc.!"
   ]
  }
 ],
 "metadata": {
  "kernelspec": {
   "display_name": "openai",
   "language": "python",
   "name": "python3"
  },
  "language_info": {
   "codemirror_mode": {
    "name": "ipython",
    "version": 3
   },
   "file_extension": ".py",
   "mimetype": "text/x-python",
   "name": "python",
   "nbconvert_exporter": "python",
   "pygments_lexer": "ipython3",
   "version": "3.11.8"
  }
 },
 "nbformat": 4,
 "nbformat_minor": 2
}
