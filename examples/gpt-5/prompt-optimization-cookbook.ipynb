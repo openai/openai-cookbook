{
 "cells": [
  {
   "cell_type": "markdown",
   "id": "4c84498c",
   "metadata": {},
   "source": [
    "# GPT-5 Prompt Migration and Improvement using the new prompt optimizer"
   ]
  },
  {
   "cell_type": "markdown",
   "id": "a3942231",
   "metadata": {},
   "source": [
    "The GPT-5 Family of models are the smartest models we’ve released to date, representing a step change in the models’ capabilities across the board. GPT-5 is particularly specialized in agentic task performance, coding, and steerability, making it a great fit for everyone from curious users to advanced researchers. \n",
    "\n",
    "GPT-5 will benefit from all the traditional [prompting best practices](https://cookbook.openai.com/examples/gpt-5/gpt-5_prompting_guide), but to make optimizations and migrations easier, we are introducing the **[GPT-5  Prompt Optimizer](https://platform.openai.com/chat/edit?optimize=true)** in our Playground to help users get started on **improving existing prompts** and **migrating prompts** for GPT-5 and other OpenAI models.\n",
    "\n",
    "![Prompt Optimizer demo](../../images/prompt-optimizer-3-22s.gif)\n",
    "\n",
    "In this cookbook we will show you how to use the Prompt Optimzer to get spun up quickly to solve your tasks with GPT-5, while demonstrating how prompt optimize can have measurable improvements. "
   ]
  },
  {
   "cell_type": "markdown",
   "id": "f066a2db",
   "metadata": {},
   "source": [
    "### Migrating and Optimizing Prompts\n",
    "\n",
    "Crafting effective prompts is a critical skill when working with LLMs. The goal of the Prompt Optimizer is to give your prompt the best practices and formatting most effective for our models. The Optimizer also removes common prompting failure modes such as:  \n",
    "\n",
    "•   Contradictions in the prompt instructions  \n",
    "•\tMissing or unclear format specifications  \n",
    "•\tInconsistencies between the prompt and few-shot examples  \n",
    "\n",
    "Along with tuning the prompt for the target model, the Optimizer is cognizant of the specific task you are trying to accomplish and can apply crucial practices to boost performance in Agentic Workflows, Coding and Multi-Modality. Let's walk through some before-and-afters to see where prompt optimization shines. \n",
    "\n",
    "> Remember that prompting is not a one-size-fits-all experience, so we recommend running thorough experiments and iterating to find the best solution for your problem."
   ]
  },
  {
   "cell_type": "markdown",
   "id": "8fcbc964",
   "metadata": {},
   "source": [
    "\n",
    "> Ensure you have set up your OpenAI API Key set as `OPENAI_API_KEY` and have access to GPT-5\n"
   ]
  },
  {
   "cell_type": "code",
   "execution_count": 1,
   "id": "5a0d077c",
   "metadata": {},
   "outputs": [
    {
     "name": "stdout",
     "output_type": "stream",
     "text": [
      "OPENAI_API_KEY is set!\n"
     ]
    }
   ],
   "source": [
    "import os\n",
    "\n",
    "required = ('OPENAI_API_KEY',)\n",
    "missing = [k for k in required if not os.getenv(k)]\n",
    "print('OPENAI_API_KEY is set!' if not missing else 'Missing environment variable: ' + ', '.join(missing) + '. Please set them before running the workflow.')\n"
   ]
  },
  {
   "cell_type": "code",
   "execution_count": null,
   "id": "f664a575",
   "metadata": {},
   "outputs": [],
   "source": [
    "## Let's install our required packages\n",
    "%pip install -r requirements.txt --quiet"
   ]
  },
  {
   "cell_type": "markdown",
   "id": "fad827dc",
   "metadata": {},
   "source": [
    "----------------"
   ]
  },
  {
   "cell_type": "markdown",
   "id": "b750b040",
   "metadata": {},
   "source": [
    "\n",
    "### Coding and Analytics: Streaming Top‑K Frequent Words \n",
    "\n",
    "We start with a task in a field that model has seen significant improvements: Coding and Analytics. We will ask the model to generate a Python script that computes the exact Top‑K most frequent tokens from a large text stream using a specific tokenization spec. Tasks like these are highly sensitive to poor prompting as they can push the model toward the wrong algorithms and approaches (approximate sketches vs multi‑pass/disk‑backed exact solutions), dramatically affecting accuracy and runtime.\n",
    "\n",
    "For this task, we will evaluate:\n",
    "1. Compilation/Execution success over 30 runs\n",
    "2. Average runtime (successful runs)\n",
    "3. Average peak memory (successful runs)\n",
    "4. Exactness: output matches ground‑truth Top‑K with tie‑break: by count desc, then token asc\n",
    "\n",
    "Note: Evaluated on an M4 Max MacBook Pro; adjust constraints if needed.\n"
   ]
  },
  {
   "cell_type": "markdown",
   "id": "750300af",
   "metadata": {},
   "source": [
    "### Our Baseline Prompt\n",
    "For our example, let's look at a typical starting prompt with some minor **contradictions in the prompt**, and **ambiguous or underspecified instructions**. Contradictions in instructions often reduce performance and increase latency, especially in reasoning models like GPT-5, and ambiguous instructions can cause unwanted behaviors. "
   ]
  },
  {
   "cell_type": "code",
   "execution_count": 4,
   "id": "377cc6f4",
   "metadata": {},
   "outputs": [],
   "source": [
    "baseline_prompt = \"\"\"\n",
    "Write Python to solve the task on a MacBook Pro (M4 Max). Keep it fast and lightweight.\n",
    "\n",
    "- Prefer the standard library; use external packages if they make things simpler.\n",
    "- Stream input in one pass to keep memory low; reread or cache if that makes the solution clearer.\n",
    "- Aim for exact results; approximate methods are fine when they don't change the outcome in practice.\n",
    "- Avoid global state; expose a convenient global like top_k so it's easy to check.\n",
    "- Keep comments minimal; add brief explanations where helpful.\n",
    "- Sort results in a natural, human-friendly way; follow strict tie rules when applicable.\n",
    "\n",
    "Output only a single self-contained Python script inside one Python code block, with all imports, ready to run.\n",
    "\"\"\"\n"
   ]
  },
  {
   "cell_type": "markdown",
   "id": "01b0e8b3",
   "metadata": {},
   "source": [
    "This baseline prompt is something that you could expect from asking ChatGPT to write you a prompt, or talking to a friend who is knowledgeable about coding but not particularly invested in your specific use case. Our baseline prompt is intentionally shorter and friendlier, but it hides mixed signals that can push the model into inconsistent solution families.\n",
    "\n",
    "First, we say to prefer the standard library, then immediately allow external packages “if they make things simpler.” That soft permission can nudge the model toward non‑portable dependencies or heavier imports that change performance and even execution success across environments.\n",
    "\n",
    "Next, we encourage single‑pass streaming to keep memory low, but we also say it’s fine to reread or cache “if that makes the solution clearer.” That ambiguity opens the door to multi‑pass designs or in‑memory caches that defeat the original streaming constraint and can alter runtime and memory profiles.\n",
    "\n",
    "We also ask for exact results while permitting approximate methods “when they don’t change the outcome in practice.” This is a judgment call the model can’t reliably verify. It may introduce sketches or heuristics that subtly shift counts near the Top‑K boundary, producing results that look right but fail strict evaluation.\n",
    "\n",
    "We advise avoiding global state, yet suggest exposing a convenient global like `top_k`. That mixes interface contracts: is the function supposed to return data, or should callers read globals? Models may implement both, causing side effects that complicate evaluation and reproducibility.\n",
    "\n",
    "Documentation guidance is similarly split: “keep comments minimal” but “add brief explanations.” Depending on how the model interprets this, you can get under‑explained code or prose interleaved with logic, which sometimes leaks outside the required output format.\n",
    "\n",
    "Finally, we ask for “natural, human‑friendly” sorting while also mentioning strict tie rules. These aren’t always the same. The model might pick convenience ordering (e.g., `Counter.most_common`) and drift from the evaluator’s canonical `(-count, token)` sort, especially on ties—leading to subtle correctness misses.\n",
    "\n",
    "**Why this matters**: the softened constraints make the prompt feel easy to satisfy, but they create forks in the road. The model may pick different branches across runs—stdlib vs external deps, one‑pass vs reread/cache, exact vs approximate—yielding variability in correctness, latency, and memory.\n",
    "\n",
    "**Our evaluator remains strict**: fixed tokenization `[a-z0-9]+` on lowercased text and deterministic ordering by `(-count, token)`. Any divergence here will penalize exactness even if the rest of the solution looks reasonable.\n"
   ]
  },
  {
   "cell_type": "markdown",
   "id": "9377fe68",
   "metadata": {},
   "source": [
    "### Let's see how it performs: Generating 30 code scripts with the baseline prompt \n",
    "\n",
    "Using the OpenAI Responses API we'll invoke the model 30 times with our baseline prompt and save each response as a Python file in the `results_topk_baseline`. This may take some time. \n"
   ]
  },
  {
   "cell_type": "code",
   "execution_count": null,
   "id": "1b3a3b39",
   "metadata": {},
   "outputs": [],
   "source": [
    "from scripts.gen_baseline import generate_baseline_topk\n",
    "\n",
    "MODEL = \"gpt-5\"\n",
    "N_RUNS = 30\n",
    "CONCURRENCY = 10\n",
    "OUTPUT_DIR = \"results_topk_baseline\"\n",
    "\n",
    "USER_PROMPT = \"\"\"\n",
    "Task:\n",
    "Given globals text (str) and k (int), produce the Top-K most frequent tokens.\n",
    "\n",
    "Tokenization:\n",
    "- Case-insensitive tokenization using an ASCII regex; produce lowercase tokens. Whole-string lowercasing is not required.\n",
    "- Tokens are ASCII [a-z0-9]+ sequences; treat all other characters as separators.\n",
    "\n",
    "Output:\n",
    "- Define top_k as a list of (token, count) tuples.\n",
    "- Sort by count desc, then token asc.\n",
    "- Length = min(k, number of unique tokens).\n",
    "\n",
    "Notes:\n",
    "- Run as-is with the provided globals; no file or network I/O.\n",
    "\"\"\"\n",
    "\n",
    "generate_baseline_topk(\n",
    "    model=MODEL,\n",
    "    n_runs=N_RUNS,\n",
    "    concurrency=CONCURRENCY,\n",
    "    output_dir=OUTPUT_DIR,\n",
    "    dev_prompt=baseline_prompt,\n",
    "    user_prompt=USER_PROMPT,\n",
    ")\n",
    "\n"
   ]
  },
  {
   "cell_type": "markdown",
   "id": "53f063b6",
   "metadata": {},
   "source": [
    "### Evaluate Generated Scripts - Baseline Prompt\n",
    "\n",
    "We then benchmark every script in ``results_topk_baseline``. On larger datasets this evaluation is intentionally heavy and can take several minutes."
   ]
  },
  {
   "cell_type": "code",
   "execution_count": null,
   "id": "391da952",
   "metadata": {},
   "outputs": [],
   "source": [
    "from scripts.topk_eval import evaluate_folder\n",
    "\n",
    "evaluate_folder(\n",
    "    folder_path=\"results_topk_baseline\",\n",
    "    k=500,\n",
    "    scale_tokens=5_000_000,\n",
    "    csv_path=\"run_results_topk_baseline.csv\",\n",
    ")\n",
    "\n"
   ]
  },
  {
   "cell_type": "markdown",
   "id": "92a02c33",
   "metadata": {},
   "source": [
    "### Optimizing our Prompt "
   ]
  },
  {
   "cell_type": "markdown",
   "id": "56da7b3f",
   "metadata": {},
   "source": [
    "Now let's use the prompt optimization tool in the console to improve our prompt and then review the results. We can start by going to the [OpenAI Optimize Playground](https://platform.openai.com/chat/edit?optimize=true), and pasting our existing prompt in the Developer Message section.\n",
    "\n",
    "From there press the **Optimize** button. This will open the optimization panel. At this stage, you can either provide specific edits you'd like to see reflected in the prompt or simply press **Optimize** to have it refined according to best practices for the target model and task. To start, let's do just this.\n",
    "\n",
    "![optimize_image](../../images/image_optimize_1.png)\n",
    "\n",
    "\n",
    "\n",
    "Once it's completed, you'll see the result of the prompt optimization. In our example below you'll see many changes were made to the prompt. It will also give you snippets of what it changed and why the change was made. You can interact with these by opening the comments up or using the inline reviewer mode.\n",
    "\n",
    "We'll add an additional change we'd like which include:\n",
    "\n",
    "- Enforcing the single-pass streaming\n",
    "\n",
    "This is easy using the iterative process of the Prompt Optimizer.\n",
    "\n",
    "![optimize_image](../../images/image_optimize_2.png)\n",
    "\n"
   ]
  },
  {
   "cell_type": "markdown",
   "id": "a983e50d",
   "metadata": {},
   "source": [
    "Once we are happy with the optimized version of our prompt, we can save it as a [Prompt Object](https://platform.openai.com/docs/guides/prompt-engineering#reusable-prompts) using a button on the top right of the optimizer. We can use this object within our API Calls which can help with future iteration, version management, and reusability across different applications.  \n",
    "\n",
    "![optimize_image](../../images/image_optimize_3.png)\n"
   ]
  },
  {
   "cell_type": "markdown",
   "id": "f5bc98ab",
   "metadata": {},
   "source": [
    "###  Let's see how it performs: Evaluating our improved prompt \n",
    "\n",
    "For visibility we will provide our new optimized prompt here, but you can also pass the ``prompt_id`` and ``version``. Let's start by writing out our optimized prompt. "
   ]
  },
  {
   "cell_type": "code",
   "execution_count": 18,
   "id": "8bf4c55d",
   "metadata": {},
   "outputs": [],
   "source": [
    "optimized_prompt = \"\"\"\n",
    "# Objective\n",
    "Generate a single, self-contained Python script that exactly solves the specified task on a MacBook Pro (M4 Max).\n",
    "\n",
    "# Hard requirements\n",
    "- Use only Python stdlib. No approximate algorithms.\n",
    "- Tokenization: ASCII [a-z0-9]+ on the original text; match case-insensitively and lowercase tokens individually. Do NOT call text.lower() on the full string.\n",
    "- Exact Top‑K semantics: sort by count desc, then token asc. No reliance on Counter.most_common tie behavior.\n",
    "- Define `top_k` as a list of (token, count) tuples with length = min(k, number of unique tokens).\n",
    "- When globals `text` (str) and `k` (int) exist, do not reassign them; set `top_k` from those globals. If you include a `__main__` demo, guard it to run only when globals are absent.\n",
    "- No file I/O, stdin, or network access, except optionally printing `top_k` as the last line.\n",
    "\n",
    "# Performance & memory constraints\n",
    "- Do NOT materialize the entire token stream or any large intermediate list.\n",
    "- Do NOT sort all unique (token, count) items unless k >= 0.3 * number_of_unique_tokens.\n",
    "- When k < number_of_unique_tokens, compute Top‑K using a bounded min‑heap of size k over counts.items(), maintaining the correct tie-break (count desc, then token asc).\n",
    "- Target peak additional memory beyond the counts dict to O(k). Avoid creating `items = sorted(counts.items(), ...)` for large unique sets.\n",
    "\n",
    "# Guidance\n",
    "- Build counts via a generator over re.finditer with re.ASCII | re.IGNORECASE; lowercase each matched token before counting.\n",
    "- Prefer heapq.nsmallest(k, cnt.items(), key=lambda kv: (-kv[1], kv[0])) for exact selection without full sort; avoid heapq.nlargest.\n",
    "- Do NOT wrap tokens in custom comparator classes (e.g., reverse-lex __lt__) or rely on tuple tricks for heap ordering.\n",
    "- Keep comments minimal; include a brief complexity note (time and space).\n",
    "\n",
    "# Output format\n",
    "- Output only one Python code block; no text outside the block.\n",
    "\n",
    "# Examples \n",
    "```python\n",
    "import re, heapq\n",
    "from collections import Counter\n",
    "from typing import List, Tuple, Iterable\n",
    "\n",
    "_TOKEN = re.compile(r\"[a-z0-9]+\", flags=re.ASCII | re.IGNORECASE)\n",
    "\n",
    "def _tokens(s: str) -> Iterable[str]:\n",
    "    # Case-insensitive match; lowercase per token to avoid copying the whole string\n",
    "    for m in _TOKEN.finditer(s):\n",
    "        yield m.group(0).lower()\n",
    "\n",
    "def top_k_tokens(text: str, k: int) -> List[Tuple[str, int]]:\n",
    "    if k <= 0:\n",
    "        return []\n",
    "    cnt = Counter(_tokens(text))\n",
    "    u = len(cnt)\n",
    "    key = lambda kv: (-kv[1], kv[0])\n",
    "    if k >= u:\n",
    "        return sorted(cnt.items(), key=key)\n",
    "    # Exact selection with bounded memory\n",
    "    return heapq.nsmallest(k, cnt.items(), key=key)\n",
    "\n",
    "# Compute from provided globals when available; demo only if missing and running as main\n",
    "try:\n",
    "    text; k  # type: ignore[name-defined]\n",
    "except NameError:\n",
    "    if __name__ == \"__main__\":\n",
    "        demo_text = \"A a b b b c1 C1 c1 -- d! d? e\"\n",
    "        demo_k = 3\n",
    "        top_k = top_k_tokens(demo_text, demo_k)\n",
    "        print(top_k)\n",
    "else:\n",
    "    top_k = top_k_tokens(text, k)  # type: ignore[name-defined]\n",
    "# Complexity: counting O(N tokens), selection O(U log k) via heapq.nsmallest; extra space O(U + k)\n",
    "```\n",
    "\"\"\"\n"
   ]
  },
  {
   "cell_type": "markdown",
   "id": "95c97164",
   "metadata": {},
   "source": [
    "### Generating 30 code scripts with the Optimized prompt"
   ]
  },
  {
   "cell_type": "code",
   "execution_count": null,
   "id": "e003656a",
   "metadata": {},
   "outputs": [],
   "source": [
    "from scripts.gen_optimized import generate_optimized_topk\n",
    "\n",
    "MODEL = \"gpt-5\"\n",
    "N_RUNS = 30\n",
    "CONCURRENCY = 10\n",
    "OUTPUT_DIR = \"results_topk_optimized\"\n",
    "\n",
    "USER_PROMPT = \"\"\"\n",
    "Task:\n",
    "Given globals text (str) and k (int), produce the Top-K most frequent tokens.\n",
    "\n",
    "Tokenization:\n",
    "- Case-insensitive tokenization using an ASCII regex; produce lowercase tokens. Whole-string lowercasing is not required.\n",
    "- Tokens are ASCII [a-z0-9]+ sequences; treat all other characters as separators.\n",
    "\n",
    "Output:\n",
    "- Define top_k as a list of (token, count) tuples.\n",
    "- Sort by count desc, then token asc.\n",
    "- Length = min(k, number of unique tokens).\n",
    "\n",
    "Notes:\n",
    "- Run as-is with the provided globals; no file or network I/O.\n",
    "\"\"\"\n",
    "\n",
    "generate_optimized_topk(\n",
    "    model=MODEL,\n",
    "    n_runs=N_RUNS,\n",
    "    concurrency=CONCURRENCY,\n",
    "    output_dir=OUTPUT_DIR,\n",
    "    dev_prompt=optimized_prompt,\n",
    "    user_prompt=USER_PROMPT,\n",
    ")\n"
   ]
  },
  {
   "cell_type": "markdown",
   "id": "b2fe4c92",
   "metadata": {},
   "source": [
    "### Evaluate Generated Scripts - Optimized Prompt\n",
    "\n",
    "We run the same evaluation as above, but now with our optimized prompt to see if there were any improvements"
   ]
  },
  {
   "cell_type": "code",
   "execution_count": null,
   "id": "eea51c83",
   "metadata": {},
   "outputs": [],
   "source": [
    "from scripts.topk_eval import evaluate_folder\n",
    "\n",
    "evaluate_folder(\n",
    "    folder_path=\"results_topk_optimized\",\n",
    "    k=500,\n",
    "    scale_tokens=5_000_000,\n",
    "    csv_path=\"run_results_topk_optimized.csv\",\n",
    ")\n"
   ]
  },
  {
   "cell_type": "markdown",
   "id": "bf35e47b",
   "metadata": {},
   "source": [
    "### Adding LLM-as-a-Judge Grading \n",
    "\n",
    "Along with more quantitative evaluations we can measure the models performance on more qualitative metrics like code quality, and task adherence. We have created a sample prompt for this called ``llm_as_judge.txt``. "
   ]
  },
  {
   "cell_type": "code",
   "execution_count": 21,
   "id": "cb68a647",
   "metadata": {},
   "outputs": [],
   "source": [
    "from scripts.llm_judge import judge_folder"
   ]
  },
  {
   "cell_type": "code",
   "execution_count": null,
   "id": "40cdec99",
   "metadata": {},
   "outputs": [],
   "source": [
    "\n",
    "# Run LLM-as-judge for baseline results\n",
    "judge_folder(\n",
    "    results_dir=\"results_topk_baseline\",\n",
    "    out_dir=None,  # auto-map to results_llm_as_judge_baseline\n",
    "    model=\"gpt-5\",\n",
    "    system_prompt_path=\"llm_as_judge.txt\",\n",
    "    task_text=None,  # use default task description\n",
    "    concurrency=6,\n",
    ")\n"
   ]
  },
  {
   "cell_type": "code",
   "execution_count": null,
   "id": "626f4797",
   "metadata": {},
   "outputs": [],
   "source": [
    "\n",
    "# Run LLM-as-judge for optimized results\n",
    "judge_folder(\n",
    "    results_dir=\"results_topk_optimized\",\n",
    "    out_dir=None,  # auto-map to results_llm_as_judge_optimized\n",
    "    model=\"gpt-5\",\n",
    "    system_prompt_path=\"llm_as_judge.txt\",\n",
    "    task_text=None,\n",
    "    concurrency=6,\n",
    ")\n",
    "\n"
   ]
  },
  {
   "cell_type": "markdown",
   "id": "50361139",
   "metadata": {},
   "source": [
    "### Summarizing the results \n",
    "\n",
    "We can now demonstrate from both a quantitative standpoint, along with a qualitative standpoint from our LLM as Judge results. "
   ]
  },
  {
   "cell_type": "code",
   "execution_count": 6,
   "id": "a6dd05b0",
   "metadata": {},
   "outputs": [
    {
     "data": {
      "image/png": "[encoded data removed]",
      "text/plain": [
       "<Figure size 1500x800 with 6 Axes>"
      ]
     },
     "metadata": {},
     "output_type": "display_data"
    },
    {
     "data": {
      "text/markdown": [
       "### Prompt Optimization Results - Coding Tasks\n",
       "\n",
       "| Metric                      | Baseline | Optimized | Δ (Opt − Base) |\n",
       "|----------------------------|---------:|----------:|---------------:|\n",
       "| Avg Time (s)                |    7.906 |     6.977 |        -0.929 |\n",
       "| Peak Memory (KB)            |   3626.3 |     577.5 |       -3048.8 |\n",
       "| Exact (%)                   |    100.0 |     100.0 |           0.0 |\n",
       "| Sorted (%)                  |    100.0 |     100.0 |           0.0 |\n",
       "| LLM Adherence (1–5)         |     4.40 |      4.90 |         +0.50 |\n",
       "| Code Quality (1–5)          |     4.73 |      4.90 |         +0.16 |"
      ],
      "text/plain": [
       "<IPython.core.display.Markdown object>"
      ]
     },
     "metadata": {},
     "output_type": "display_data"
    },
    {
     "name": "stdout",
     "output_type": "stream",
     "text": [
      "### Prompt Optimization Results - Coding Tasks\n",
      "\n",
      "| Metric                      | Baseline | Optimized | Δ (Opt − Base) |\n",
      "|----------------------------|---------:|----------:|---------------:|\n",
      "| Avg Time (s)                |    7.906 |     6.977 |        -0.929 |\n",
      "| Peak Memory (KB)            |   3626.3 |     577.5 |       -3048.8 |\n",
      "| Exact (%)                   |    100.0 |     100.0 |           0.0 |\n",
      "| Sorted (%)                  |    100.0 |     100.0 |           0.0 |\n",
      "| LLM Adherence (1–5)         |     4.40 |      4.90 |         +0.50 |\n",
      "| Code Quality (1–5)          |     4.73 |      4.90 |         +0.16 |\n"
     ]
    }
   ],
   "source": [
    "from pathlib import Path\n",
    "import importlib\n",
    "import scripts.results_summarizer as rs\n",
    "from IPython.display import Markdown, display\n",
    "\n",
    "importlib.reload(rs)\n",
    "\n",
    "fig = rs.render_charts(\n",
    "    quant_baseline=Path(\"results_topk_baseline\")/\"run_results_topk_baseline.csv\",\n",
    "    quant_optimized=Path(\"results_topk_optimized\")/\"run_results_topk_optimized.csv\",\n",
    "    judge_baseline=Path(\"results_llm_as_judge_baseline\")/\"judgement_summary.csv\",\n",
    "    judge_optimized=Path(\"results_llm_as_judge_optimized\")/\"judgement_summary.csv\",\n",
    "    auto_display=True,\n",
    "    close_after=True,\n",
    ")\n",
    "md = rs.build_markdown_summary(\n",
    "    quant_baseline=Path(\"results_topk_baseline\")/\"run_results_topk_baseline.csv\",\n",
    "    quant_optimized=Path(\"results_topk_optimized\")/\"run_results_topk_optimized.csv\",\n",
    "    judge_baseline=Path(\"results_llm_as_judge_baseline\")/\"judgement_summary.csv\",\n",
    "    judge_optimized=Path(\"results_llm_as_judge_optimized\")/\"judgement_summary.csv\",\n",
    ")\n",
    "\n",
    "display(Markdown(md))\n",
    "\n",
    "print(md)"
   ]
  },
  {
   "cell_type": "markdown",
   "id": "7d076297",
   "metadata": {},
   "source": [
    "Even though GPT-5 already produced correct code, prompt optimization tightened constraints and clarified any ambiguity. Showing overall improvements to the results!\n",
    "\n",
    "\n"
   ]
  },
  {
   "cell_type": "markdown",
   "id": "c3dec50a",
   "metadata": {},
   "source": [
    "--------------------------------------------------------------------"
   ]
  },
  {
   "cell_type": "markdown",
   "id": "f1e0f019",
   "metadata": {},
   "source": [
    "### Context and Retrieval: Simulating a Financial Question Answering\n",
    "\n",
    "Most production use cases face imperfect queries and noisy context. **FailSafeQA** is an excellent benchmark that deliberately perturbs both the **query** (misspellings, incompleteness, off-domain phrasing) and the **context** (missing, OCR-corrupted, or irrelevant docs) and reports **Robustness**, **Context Grounding**, and **Compliance**—i.e., can the model answer when the signal exists and abstain when it doesn’t.\n",
    "\n",
    "![FailSafeQA diagram](../../images/image_optimize_4.png)\n",
    "\n",
    "**Links**\n",
    "- Paper (arXiv): *Expect the Unexpected: FailSafe Long Context QA for Finance* — https://arxiv.org/abs/2502.06329  \n",
    "- Dataset (Hugging Face): https://huggingface.co/datasets/Writer/FailSafeQA  \n",
    "- Authors/Makers: Kiran Kamble, Melisa Russak, Dmytro Mozolevskyi, Muayad Ali, Mateusz Russak, Waseem AlShikh (Writer.ai) — see author list on the arXiv page above\n"
   ]
  },
  {
   "cell_type": "markdown",
   "id": "433925a6",
   "metadata": {},
   "source": [
    "We will run FailSafeQA evaluations via the helper script and compare Baseline vs Optimized prompts side by side."
   ]
  },
  {
   "cell_type": "code",
   "execution_count": 3,
   "id": "774410c9",
   "metadata": {},
   "outputs": [],
   "source": [
    "# Define the Baseline FailSafeQA system prompt here for reuse\n",
    "baseline_prompt_fsqa = (\n",
    "    \"You are a finance QA assistant. Answer ONLY using the provided context.\\n\"\n",
    "    \"If the context is missing or irrelevant, politely refuse and state that you need the relevant document.\"\n",
    ")"
   ]
  },
  {
   "cell_type": "markdown",
   "id": "0a817cd8",
   "metadata": {},
   "source": [
    "We can use the prompt optimizer once again to construct a new prompt that is more suitable for this use case. Drawing on best practices for long-context question answering, we know that we should remind our answer model to rely on information in the context section and refuse answers to questions if the context is insufficient. By using the Optimize button once without any arguments we get a reasonable structure for the prompt and end up with this as our optimized prompt.\n",
    "\n",
    "\n",
    "![optimize_image](../../images/image_optimize_5.png)\n",
    "\n"
   ]
  },
  {
   "cell_type": "code",
   "execution_count": 4,
   "id": "aede3e7d",
   "metadata": {},
   "outputs": [],
   "source": [
    "optimized_fsqa_prompt = \"\"\"You are a finance document QA assistant.\n",
    "\n",
    "Behavioral priorities (in order):\n",
    "1) Grounding: Use ONLY the text inside [Context]. Do NOT use outside knowledge or assumptions.\n",
    "2) Evidence check: Before answering, verify that the answer text (numbers, entities, dates, phrasing) is explicitly present or directly entailed by [Context]. If not, refuse (see Refusal policy).\n",
    "3) Robustness to query noise: The user question may contain misspellings, missing words, or non-financial phrasing. Infer intent using the context and answer if the meaning is clear and supported by the context.\n",
    "4) OCR noise handling: The context may include OCR artifacts (repeated characters, stray symbols, broken words). Ignore junk characters and reconstruct meaning when the underlying sentence is still recoverable. Do not guess beyond what the context supports.\n",
    "\n",
    "Refusal policy:\n",
    "- If [Context] is empty or lacks the information to answer, reply with a brief refusal and guidance. Do NOT attempt a general-knowledge answer.\n",
    "- If the question is unrelated to the content of [Context] (out of scope), reply with a brief refusal and guidance. Do NOT speculate.\n",
    "- If the question is incomplete but the correct answer is unambiguous from [Context], infer the intent and answer exactly; do NOT refuse.\n",
    "\n",
    "Answer style:\n",
    "- Default to the **shortest exact answer** needed to satisfy the question (e.g., the precise number/string/date as written). Preserve units, signs, casing, currency symbols, commas, and parentheses from the context. Do NOT round numbers unless asked.\n",
    "- If the user explicitly asks to “write”, “draft”, or “generate” content, you may produce multi-sentence or formatted text—but still source every factual claim strictly from [Context].\n",
    "- If the question is ambiguous, state the needed clarification in one short sentence, then provide the best supported answer if possible.\n",
    "\n",
    "Output format:\n",
    "- If answerable from the context:\n",
    "  FINAL: <exact answer here>\n",
    "  (optional) EVIDENCE: \"<very short quoted span from the context that contains the answer>\"\n",
    "- If refusing:\n",
    "  FINAL: Insufficient information in the provided context to answer this question. Please upload the relevant document or refine your question to include the necessary details.\"\"\""
   ]
  },
  {
   "cell_type": "markdown",
   "id": "2516f981",
   "metadata": {},
   "source": [
    "Let's now run our evaluations, for demonstration we will display the results of a single comparison, but you can also run the full evaluation. Note: This will take time."
   ]
  },
  {
   "cell_type": "code",
   "execution_count": null,
   "id": "2881639a",
   "metadata": {},
   "outputs": [],
   "source": [
    "import importlib\n",
    "import run_FailSafeQA\n",
    "import pandas as pd\n",
    "import matplotlib.pyplot as plt\n",
    "from openai import OpenAI\n",
    "\n",
    "# Ensure latest function signature is used after code edits\n",
    "importlib.reload(run_FailSafeQA)\n",
    "run_failsafeqa = run_FailSafeQA.run_failsafeqa\n",
    "\n",
    "# Set idx to an integer for a quick single-example comparison; set to None for full run\n",
    "idx = 0  # e.g., 0 for a single datapoint\n",
    "\n",
    "#Helper functions:\n",
    "class OpenAIAnswer:\n",
    "    def __init__(self):\n",
    "        self.client = OpenAI()\n",
    "\n",
    "    def __call__(self, system_prompt: str, user_prompt: str, model: str) -> str:\n",
    "        resp = self.client.responses.create(\n",
    "            model=model,\n",
    "            input=[\n",
    "                {\"role\": \"developer\", \"content\": [{\"type\": \"input_text\", \"text\": system_prompt}]},\n",
    "                {\"role\": \"user\", \"content\": [{\"type\": \"input_text\", \"text\": user_prompt}]},\n",
    "            ],\n",
    "            text={\"format\": {\"type\": \"text\"}, \"verbosity\": \"medium\"},\n",
    "            reasoning={\"effort\": \"medium\", \"summary\": \"auto\"},\n",
    "            tools=[],\n",
    "        )\n",
    "        return resp.output_text\n",
    "class OpenAIJudge:\n",
    "    def __init__(self):\n",
    "        self.client = OpenAI()\n",
    "\n",
    "    def __call__(self, prompt: str, model: str) -> str:\n",
    "        resp = self.client.responses.create(\n",
    "            model=model,\n",
    "            input=[{\"role\": \"user\", \"content\": [{\"type\": \"input_text\", \"text\": prompt}]}],\n",
    "            text={\"format\": {\"type\": \"text\"}, \"verbosity\": \"medium\"},\n",
    "            reasoning={\"effort\": \"medium\", \"summary\": \"auto\"},\n",
    "            tools=[],\n",
    "        )\n",
    "        return resp.output_text\n",
    "\n",
    "if idx is not None:\n",
    "    # Single example mode (with detailed prompt/response logging)\n",
    "    run_failsafeqa(\n",
    "        out=\"results_failsafeqa_baseline.csv\",\n",
    "        system_prompt=baseline_prompt_fsqa,\n",
    "        indices=[idx],\n",
    "        log_prompts=True,\n",
    "        log_chars=800,\n",
    "        log_file=\"failsafeqa_debug.log\",\n",
    "    )\n",
    "    run_failsafeqa(\n",
    "        out=\"results_failsafeqa_optimized.csv\",\n",
    "        system_prompt=optimized_fsqa_prompt,\n",
    "        indices=[idx],\n",
    "        log_prompts=True,\n",
    "        log_chars=800,\n",
    "        log_file=\"failsafeqa_debug.log\",\n",
    "    )\n",
    "\n",
    "    base_df = pd.read_csv(\"results_failsafeqa_baseline.csv\")\n",
    "    opt_df = pd.read_csv(\"results_failsafeqa_optimized.csv\")\n",
    "\n",
    "    b_one = base_df[base_df[\"idx\"] == idx]\n",
    "    o_one = opt_df[opt_df[\"idx\"] == idx]\n",
    "\n",
    "    comparison_df = pd.concat([b_one, o_one], ignore_index=True)\n",
    "\n",
    "    # Keep only relevant columns\n",
    "    comparison_df = comparison_df[[\"run\", \"kind\", \"rating\", \"compliance\"]]\n",
    "\n",
    "    # Display as table\n",
    "    display(comparison_df)\n",
    "\n",
    "else:\n",
    "    # Full run mode\n",
    "    run_failsafeqa(out=\"results_failsafeqa_baseline.csv\", system_prompt=baseline_prompt_fsqa)\n",
    "    run_failsafeqa(out=\"results_failsafeqa_optimized.csv\", system_prompt=optimized_fsqa_prompt)\n",
    "\n",
    "    base_df = pd.read_csv(\"results_failsafeqa_baseline.csv\")\n",
    "    opt_df = pd.read_csv(\"results_failsafeqa_optimized.csv\")\n",
    "\n",
    "    def per_kind_summary(df: pd.DataFrame) -> pd.DataFrame:\n",
    "        out = df.groupby(\"kind\").agg(\n",
    "            mean_rating=(\"rating\", lambda x: pd.to_numeric(x, errors=\"coerce\").mean()),\n",
    "            compliance_rate=(\"compliance\", lambda x: pd.to_numeric(x, errors=\"coerce\").fillna(0).mean()),\n",
    "            count=(\"rating\", \"count\"),\n",
    "        )\n",
    "        return out.round(3)\n",
    "\n",
    "    base_summary = per_kind_summary(base_df)\n",
    "    opt_summary = per_kind_summary(opt_df)\n",
    "\n",
    "    summary = base_summary.join(opt_summary, lsuffix=\"_base\", rsuffix=\"_opt\").fillna(\"NA\")\n",
    "\n",
    "    print(\"Per-kind comparison (baseline vs optimized):\")\n",
    "    display(summary)\n",
    "\n",
    "    # Plot compliance rate comparison per kind\n",
    "    kinds = summary.index.tolist()\n",
    "    x = range(len(kinds))\n",
    "    base_vals = summary[\"compliance_rate_base\"].astype(float).tolist()\n",
    "    opt_vals = summary[\"compliance_rate_opt\"].astype(float).tolist()\n",
    "\n",
    "    fig, ax = plt.subplots(figsize=(10, 4))\n",
    "    width = 0.35\n",
    "    ax.bar([i - width/2 for i in x], base_vals, width=width, label=\"Baseline\", color=\"#cbd5e1\")\n",
    "    ax.bar([i + width/2 for i in x], opt_vals, width=width, label=\"Optimized\", color=\"#60a5fa\")\n",
    "    ax.set_xticks(list(x))\n",
    "    ax.set_xticklabels(kinds, rotation=45, ha=\"right\")\n",
    "    ax.set_ylim(0, 1)\n",
    "    ax.set_ylabel(\"Compliance rate\")\n",
    "    ax.set_title(\"FailSafeQA — Per-kind Compliance (Baseline vs Optimized)\")\n",
    "    ax.legend()\n",
    "    plt.tight_layout()\n",
    "    plt.show()\n",
    "\n",
    "    # Overall metrics\n",
    "    def overall(df: pd.DataFrame):\n",
    "        return {\n",
    "            \"mean_rating\": float(pd.to_numeric(df[\"rating\"], errors=\"coerce\").mean()),\n",
    "            \"mean_compliance\": float(pd.to_numeric(df[\"compliance\"], errors=\"coerce\").fillna(0).mean()),\n",
    "        }\n",
    "\n",
    "    print(\"Overall — Baseline:\", overall(base_df))\n",
    "    print(\"Overall — Optimized:\", overall(opt_df))\n"
   ]
  },
  {
   "cell_type": "code",
   "execution_count": 1,
   "id": "c20097e6",
   "metadata": {},
   "outputs": [
    {
     "data": {
      "text/markdown": [
       "## FailSafeQA — Summary\n",
       "\n",
       "**Compliance threshold:** ≥ 6\n",
       "\n",
       "| Metric                                    | Baseline | Optimized | Δ (Opt − Base) |\n",
       "| ----------------------------------------- | -------- | --------- | -------------- |\n",
       "| Robustness (avg across datapoints)        | 0.320    | 0.540     | +0.220         |\n",
       "| Context Grounding (avg across datapoints) | 0.800    | 0.950     | +0.150         |\n",
       "\n",
       "_Source files:_ `results_failsafeqa.csv` · `results_failsafeqa.csv`"
      ],
      "text/plain": [
       "<IPython.core.display.Markdown object>"
      ]
     },
     "metadata": {},
     "output_type": "display_data"
    },
    {
     "name": "stdout",
     "output_type": "stream",
     "text": [
      "## FailSafeQA — Summary\n",
      "\n",
      "**Compliance threshold:** ≥ 6\n",
      "\n",
      "| Metric                                    | Baseline | Optimized | Δ (Opt − Base) |\n",
      "| ----------------------------------------- | -------- | --------- | -------------- |\n",
      "| Robustness (avg across datapoints)        | 0.320    | 0.540     | +0.220         |\n",
      "| Context Grounding (avg across datapoints) | 0.800    | 0.950     | +0.150         |\n",
      "\n",
      "_Source files:_ `results_failsafeqa.csv` · `results_failsafeqa.csv`\n"
     ]
    }
   ],
   "source": [
    "from IPython.display import Markdown, display\n",
    "\n",
    "def build_markdown_summary_from_metrics(\n",
    "    robust_base: float, ground_base: float,\n",
    "    robust_opt: float, ground_opt: float,\n",
    "    threshold: int = 6,\n",
    "    src_base: str = \"results_failsafeqa.csv\",\n",
    "    src_opt: str = \"results_failsafeqa.csv\",\n",
    ") -> str:\n",
    "    d_r = robust_opt - robust_base\n",
    "    d_g = ground_opt - ground_base\n",
    "\n",
    "    # Data rows\n",
    "    rows = [\n",
    "        [\"Metric\", \"Baseline\", \"Optimized\", \"Δ (Opt − Base)\"],\n",
    "        [\"Robustness (avg across datapoints)\", f\"{robust_base:.3f}\", f\"{robust_opt:.3f}\", f\"{d_r:+.3f}\"],\n",
    "        [\"Context Grounding (avg across datapoints)\", f\"{ground_base:.3f}\", f\"{ground_opt:.3f}\", f\"{d_g:+.3f}\"],\n",
    "    ]\n",
    "\n",
    "    # Calculate column widths for alignment\n",
    "    col_widths = [max(len(str(row[i])) for row in rows) for i in range(len(rows[0]))]\n",
    "\n",
    "    # Build table lines with padding\n",
    "    lines = []\n",
    "    for i, row in enumerate(rows):\n",
    "        padded = [str(cell).ljust(col_widths[j]) for j, cell in enumerate(row)]\n",
    "        lines.append(\"| \" + \" | \".join(padded) + \" |\")\n",
    "        if i == 0:  # after header\n",
    "            sep = [\"-\" * col_widths[j] for j in range(len(row))]\n",
    "            lines.append(\"| \" + \" | \".join(sep) + \" |\")\n",
    "\n",
    "    table = \"\\n\".join(lines)\n",
    "\n",
    "    return f\"\"\"\n",
    "## FailSafeQA — Summary\n",
    "\n",
    "**Compliance threshold:** ≥ {threshold}\n",
    "\n",
    "{table}\n",
    "\n",
    "_Source files:_ `{src_base}` · `{src_opt}`\n",
    "\"\"\".strip()\n",
    "\n",
    "# Usage\n",
    "md = build_markdown_summary_from_metrics(\n",
    "    robust_base=0.320, ground_base=0.800,\n",
    "    robust_opt=0.540, ground_opt=0.950,\n",
    "    threshold=6,\n",
    "    src_base=\"results_failsafeqa.csv\",\n",
    "    src_opt=\"results_failsafeqa.csv\",\n",
    ")\n",
    "\n",
    "# Notebook pretty\n",
    "display(Markdown(md))\n",
    "\n",
    "print(md)"
   ]
  },
  {
   "cell_type": "markdown",
   "id": "0a84939c",
   "metadata": {},
   "source": [
    "GPT-5-mini crushes this task, so even the baseline prompt gets scores of >= 4 almost all of the time. However if we compare the percent of perfect scores (6/6) for the judge, we see that the optimized prompt has way significantly more perfect answers when evaluated in the two categories of FailSafeQA answer quality: robustness and context grounding."
   ]
  },
  {
   "cell_type": "markdown",
   "id": "ebd5453b",
   "metadata": {},
   "source": [
    "### Conclusion\n",
    "\n",
    "We’re excited for everyone to try **Prompt Optimization for GPT-5** in the OpenAI Playground. GPT-5 brings state-of-the-art intelligence, and a strong prompt helps it reason more reliably, follow constraints, and produce cleaner, higher quality results.\n",
    "\n",
    "\n",
    "Give the [Prompt Optimizer](https://platform.openai.com/chat/edit?optimize=true) a try on your task today!"
   ]
  }
 ],
 "metadata": {
  "kernelspec": {
   "display_name": "Python 3",
   "language": "python",
   "name": "python3"
  },
  "language_info": {
   "codemirror_mode": {
    "name": "ipython",
    "version": 3
   },
   "file_extension": ".py",
   "mimetype": "text/x-python",
   "name": "python",
   "nbconvert_exporter": "python",
   "pygments_lexer": "ipython3",
   "version": "3.11.13"
  }
 },
 "nbformat": 4,
 "nbformat_minor": 5
}
