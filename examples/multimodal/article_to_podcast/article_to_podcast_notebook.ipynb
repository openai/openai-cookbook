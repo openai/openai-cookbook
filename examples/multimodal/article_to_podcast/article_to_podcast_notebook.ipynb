{
 "cells": [
  {
   "cell_type": "markdown",
   "id": "2bdf03c8",
   "metadata": {},
   "source": [
    "# 🎙️ Article to Podcast Notebook\n",
    "\n",
    "This tutorial walks you through how to use OpenAI's GPT-4o, to automatically turn a written article (in Markdown format) into a compelling podcast episode. Inspired by tools like NotebookLM, this script demonstrates how generative AI can support multimedia storytelling in the newsroom with just a few lines of code.\n",
    "\n",
    "By the end of this guide, you'll be able to:\n",
    "\n",
    "- Transform long-form articles into well-crafted podcast scripts\n",
    "\n",
    "- Convert those scripts into high-quality audio using OpenAI’s `tts-1-hd` text-to-speech model\n",
    "\n",
    "- Output a podcast-ready .mp3 file, suitable for publishing or internal review"
   ]
  },
  {
   "cell_type": "markdown",
   "id": "84b270fe-e7d1-402f-b85f-8aa747de02e4",
   "metadata": {},
   "source": [
    "## Step 0: Set up prerequisites"
   ]
  },
  {
   "cell_type": "code",
   "execution_count": 15,
   "id": "b9d28018-9172-4718-88a9-587dc184cb43",
   "metadata": {},
   "outputs": [],
   "source": [
    "# Run once to install the openai python SDK (comment out if you already have it installed)\n",
    "# !pip install --upgrade openai"
   ]
  },
  {
   "cell_type": "markdown",
   "id": "4f5664f9-0fe3-4d32-840e-d9b9efd617a8",
   "metadata": {},
   "source": [
    "**Please also remember to set your OpenAI API Key as an environment variable**\n",
    "\n",
    "```bash\n",
    "export OPENAI_API_KEY=<OPENAI_API_KEY>\n",
    "```"
   ]
  },
  {
   "cell_type": "code",
   "execution_count": 8,
   "id": "3abbb28d",
   "metadata": {},
   "outputs": [],
   "source": [
    "import os\n",
    "from openai import OpenAI\n",
    "\n",
    "client = OpenAI()"
   ]
  },
  {
   "cell_type": "markdown",
   "id": "3327541f-ad22-426a-808d-0ad31959197a",
   "metadata": {},
   "source": [
    "## 📝 Step 1: Read your article\n",
    "\n",
    "Paste the path to your local `.md` article below or use a text box if running in a hosted notebook environment. In this example, we are using a recent New Yorker profile on Sam Altman."
   ]
  },
  {
   "cell_type": "code",
   "execution_count": 9,
   "id": "8f5fc0de",
   "metadata": {},
   "outputs": [],
   "source": [
    "# 🔧 Set the path to your article\n",
    "article_path = 'sam_new_yorker.md'  # Replace with your Markdown file path\n",
    "assert article_path.endswith('.md'), 'Please provide a Markdown (.md) file.'"
   ]
  },
  {
   "cell_type": "code",
   "execution_count": 10,
   "id": "e1155130",
   "metadata": {},
   "outputs": [
    {
     "name": "stdout",
     "output_type": "stream",
     "text": [
      "✅ Article loaded.\n"
     ]
    }
   ],
   "source": [
    "def read_article(file_path):\n",
    "    with open(file_path, 'r', encoding='utf-8') as f:\n",
    "        return f.read()\n",
    "\n",
    "article_text = read_article(article_path)\n",
    "print('✅ Article loaded.')"
   ]
  },
  {
   "cell_type": "markdown",
   "id": "ac4a73f5-edcc-40b6-b343-79abb2040a86",
   "metadata": {},
   "source": [
    "## ✍️ Step 2: Generate a podcast script\n",
    "\n",
    "Now, we send your article to GPT-4o with a carefully designed prompt. The model returns a concise, character-driven script designed for audio."
   ]
  },
  {
   "cell_type": "code",
   "execution_count": 11,
   "id": "b0b4f31b",
   "metadata": {},
   "outputs": [
    {
     "name": "stdout",
     "output_type": "stream",
     "text": [
      "✅ Podcast script generated.\n"
     ]
    }
   ],
   "source": [
    "def generate_podcast_script(article_text):\n",
    "    prompt = (\n",
    "        \"Turn the following article into a script for a short (< 5 minute) podcast episode. \"\n",
    "        \"Write the script to be read aloud, with no titles, sound effects, sign-offs, or extraneous elements. \"\n",
    "        \"Make it compelling and high in specifics, focusing on characters, settings, and narrative arc. \"\n",
    "        \"Write in the style of a WSJ or Economist podcast: clear, direct, and rich in detail, but not too abstract or 'poncy'. \"\n",
    "        \"Focus on the story and the people involved.\\n\\n\" + article_text\n",
    "    )\n",
    "    response = client.chat.completions.create(\n",
    "        model=\"gpt-4o\",\n",
    "        messages=[\n",
    "            {\"role\": \"system\", \"content\": \"You are a podcast scriptwriter for a major news podcast. Your scripts are written to be read aloud, with no titles, sound effects, or sign-offs. You focus on specifics, characters, settings, and narrative arc, and avoid being too abstract or flowery.\"},\n",
    "            {\"role\": \"user\", \"content\": prompt}\n",
    "        ]\n",
    "    )\n",
    "    return response.choices[0].message.content.strip()\n",
    "\n",
    "script = generate_podcast_script(article_text)\n",
    "print('✅ Podcast script generated.')"
   ]
  },
  {
   "cell_type": "markdown",
   "id": "6c01725c-2102-4e49-98ee-ab935c91fcb8",
   "metadata": {},
   "source": [
    "## 👀 Step 3: Preview the script\n",
    "\n",
    "The model returns a concise, character-driven script designed for audio."
   ]
  },
  {
   "cell_type": "code",
   "execution_count": 5,
   "id": "aea6a621-4aa0-486a-820c-fa93617b9b25",
   "metadata": {
    "scrolled": true
   },
   "outputs": [
    {
     "name": "stdout",
     "output_type": "stream",
     "text": [
      "In the spring of 2017, a young OpenAI engineer named Alec Radford began conducting a series of experiments that would shape the future of artificial intelligence. Armed with a fresh innovation from Google called a transformer neural network, Radford set out to explore its possibilities. Unlike existing systems, transformers could process and analyze vast volumes of text, making connections in ways previously unimaginable.\n",
      "\n",
      "Radford's approach was novel. He fed the transformer a database of 7,000 unpublished English-language books, a treasure trove of human narrative—from romance to adventure to speculative fiction. Rather than direct the network to translate text, as Google initially did, Radford posed a simpler challenge: predict the next word in a sentence. The results were astounding. Word by word, the machine began to generate text, not from rigid rules or a grammar guide, but seemingly through an innate understanding birthed from the stories it consumed. This experimentation paved the way for what we now know as ChatGPT, which made headlines in 2022 with its ability to create text that felt eerily human.\n",
      "\n",
      "By 2017, OpenAI, co-founded by the entrepreneurial Sam Altman and tech magnate Elon Musk, was still striving for a breakthrough. With Altman as the public face, OpenAI was grappling with ambitious projects—like teaching virtual robots to backflip—while simultaneously grappling with existential questions about artificial general intelligence, or AGI. The team faced a crossroads: pursue these intriguing but ultimately limited projects, or leverage Radford's discovery at a larger scale.\n",
      "\n",
      "Ultimately, Radford's success sparked a decisive shift within OpenAI. Under Altman's leadership, they chose to prioritize large-scale language models over others, pooling resources into amassing extensive training data beyond Radford’s initial cache. Partnerships, particularly with Microsoft, which offered computing power at unparalleled levels, became pivotal, catapulting OpenAI from potential to performance.\n",
      "\n",
      "OpenAI’s focus on language models, while requiring immense computing power and resources, began to bear fruit. GPT-2 launched in 2019, marking a significant milestone in the AI world, succeeded by the consumer-friendly ChatGPT in 2022. As user numbers soared, so did the sense of technological momentum and anticipation.\n",
      "\n",
      "However, OpenAI's journey also ignited debates. Karen Hao, in her exhaustive exploration \"Empire of AI\", traces the ripple effects of OpenAI's model on the industry, arguing that Altman's choices, backed by his unique networking skills and vision, led the AI sector down a path of relentless scale and competition. The OpenAI model took root as an industry standard, sparking a race to scale AI models globally.\n",
      "\n",
      "The organization's structure evolved too, balancing between its nonprofit aspirations and a for-profit subsidiary to attract necessary funding and talent. Such complexities were not without challenges. Internal tensions occasionally fractured the company, as seen in late 2023 with the brief dismissal of Altman in what became known internally as \"the Blip\". Amid these challenges, Altman's calm during such turbulence marked his transformation—from a curious innovator to a shrewd, business-oriented leader.\n",
      "\n",
      "Sam Altman's story, thus, is interwoven with the story of AI itself—not just about the technology, but about the decisions, risks, and personalities that shape its evolution. Altman remains a key figure, navigating AI's dizzying possibilities with both optimism and caution, as technology continues to reshape our world.\n"
     ]
    }
   ],
   "source": [
    "# Display script\n",
    "print(script)"
   ]
  },
  {
   "cell_type": "markdown",
   "id": "c887f0ac-e35b-465a-be62-3ccdc949e12e",
   "metadata": {},
   "source": [
    "## 🔊 Step 4: Generate podcast audio\n",
    "\n",
    "Next, convert your podcast script into high-quality spoken audio using OpenAI’s [text-to-speech](https://platform.openai.com/docs/guides/text-to-speech) API. Note that the text-to-speech API provides a number of different voices and configurations that you can choose from."
   ]
  },
  {
   "cell_type": "code",
   "execution_count": 7,
   "id": "9b4ec95c",
   "metadata": {},
   "outputs": [
    {
     "name": "stdout",
     "output_type": "stream",
     "text": [
      "✅ Done! Podcast audio saved to sam_new_yorker_podcast.mp3\n"
     ]
    }
   ],
   "source": [
    "def generate_podcast_audio(script_text, output_path):\n",
    "    response = client.audio.speech.create(\n",
    "        model=\"tts-1-hd\",\n",
    "        voice=\"alloy\",\n",
    "        input=script_text,\n",
    "    )\n",
    "    response.write_to_file(output_path)\n",
    "\n",
    "audio_path = os.path.splitext(article_path)[0] + \"_podcast.mp3\"\n",
    "generate_podcast_audio(script, audio_path)\n",
    "print(f'✅ Done! Podcast audio saved to {audio_path}')"
   ]
  },
  {
   "cell_type": "markdown",
   "id": "03bd9baf-4625-4c4e-a71a-3043ca7dd664",
   "metadata": {},
   "source": [
    "## ✅ You're done!\n",
    "\n",
    "Many newsrooms want to extend their reporting into new formats—but producing audio is labor-intensive. OpenAI helps lowers the barrier, making it easy to experiment with audio storytelling, build rapid prototypes, or even produce short-form podcast content for internal or public channels."
   ]
  },
  {
   "cell_type": "code",
   "execution_count": null,
   "id": "1a0e0c9b-e9f1-4ffa-8f2b-2f5adc41c6f1",
   "metadata": {},
   "outputs": [],
   "source": []
  }
 ],
 "metadata": {
  "kernelspec": {
   "display_name": "Python 3 (ipykernel)",
   "language": "python",
   "name": "python3"
  },
  "language_info": {
   "codemirror_mode": {
    "name": "ipython",
    "version": 3
   },
   "file_extension": ".py",
   "mimetype": "text/x-python",
   "name": "python",
   "nbconvert_exporter": "python",
   "pygments_lexer": "ipython3",
   "version": "3.9.6"
  }
 },
 "nbformat": 4,
 "nbformat_minor": 5
}
