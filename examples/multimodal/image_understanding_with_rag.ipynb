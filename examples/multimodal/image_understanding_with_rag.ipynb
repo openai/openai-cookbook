{
 "cells": [
  {
   "cell_type": "markdown",
   "metadata": {},
   "source": [
    "# Image Understanding with RAG using OpenAI's Vision & Responses APIs\n",
    "\n",
    "Welcome! This notebook demonstrates how to build a Retrieval-Augmented Generation (RAG) system using OpenAI’s Vision and Responses APIs. It focuses on multimodal data, combining image and text inputs to analyze customer experiences. The system leverages GPT-5 and integrates image understanding with file search to provide context-aware responses.\n",
    "\n",
    "Multimodal datasets are increasingly common, particularly in domains like healthcare, where records often contain both visual data (e.g. radiology scans) and accompanying text (e.g. clinical notes). Real-world datasets also tend to be noisy, with incomplete or missing information, making it critical to analyze multiple modalities in tandem.\n",
    "\n",
    "This guide focuses on a customer service use case: evaluating customer feedback that may include photos, and written reviews. You’ll learn how to synthetically generate both image and text inputs, use file search for context retrieval, and apply the Evals API to assess how incorporating image understanding impacts overall performance.\n",
    "\n",
    "---\n",
    "\n",
    "## Overview\n",
    "\n",
    "---\n",
    "\n",
    "## Table of Contents\n",
    "\n",
    "1. [Setup & Dependencies](#setup-and-dependencies)\n",
    "2. [Example Generations](#example-generations)\n",
    "3. [Data Processing](#data-processing)\n",
    "   - Load synthetic datasets\n",
    "   - Merge data\n",
    "4. [Populating Vector Store](#populating-vector-store)\n",
    "   - Upload data for file search\n",
    "   - Set up attribute filters\n",
    "5. [Retrieval and Filtering](#retrieval-and-filtering)\n",
    "   - Test retrieval performance\n",
    "   - Apply attribute-based filters\n",
    "6. [Evaluation and Analysis](#evaluation-and-analysis)\n",
    "   - Compare predictions to ground truth\n",
    "   - Analyze performance metrics"
   ]
  },
  {
   "cell_type": "markdown",
   "metadata": {},
   "source": [
    "## Setup and Dependencies"
   ]
  },
  {
   "cell_type": "code",
   "execution_count": null,
   "metadata": {},
   "outputs": [],
   "source": [
    "%pip install openai evals pandas numpy matplotlib tqdm ipython --upgrade --quiet"
   ]
  },
  {
   "cell_type": "code",
   "execution_count": null,
   "metadata": {},
   "outputs": [],
   "source": [
    "import base64\n",
    "from io import BytesIO\n",
    "import os\n",
    "from pathlib import Path\n",
    "\n",
    "import matplotlib.pyplot as plt\n",
    "import numpy as np\n",
    "import pandas as pd\n",
    "from openai import OpenAI\n",
    "from IPython.display import display, Image\n",
    "from tqdm.notebook import tqdm\n",
    "\n",
    "cache_dir = Path('.local_cache')\n",
    "cache_dir.mkdir(parents=True, exist_ok=True)\n",
    "\n",
    "client = OpenAI()"
   ]
  },
  {
   "cell_type": "markdown",
   "metadata": {},
   "source": [
    "## Example Generations\n",
    "\n",
    "Generating high-quality training and evaluation data for machine learning tasks can be costly and time-consuming. Synthetic data offers a practical and scalable alternative. In this notebook, the OpenAI Image API is used to generate synthetic images, while the Responses API is employed to create synthetic text, enabling efficient prototyping and experimentation across multimodal tasks."
   ]
  },
  {
   "cell_type": "code",
   "execution_count": null,
   "metadata": {},
   "outputs": [],
   "source": [
    "\n",
    "prompt = (\"Gourmet pasta neatly plated with garnish and sides on a white ceramic plate, \"\n",
    "          \"photographed from above on a restaurant table. Soft shadows and vibrant colors.\")\n",
    "cache_path = f\".local_cache/{hash(prompt)}.png\"\n",
    "\n",
    "if not os.path.exists(cache_path):\n",
    "    response = client.images.generate(\n",
    "        model=\"gpt-image-1\",\n",
    "        prompt=prompt,\n",
    "        size=\"1024x1024\"\n",
    "    )\n",
    "    \n",
    "    with open(cache_path, \"wb\") as f:\n",
    "        f.write(base64.b64decode(response.data[0].b64_json))\n",
    "    print(f\"Generated and cached: {cache_path}\")\n",
    "\n",
    "else:\n",
    "    print(f\"Loading from cache: {cache_path}\")\n",
    "\n",
    "display(Image(filename=cache_path))"
   ]
  },
  {
   "cell_type": "code",
   "execution_count": 4,
   "metadata": {},
   "outputs": [
    {
     "name": "stdout",
     "output_type": "stream",
     "text": [
      "Order arrived 10 minutes early, food was hot and packaged securely. Tacos were fresh, well-seasoned, and the salsa tasted homemade. Driver was friendly, followed instructions, and left it at the door. Will definitely order again.\n"
     ]
    }
   ],
   "source": [
    "def generate_food_delivery_review(sentiment: str = 'positive') -> str:\n",
    "    \"\"\"\n",
    "    Generate a synthetic food delivery review with the specified sentiment.\n",
    "    \n",
    "    Args:\n",
    "        sentiment: An adjective such as 'positive' or 'negative'.\n",
    "    \n",
    "    Returns:\n",
    "        Generated review text\n",
    "    \"\"\"\n",
    "    prompt = \"Write a very concise, realistic customer review for a recent food delivery.\"\n",
    "    prompt += f\" The review should reflect a {sentiment} experience.\"\n",
    "    \n",
    "    response = client.responses.create(\n",
    "        model=\"gpt-5\",\n",
    "        reasoning={\"effort\": \"minimal\"},\n",
    "        input=[{\"role\": \"user\", \"content\": prompt}]\n",
    "    )\n",
    "    return response.output_text\n",
    "\n",
    "\n",
    "review = generate_food_delivery_review()\n",
    "print(review)"
   ]
  },
  {
   "cell_type": "markdown",
   "metadata": {},
   "source": [
    "## Data Processing\n",
    "\n",
    "In this example, we’ll work with a pre-generated synthetic dataset of customer feedback that includes short text snippets, images from customer reviews, and occasionally combined multimodal entries. You can also generate your own synthetic dataset using the examples provided above to tailor the data to your specific use case."
   ]
  },
  {
   "cell_type": "code",
   "execution_count": null,
   "metadata": {},
   "outputs": [],
   "source": [
    "# Download the dataset\n",
    "! mkdir -p .local_cache/images\n",
    "! wget https://raw.githubusercontent.com/robtinn/image_understanding_rag_dataset/main/data/df.csv -O .local_cache/df.csv\n",
    "\n",
    "\n",
    "! wget https://raw.githubusercontent.com/robtinn/image_understanding_rag_dataset/main/data/images/1.png -O .local_cache/images/1.png\n",
    "! wget https://raw.githubusercontent.com/robtinn/image_understanding_rag_dataset/main/data/images/2.png -O .local_cache/images/2.png\n",
    "! wget https://raw.githubusercontent.com/robtinn/image_understanding_rag_dataset/main/data/images/3.png -O .local_cache/images/3.png\n",
    "! wget https://raw.githubusercontent.com/robtinn/image_understanding_rag_dataset/main/data/images/4.png -O .local_cache/images/4.png\n",
    "! wget https://raw.githubusercontent.com/robtinn/image_understanding_rag_dataset/main/data/images/5.png -O .local_cache/images/5.png\n",
    "! wget https://raw.githubusercontent.com/robtinn/image_understanding_rag_dataset/main/data/images/6.png -O .local_cache/images/6.png\n",
    "! wget https://raw.githubusercontent.com/robtinn/image_understanding_rag_dataset/main/data/images/7.png -O .local_cache/images/7.png"
   ]
  },
  {
   "cell_type": "code",
   "execution_count": 6,
   "metadata": {},
   "outputs": [],
   "source": [
    "def encode_image(image_path: str) -> str:\n",
    "    \"\"\"Encode image file to base64 string.\"\"\"\n",
    "    with open(image_path, \"rb\") as f:\n",
    "        return base64.b64encode(f.read()).decode(\"utf-8\")\n",
    "\n",
    "\n",
    "def analyze_image_sentiment(image_path: str) -> str:\n",
    "    \"\"\"Analyze food delivery image and return sentiment analysis.\"\"\"\n",
    "    base64_image = encode_image(image_path)\n",
    "    response = client.responses.create(\n",
    "        model=\"gpt-5\",\n",
    "        reasoning={\"effort\": \"minimal\"},\n",
    "        input=[{\n",
    "            \"role\": \"user\",\n",
    "            \"content\": [\n",
    "                {\n",
    "                    \"type\": \"input_text\",\n",
    "                    \"text\": \"Analyze this food delivery image. Respond with a brief description and sentiment (positive/negative) in one line.\"\n",
    "                },\n",
    "                {\n",
    "                    \"type\": \"input_image\",\n",
    "                    \"image_url\": f\"data:image/jpeg;base64,{base64_image}\",\n",
    "                },\n",
    "            ],\n",
    "        }],\n",
    "    )\n",
    "    return response.output_text.strip()"
   ]
  },
  {
   "cell_type": "code",
   "execution_count": null,
   "metadata": {},
   "outputs": [],
   "source": [
    "df = pd.read_csv(\".local_cache/df.csv\")\n",
    "cache_dir = Path(\".local_cache\")\n",
    "\n",
    "for idx, row in df[~df['image_path'].isna()].iterrows():\n",
    "    image_path = cache_dir / 'images' / row['image_path']\n",
    "    sentiment = analyze_image_sentiment(str(image_path))\n",
    "    df.at[idx, 'full_sentiment'] = f\"{row['text']} {sentiment}\" if pd.notna(row['text']) else sentiment\n",
    "    print(f\"Processed {row['image_path']}\")\n",
    "\n",
    "df['full_sentiment'] = df['full_sentiment'].fillna(df['text'])\n",
    "\n",
    "output_path = cache_dir / \"df_full_sentiment.csv\"\n",
    "df.to_csv(output_path, index=False)\n",
    "print(f\"\\nSaved results to {output_path}\")"
   ]
  },
  {
   "cell_type": "code",
   "execution_count": 8,
   "metadata": {},
   "outputs": [
    {
     "data": {
      "text/html": [
       "<div>\n",
       "<style scoped>\n",
       "    .dataframe tbody tr th:only-of-type {\n",
       "        vertical-align: middle;\n",
       "    }\n",
       "\n",
       "    .dataframe tbody tr th {\n",
       "        vertical-align: top;\n",
       "    }\n",
       "\n",
       "    .dataframe thead th {\n",
       "        text-align: right;\n",
       "    }\n",
       "</style>\n",
       "<table border=\"1\" class=\"dataframe\">\n",
       "  <thead>\n",
       "    <tr style=\"text-align: right;\">\n",
       "      <th></th>\n",
       "      <th>id</th>\n",
       "      <th>month</th>\n",
       "      <th>text</th>\n",
       "      <th>image_path</th>\n",
       "      <th>label</th>\n",
       "      <th>full_sentiment</th>\n",
       "    </tr>\n",
       "  </thead>\n",
       "  <tbody>\n",
       "    <tr>\n",
       "      <th>0</th>\n",
       "      <td>1</td>\n",
       "      <td>june</td>\n",
       "      <td>Absolutely delicious! The sushi was fresh, beautifully packed, and arrived right on time. Will d...</td>\n",
       "      <td>NaN</td>\n",
       "      <td>positive</td>\n",
       "      <td>Absolutely delicious! The sushi was fresh, beautifully packed, and arrived right on time. Will d...</td>\n",
       "    </tr>\n",
       "    <tr>\n",
       "      <th>1</th>\n",
       "      <td>2</td>\n",
       "      <td>july</td>\n",
       "      <td>Half my order was missing and the burger looked thrown together. Not worth the money.</td>\n",
       "      <td>NaN</td>\n",
       "      <td>negative</td>\n",
       "      <td>Half my order was missing and the burger looked thrown together. Not worth the money.</td>\n",
       "    </tr>\n",
       "    <tr>\n",
       "      <th>2</th>\n",
       "      <td>3</td>\n",
       "      <td>july</td>\n",
       "      <td>Packaging was leaking sauce everywhere. Presentation was a mess. Tasted like leftovers.</td>\n",
       "      <td>NaN</td>\n",
       "      <td>negative</td>\n",
       "      <td>Packaging was leaking sauce everywhere. Presentation was a mess. Tasted like leftovers.</td>\n",
       "    </tr>\n",
       "    <tr>\n",
       "      <th>3</th>\n",
       "      <td>4</td>\n",
       "      <td>july</td>\n",
       "      <td>Burger was hot, fries were still crispy, and the milkshake wasn’t melted at all. Fantastic deliv...</td>\n",
       "      <td>3.png</td>\n",
       "      <td>positive</td>\n",
       "      <td>Burger was hot, fries were still crispy, and the milkshake wasn’t melted at all. Fantastic deliv...</td>\n",
       "    </tr>\n",
       "    <tr>\n",
       "      <th>4</th>\n",
       "      <td>5</td>\n",
       "      <td>june</td>\n",
       "      <td>Received the wrong items. I ordered vegetarian and got meat. Totally unacceptable.</td>\n",
       "      <td>NaN</td>\n",
       "      <td>negative</td>\n",
       "      <td>Received the wrong items. I ordered vegetarian and got meat. Totally unacceptable.</td>\n",
       "    </tr>\n",
       "  </tbody>\n",
       "</table>\n",
       "</div>"
      ],
      "text/plain": [
       "   id month  \\\n",
       "0   1  june   \n",
       "1   2  july   \n",
       "2   3  july   \n",
       "3   4  july   \n",
       "4   5  june   \n",
       "\n",
       "                                                                                                  text  \\\n",
       "0  Absolutely delicious! The sushi was fresh, beautifully packed, and arrived right on time. Will d...   \n",
       "1                Half my order was missing and the burger looked thrown together. Not worth the money.   \n",
       "2              Packaging was leaking sauce everywhere. Presentation was a mess. Tasted like leftovers.   \n",
       "3  Burger was hot, fries were still crispy, and the milkshake wasn’t melted at all. Fantastic deliv...   \n",
       "4                   Received the wrong items. I ordered vegetarian and got meat. Totally unacceptable.   \n",
       "\n",
       "  image_path     label  \\\n",
       "0        NaN  positive   \n",
       "1        NaN  negative   \n",
       "2        NaN  negative   \n",
       "3      3.png  positive   \n",
       "4        NaN  negative   \n",
       "\n",
       "                                                                                        full_sentiment  \n",
       "0  Absolutely delicious! The sushi was fresh, beautifully packed, and arrived right on time. Will d...  \n",
       "1                Half my order was missing and the burger looked thrown together. Not worth the money.  \n",
       "2              Packaging was leaking sauce everywhere. Presentation was a mess. Tasted like leftovers.  \n",
       "3  Burger was hot, fries were still crispy, and the milkshake wasn’t melted at all. Fantastic deliv...  \n",
       "4                   Received the wrong items. I ordered vegetarian and got meat. Totally unacceptable.  "
      ]
     },
     "metadata": {},
     "output_type": "display_data"
    }
   ],
   "source": [
    "pd.set_option('display.max_colwidth', 100)  # Increase from default (50) to view full sentiment\n",
    "display(df.head())"
   ]
  },
  {
   "cell_type": "markdown",
   "metadata": {},
   "source": [
    "## Populating Vector Store"
   ]
  },
  {
   "cell_type": "markdown",
   "metadata": {},
   "source": [
    "This example uses OpenAI's built-in vector store and file search capabilities to build a RAG system that can analyse customer experiences from their feedback, which can be both visual and text-based. We create two vector stores for comparisons, one with image understanding and one without."
   ]
  },
  {
   "cell_type": "code",
   "execution_count": null,
   "metadata": {},
   "outputs": [],
   "source": [
    "text_vector_store = client.vector_stores.create(\n",
    "    name=\"food_delivery_reviews_text\",\n",
    "    metadata={\n",
    "        \"purpose\": \"text_understanding\",\n",
    "        \"created_by\": \"notebook\",\n",
    "        \"version\": \"1.0\"\n",
    "    }\n",
    ")\n",
    "text_vector_store_id = text_vector_store.id\n",
    "\n",
    "text_image_vector_store = client.vector_stores.create(\n",
    "    name=\"food_delivery_reviews_text_image\",\n",
    "    metadata={\n",
    "        \"purpose\": \"text_image_understanding\",\n",
    "        \"created_by\": \"notebook\",\n",
    "        \"version\": \"1.0\"\n",
    "    }\n",
    ")\n",
    "text_image_vector_store_id = text_image_vector_store.id\n",
    "\n",
    "print(\"Vector Store IDs:\")\n",
    "print(f\"  Text:       {text_vector_store_id}\")\n",
    "print(f\"  Text+Image: {text_image_vector_store_id}\")"
   ]
  },
  {
   "cell_type": "code",
   "execution_count": 10,
   "metadata": {},
   "outputs": [],
   "source": [
    "# upload files to vector database and set metadata\n",
    "\n",
    "def upload_files_to_vector_store(vector_store_id, df, column_name=\"full_sentiment\"):\n",
    "    file_ids = []\n",
    "    for i, row in tqdm(df.iterrows(), total=len(df), desc=\"Uploading context files\"):\n",
    "        if pd.isna(row[column_name]):\n",
    "            file_stream = BytesIO('No information available.'.encode('utf-8'))\n",
    "        else:\n",
    "            file_stream = BytesIO(row[column_name].encode('utf-8'))\n",
    "        file_stream.name = f\"context_{row.get('id', i)}_{row.get('month', '')}.txt\"\n",
    "        \n",
    "        file = client.vector_stores.files.upload(\n",
    "            vector_store_id=vector_store_id,\n",
    "            file=file_stream\n",
    "        )\n",
    "        file_ids.append(file.id)\n",
    "\n",
    "    for i, row in tqdm(df.iterrows(), total=len(df), desc=\"Updating file attributes\"):\n",
    "        client.vector_stores.files.update(\n",
    "            vector_store_id=vector_store_id,\n",
    "            file_id=file_ids[i],\n",
    "            attributes={\"month\": row[\"month\"]}\n",
    "        )"
   ]
  },
  {
   "cell_type": "code",
   "execution_count": null,
   "metadata": {},
   "outputs": [],
   "source": [
    "upload_files_to_vector_store(text_image_vector_store_id, df)\n",
    "upload_files_to_vector_store(text_vector_store_id, df, column_name=\"text\")"
   ]
  },
  {
   "cell_type": "markdown",
   "metadata": {},
   "source": [
    "# Retrieval and Filtering\n",
    "\n",
    "We can analyse our dataset with natural language queries with the help of File Search. For the text-only dataset, we see that information is missing that could inform our analysis.\n",
    "\n",
    "The only positive review for spaghetti in July has visual feedback and we can see the RAG system with only text based context available is uncertain about positive details. However with image context provided the second RAG system is able to provide a more accurate response.\n"
   ]
  },
  {
   "cell_type": "code",
   "execution_count": 12,
   "metadata": {},
   "outputs": [
    {
     "name": "stdout",
     "output_type": "stream",
     "text": [
      "🔍 Query: Where there any comments about the 'spaghetti'?\n",
      "\n",
      "📝 Response:\n",
      "----------------------------------------\n",
      "I couldn’t find any comments that explicitly mention “spaghetti.” The closest related note says “Pasta was overcooked” in context_9_july.txt . If you have a specific date or file in mind, I can check that directly.\n"
     ]
    }
   ],
   "source": [
    "# Query the vector store for spaghetti reviews in July\n",
    "query = \"Where there any comments about the 'spaghetti'?\"\n",
    "print(f\"🔍 Query: {query}\\n\")\n",
    "\n",
    "# Execute the search with filtering\n",
    "response = client.responses.create(\n",
    "    model=\"gpt-5\",\n",
    "    input=query,\n",
    "    tools=[{\n",
    "        \"type\": \"file_search\",\n",
    "        \"vector_store_ids\": [text_vector_store_id],\n",
    "        \"filters\": {\n",
    "            \"type\": \"eq\",\n",
    "            \"key\": \"month\",\n",
    "            \"value\": \"july\"\n",
    "        }\n",
    "    }]\n",
    ")\n",
    "\n",
    "# Display the results\n",
    "print(\"📝 Response:\")\n",
    "print(\"-\" * 40)\n",
    "print(response.output_text)"
   ]
  },
  {
   "cell_type": "code",
   "execution_count": 13,
   "metadata": {},
   "outputs": [
    {
     "name": "stdout",
     "output_type": "stream",
     "text": [
      "🔍 Query: Where there any comments about the 'spaghetti'?\n",
      "\n",
      "📝 Response:\n",
      "----------------------------------------\n",
      "Yes. There’s a positive note describing “a neatly plated spaghetti in tomato sauce with parsley, served alongside arugula, garlic bread, and grated cheese.” \n"
     ]
    }
   ],
   "source": [
    "query = \"Where there any comments about the 'spaghetti'?\"\n",
    "print(f\"🔍 Query: {query}\\n\")\n",
    "\n",
    "response = client.responses.create(\n",
    "    model=\"gpt-5\",\n",
    "    input=query,\n",
    "    tools=[{\n",
    "        \"type\": \"file_search\",\n",
    "        \"vector_store_ids\": [text_image_vector_store_id],\n",
    "        \"filters\": {\n",
    "            \"type\": \"eq\",\n",
    "            \"key\": \"month\",\n",
    "            \"value\": \"july\"\n",
    "        }\n",
    "    }]\n",
    ")\n",
    "\n",
    "print(\"📝 Response:\")\n",
    "print(\"-\" * 40)\n",
    "print(response.output_text)"
   ]
  },
  {
   "cell_type": "markdown",
   "metadata": {},
   "source": [
    "We can confirm if this is correct by checking the retrieved images."
   ]
  },
  {
   "cell_type": "code",
   "execution_count": null,
   "metadata": {},
   "outputs": [],
   "source": [
    "IMAGE_ID_MAPPING = {\n",
    "    f\"context_{row['id']}_{row['month']}.txt\": row[\"image_path\"]\n",
    "    for _, row in df[~df['image_path'].isna()].iterrows()\n",
    "}\n",
    "\n",
    "def display_retrieved_images(\n",
    "    response,\n",
    "    cache_dir: str = \".local_cache\"\n",
    "):\n",
    "    \"\"\"\n",
    "    Display images from the retrieved search results.\n",
    "    \n",
    "    Args:\n",
    "        response: The response object from the search query\n",
    "        cache_dir: Directory where images are stored\n",
    "        \n",
    "    Returns:\n",
    "        Dict mapping filenames to image paths for the displayed images\n",
    "    \"\"\"\n",
    "    # Get the annotations from the response\n",
    "    try:\n",
    "        annotations = response.output[3].content[0].annotations\n",
    "        retrieved_files = {result.filename for result in annotations}\n",
    "    except (AttributeError, IndexError):\n",
    "        print(\"No search results found in the response.\")\n",
    "        return {}\n",
    "\n",
    "\n",
    "    # Display matching images\n",
    "    displayed_images = {}\n",
    "    for file in retrieved_files:\n",
    "        if file in IMAGE_ID_MAPPING and IMAGE_ID_MAPPING[file]:\n",
    "            image_path = Path(cache_dir) / 'images' / IMAGE_ID_MAPPING[file]\n",
    "            print(f\"Displaying image for {file}:\")\n",
    "            display(Image(str(image_path)))\n",
    "            displayed_images[file] = str(image_path)\n",
    "    \n",
    "    return displayed_images\n",
    "\n",
    "displayed = display_retrieved_images(response)\n",
    "print(f\"Displayed {len(displayed)} images\")"
   ]
  },
  {
   "cell_type": "markdown",
   "metadata": {},
   "source": [
    "Likewise we can test this for negative reviews in June concerning any burnt pizza."
   ]
  },
  {
   "cell_type": "code",
   "execution_count": 15,
   "metadata": {},
   "outputs": [
    {
     "name": "stdout",
     "output_type": "stream",
     "text": [
      "🔍 Query: Were there any negative reviews for pizza, and if so, was the pizza burnt?\n",
      "\n",
      "📝 Response:\n",
      "----------------------------------------\n",
      "Yes. One review explicitly describes a “burnt pepperoni pizza with charred crust and grease stains in the box” and is marked as negative sentiment .\n"
     ]
    }
   ],
   "source": [
    "query = \"Were there any negative reviews for pizza, and if so, was the pizza burnt?\"\n",
    "print(f\"🔍 Query: {query}\\n\")\n",
    "\n",
    "response = client.responses.create(\n",
    "    model=\"gpt-5\",\n",
    "    input=query,\n",
    "    tools=[{\n",
    "        \"type\": \"file_search\",\n",
    "        \"vector_store_ids\": [text_image_vector_store_id],\n",
    "        \"filters\": {\n",
    "            \"type\": \"eq\",\n",
    "            \"key\": \"month\",\n",
    "            \"value\": \"june\"\n",
    "        }\n",
    "    }]\n",
    ")\n",
    "\n",
    "print(\"📝 Response:\")\n",
    "print(\"-\" * 40)\n",
    "print(response.output_text)"
   ]
  },
  {
   "cell_type": "markdown",
   "metadata": {},
   "source": [
    "We can confirm if this is correct by checking the retrieved images."
   ]
  },
  {
   "cell_type": "code",
   "execution_count": null,
   "metadata": {},
   "outputs": [],
   "source": [
    "displayed = display_retrieved_images(response)\n",
    "print(f\"Displayed {len(displayed)} images\")"
   ]
  },
  {
   "cell_type": "markdown",
   "metadata": {},
   "source": [
    "## Evaluation and Analysis"
   ]
  },
  {
   "cell_type": "markdown",
   "metadata": {},
   "source": [
    "As our dataset likely evolves over time and we want to evaluate new models, we can use the OpenAI Evaluation API to evaluate the performance of our system for sentiment analysis. In this simple example, using the string_check criteria we checked if the output was one of the three possible values: positive, negative, or unclear."
   ]
  },
  {
   "cell_type": "code",
   "execution_count": 17,
   "metadata": {},
   "outputs": [],
   "source": [
    "def prepare_evaluation_data(\n",
    "    df: pd.DataFrame,\n",
    "    text_col: str = \"full_sentiment\",\n",
    "    label_col: str = \"label\"\n",
    ") -> list:\n",
    "    \"\"\"\n",
    "    Prepare evaluation data items from a DataFrame.\n",
    "    \n",
    "    Args:\n",
    "        df: Input pandas DataFrame.\n",
    "        text_col: Column containing the input text.\n",
    "        label_col: Column containing the ground truth label.\n",
    "    \n",
    "    Returns:\n",
    "        List of dicts formatted for evaluation.\n",
    "    \"\"\"\n",
    "    return [\n",
    "        {\"item\": {\"input\": str(row[text_col]), \"ground_truth\": row[label_col]}}\n",
    "        for _, row in df.iterrows()\n",
    "    ]\n",
    "\n",
    "def create_eval_run(evaluation_data: list, eval_id: str) -> str:\n",
    "    \"\"\"\n",
    "    Create and launch an evaluation run.\n",
    "    \n",
    "    Args:\n",
    "        evaluation_data: List of evaluation items.\n",
    "        eval_id: The evaluation object ID.\n",
    "    \n",
    "    Returns:\n",
    "        The run ID as a string.\n",
    "    \"\"\"\n",
    "    eval_config = {\n",
    "        \"type\": \"completions\",\n",
    "        \"model\": \"gpt-5\",\n",
    "        \"input_messages\": {\n",
    "            \"type\": \"template\",\n",
    "            \"template\": [\n",
    "                {\n",
    "                    \"type\": \"message\",\n",
    "                    \"role\": \"user\",\n",
    "                    \"content\": {\n",
    "                        \"type\": \"input_text\",\n",
    "                        \"text\": (\n",
    "                            \"Classify the sentiment of this food delivery review: {{ item.input }}. \"\n",
    "                            \"Categorize the request into one of \\\"positive\\\", \\\"negative\\\" or \\\"unclear\\\". \"\n",
    "                            \"Respond with only one of those words.\"\n",
    "                        )\n",
    "                    }\n",
    "                }\n",
    "            ]\n",
    "        },\n",
    "        \"source\": {\n",
    "            \"type\": \"file_content\",\n",
    "            \"content\": evaluation_data\n",
    "        }\n",
    "    }\n",
    "\n",
    "    run = client.evals.runs.create(\n",
    "        eval_id=eval_id,\n",
    "        data_source=eval_config\n",
    "    )\n",
    "    print(\"✅ Evaluation run created successfully\")\n",
    "    print(f\"Run ID: {run.id}\")\n",
    "    return run.id"
   ]
  },
  {
   "cell_type": "code",
   "execution_count": null,
   "metadata": {},
   "outputs": [],
   "source": [
    "eval_obj = client.evals.create(\n",
    "    name=\"food-categorization-eval\",\n",
    "    data_source_config={\n",
    "        \"type\": \"custom\",\n",
    "        \"item_schema\": {\n",
    "            \"type\": \"object\",\n",
    "            \"properties\": {\n",
    "                \"input\": {\"type\": \"string\"},\n",
    "                \"ground_truth\": {\"type\": \"string\"}\n",
    "            },\n",
    "            \"required\": [\"input\", \"ground_truth\"]\n",
    "        },\n",
    "        \"include_sample_schema\": True\n",
    "    },\n",
    "    testing_criteria=[\n",
    "        {\n",
    "            \"type\": \"string_check\",\n",
    "            \"name\": \"Match output to human label\",\n",
    "            \"input\": \"{{sample.output_text}}\",\n",
    "            \"reference\": \"{{item.ground_truth}}\",\n",
    "            \"operation\": \"eq\"\n",
    "        }\n",
    "    ]\n",
    ")\n",
    "eval_id = eval_obj.id\n",
    "eval_id"
   ]
  },
  {
   "cell_type": "code",
   "execution_count": null,
   "metadata": {},
   "outputs": [],
   "source": [
    "# create evaluation runs\n",
    "\n",
    "evaluation_data = prepare_evaluation_data(df, text_col=\"text\")\n",
    "text_only_run_id = create_eval_run(evaluation_data, eval_id)\n",
    "\n",
    "evaluation_data = prepare_evaluation_data(df)\n",
    "text_image_run_id = create_eval_run(evaluation_data, eval_id)\n",
    "\n",
    "# retrieve both run urls\n",
    "\n",
    "text_only_run = client.evals.runs.retrieve(eval_id=eval_id, run_id=text_only_run_id)\n",
    "print(text_only_run.to_dict()['report_url'])\n",
    "\n",
    "text_image_run = client.evals.runs.retrieve(eval_id=eval_obj.id, run_id=text_image_run_id)\n",
    "print(text_image_run.to_dict()['report_url'])"
   ]
  },
  {
   "cell_type": "code",
   "execution_count": 24,
   "metadata": {},
   "outputs": [],
   "source": [
    "# you may need to wait a few seconds before running this cell for the eval runs to finish up\n",
    "\n",
    "text_only_run_output_items = client.evals.runs.output_items.list(eval_id=eval_id, run_id=text_only_run_id)\n",
    "text_image_run_output_items = client.evals.runs.output_items.list(eval_id=eval_id, run_id=text_image_run_id)"
   ]
  },
  {
   "cell_type": "markdown",
   "metadata": {},
   "source": [
    "We can retrieve the results of these evaluation runs and perform some local analysis. In this case, we will compare the performance of the text-only and text+image runs and evaluate how increasing the number of total tokens (through the addition of image context) affects the accuracy of the model. We can also do some basic error analysis by analysing the model input of the failed examples."
   ]
  },
  {
   "cell_type": "code",
   "execution_count": 25,
   "metadata": {},
   "outputs": [
    {
     "data": {
      "image/png": "[encoded data removed]",
      "text/plain": [
       "<Figure size 640x480 with 2 Axes>"
      ]
     },
     "metadata": {},
     "output_type": "display_data"
    }
   ],
   "source": [
    "# Calculate passed and total for text_only_run\n",
    "text_only_data = text_only_run_output_items.to_dict()['data']\n",
    "text_only_passed = sum(1 for output_item in text_only_data if output_item['results'][0]['passed'])\n",
    "text_only_total = len(text_only_data)\n",
    "\n",
    "# Calculate passed and total for text_image_run\n",
    "text_image_data = text_image_run_output_items.to_dict()['data']\n",
    "text_image_passed = sum(1 for output_item in text_image_data if output_item['results'][0]['passed'])\n",
    "text_image_total = len(text_image_data)\n",
    "\n",
    "# Calculate average total_tokens for each run\n",
    "def avg_total_tokens(data):\n",
    "    tokens = [item['sample']['usage']['total_tokens'] for item in data if 'usage' in item['sample']]\n",
    "    return sum(tokens) / len(tokens) if tokens else 0\n",
    "\n",
    "text_only_avg_tokens = avg_total_tokens(text_only_data)\n",
    "text_image_avg_tokens = avg_total_tokens(text_image_data)\n",
    "\n",
    "# Plotting\n",
    "labels = ['Text Only', 'Text + Image']\n",
    "passed = [text_only_passed, text_image_passed]\n",
    "avg_tokens = [text_only_avg_tokens, text_image_avg_tokens]\n",
    "\n",
    "x = np.arange(len(labels))\n",
    "width = 0.35\n",
    "\n",
    "fig, ax1 = plt.subplots()\n",
    "\n",
    "# Bar for passed only\n",
    "bars1 = ax1.bar(x - width/2, passed, width, label='Passed', color='green')\n",
    "ax1.set_ylabel('Accuracy')\n",
    "ax1.set_xticks(x)\n",
    "ax1.set_xticklabels(labels)\n",
    "ax1.set_title('Accuracy and Avg Total Tokens')\n",
    "ax1.legend(loc='upper left')\n",
    "\n",
    "# Second y-axis for avg total tokens\n",
    "ax2 = ax1.twinx()\n",
    "bars2 = ax2.bar(x + width/2, avg_tokens, width, label='Avg Total Tokens', color='blue', alpha=0.5)\n",
    "ax2.set_ylabel('Avg Total Tokens')\n",
    "ax2.legend(loc='upper right')\n",
    "\n",
    "plt.show()"
   ]
  },
  {
   "cell_type": "code",
   "execution_count": 27,
   "metadata": {},
   "outputs": [
    {
     "data": {
      "text/html": [
       "<style type=\"text/css\">\n",
       "#T_02ac6_row0_col0, #T_02ac6_row0_col1, #T_02ac6_row1_col0, #T_02ac6_row1_col1, #T_02ac6_row2_col0, #T_02ac6_row2_col1, #T_02ac6_row3_col0, #T_02ac6_row3_col1, #T_02ac6_row4_col0, #T_02ac6_row4_col1 {\n",
       "  text-align: left;\n",
       "}\n",
       "</style>\n",
       "<table id=\"T_02ac6\">\n",
       "  <thead>\n",
       "    <tr>\n",
       "      <th class=\"blank level0\" >&nbsp;</th>\n",
       "      <th id=\"T_02ac6_level0_col0\" class=\"col_heading level0 col0\" >Input</th>\n",
       "      <th id=\"T_02ac6_level0_col1\" class=\"col_heading level0 col1\" >Model Output</th>\n",
       "    </tr>\n",
       "  </thead>\n",
       "  <tbody>\n",
       "    <tr>\n",
       "      <th id=\"T_02ac6_level0_row0\" class=\"row_heading level0 row0\" >0</th>\n",
       "      <td id=\"T_02ac6_row0_col0\" class=\"data row0 col0\" >[{'content': 'Classify the sentiment of this food delivery review: The food came looking like this... Categorize the request into one of \"positive\", \"negative\" or \"unclear\". Respond with only one of those words.', 'role': 'user'}]</td>\n",
       "      <td id=\"T_02ac6_row0_col1\" class=\"data row0 col1\" >[{'content': 'negative', 'role': 'assistant'}]</td>\n",
       "    </tr>\n",
       "    <tr>\n",
       "      <th id=\"T_02ac6_level0_row1\" class=\"row_heading level0 row1\" >1</th>\n",
       "      <td id=\"T_02ac6_row1_col0\" class=\"data row1 col0\" >[{'content': 'Classify the sentiment of this food delivery review: nan. Categorize the request into one of \"positive\", \"negative\" or \"unclear\". Respond with only one of those words.', 'role': 'user'}]</td>\n",
       "      <td id=\"T_02ac6_row1_col1\" class=\"data row1 col1\" >[{'content': 'unclear', 'role': 'assistant'}]</td>\n",
       "    </tr>\n",
       "    <tr>\n",
       "      <th id=\"T_02ac6_level0_row2\" class=\"row_heading level0 row2\" >2</th>\n",
       "      <td id=\"T_02ac6_row2_col0\" class=\"data row2 col0\" >[{'content': 'Classify the sentiment of this food delivery review: nan. Categorize the request into one of \"positive\", \"negative\" or \"unclear\". Respond with only one of those words.', 'role': 'user'}]</td>\n",
       "      <td id=\"T_02ac6_row2_col1\" class=\"data row2 col1\" >[{'content': 'unclear', 'role': 'assistant'}]</td>\n",
       "    </tr>\n",
       "    <tr>\n",
       "      <th id=\"T_02ac6_level0_row3\" class=\"row_heading level0 row3\" >3</th>\n",
       "      <td id=\"T_02ac6_row3_col0\" class=\"data row3 col0\" >[{'content': 'Classify the sentiment of this food delivery review: nan. Categorize the request into one of \"positive\", \"negative\" or \"unclear\". Respond with only one of those words.', 'role': 'user'}]</td>\n",
       "      <td id=\"T_02ac6_row3_col1\" class=\"data row3 col1\" >[{'content': 'unclear', 'role': 'assistant'}]</td>\n",
       "    </tr>\n",
       "    <tr>\n",
       "      <th id=\"T_02ac6_level0_row4\" class=\"row_heading level0 row4\" >4</th>\n",
       "      <td id=\"T_02ac6_row4_col0\" class=\"data row4 col0\" >[{'content': 'Classify the sentiment of this food delivery review: Wow look at this pizza!. Categorize the request into one of \"positive\", \"negative\" or \"unclear\". Respond with only one of those words.', 'role': 'user'}]</td>\n",
       "      <td id=\"T_02ac6_row4_col1\" class=\"data row4 col1\" >[{'content': 'positive', 'role': 'assistant'}]</td>\n",
       "    </tr>\n",
       "  </tbody>\n",
       "</table>\n"
      ],
      "text/plain": [
       "<pandas.io.formats.style.Styler at 0x134997530>"
      ]
     },
     "metadata": {},
     "output_type": "display_data"
    }
   ],
   "source": [
    "failed_samples = [\n",
    "    {\n",
    "        \"Input\": sample['sample']['input'],\n",
    "        \"Model Output\": sample['sample']['output']\n",
    "    }\n",
    "    for sample in text_only_run_output_items.to_dict()['data']\n",
    "    if not sample['results'][0]['passed']\n",
    "]\n",
    "\n",
    "pd.set_option('display.max_colwidth', 150)  # Adjust as needed\n",
    "\n",
    "failed_df = pd.DataFrame(failed_samples)\n",
    "display(failed_df.style.set_properties(**{'text-align': 'left'}))"
   ]
  },
  {
   "cell_type": "markdown",
   "metadata": {},
   "source": [
    "Finally, let's clean up some of the resources we created."
   ]
  },
  {
   "cell_type": "code",
   "execution_count": null,
   "metadata": {},
   "outputs": [],
   "source": [
    "# delete vector stores\n",
    "deleted_vector_store = client.vector_stores.delete(\n",
    "  vector_store_id=text_vector_store_id\n",
    ")\n",
    "print(deleted_vector_store)\n",
    "\n",
    "deleted_vector_store = client.vector_stores.delete(\n",
    "  vector_store_id=text_image_vector_store_id\n",
    ")\n",
    "print(deleted_vector_store)"
   ]
  }
 ],
 "metadata": {
  "kernelspec": {
   "display_name": "openai",
   "language": "python",
   "name": "python3"
  },
  "language_info": {
   "codemirror_mode": {
    "name": "ipython",
    "version": 3
   },
   "file_extension": ".py",
   "mimetype": "text/x-python",
   "name": "python",
   "nbconvert_exporter": "python",
   "pygments_lexer": "ipython3",
   "version": "3.12.9"
  }
 },
 "nbformat": 4,
 "nbformat_minor": 2
}
