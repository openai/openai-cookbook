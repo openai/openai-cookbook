{
 "cells": [
  {
   "cell_type": "markdown",
   "id": "5fde7616369c1e1e",
   "metadata": {},
   "source": [
    "## Build Your Own Code Interpreter: Empowering LLM Agents with Dynamic Tool Calling\n",
    "\n",
    "Many API providers—such as OpenAI’s Assistants API—offer built-in code interpreter functionality. These built-in tools can be immensely powerful, but there are situations where developers may need to create their own custom code interpreter. For example:\n",
    "\n",
    "1. **Language or library support**: The built-in interpreter may not support the specific programming language (e.g., C++, Java, etc.) or libraries required for your task.\n",
    "2. **Task compatibility**: Your use case may not be compatible with the provider’s built-in solution.\n",
    "3. **Model constraints**: You might require a language model that isn’t supported by the provider’s interpreter.\n",
    "4. **Cost considerations**: The cost structure for code execution or model usage may not fit your budget or constraints.  \n",
    "5. **File size**: The file size of input data is too large or not supported by the provider's interpreter.\n",
    "6. **Integrating with internal systems**: The provider's interpreter may not be able to integrate with your internal systems.\n",
    "\n",
    "At the core of this approach is “function (or tool) calling,” where a Large Language Model (LLM) can invoke a function with arguments. Typically, these functions are predefined by the developer, along with their expected arguments and outputs. However, in this Cookbook, we explore a more flexible paradigm.\n",
    "\n",
    "### Dynamically Generated Tool Calling with Code Interpreter\n",
    "A Dynamically Generated Tool is a function or code block created by the LLM itself at runtime based on the user’s prompt. This means you don’t have to predefine every possible scenario in your codebase—enabling far more open-ended, creative, and adaptive problem-solving.\n",
    "\n",
    "Dynamically Generated Tool Calling goes a step further by granting the LLM the ability to generate tools and execute code blocks on the fly. This dynamic approach is particularly useful for tasks that involve:\n",
    "\n",
    "- Data analysis and visualization\n",
    "- Data manipulation and transformation\n",
    "- Machine learning workflow generation and execution\n",
    "- Process automation and scripting\n",
    "- And much more, as new possibilities emerge through experimentation\n",
    "\n",
    "### What You’ll Learn\n",
    "By following this Cookbook, you will learn how to:\n",
    "\n",
    "- Set up an isolated Python code execution environment using Docker\n",
    "- Configure your own code interpreter tool for LLM agents\n",
    "- Establish a clear separation of “Agentic” concerns for security and safety\n",
    "- Orchestrate agents to efficiently accomplish a given task\n",
    "- Design an agentic application that can dynamically generate and execute code\n",
    "\n",
    "You’ll see how to build a custom code interpreter tool from the ground up, leverage the power of LLMs to generate sophisticated code, and safely execute that code in an isolated environment—all in pursuit of making your AI-powered applications more flexible, powerful, and cost-effective."
   ]
  },
  {
   "cell_type": "markdown",
   "id": "fcd93887",
   "metadata": {},
   "source": [
    "### Example Scenario\n",
    "\n",
    "We'll use the sample data provided at [Key Factors Traffic Accidents](https://www.kaggle.com/datasets/willianoliveiragibin/key-factors-traffic-accidents) to answer a set of questions. These questions do not require to be pre-defined, we will give LLM the ability to generate code to answer such question. \n",
    "\n",
    "Sample questions could be: \n",
    "- What factors contribute the most to accident frequency? (Feature importance analysis)\n",
    "- Which areas are at the highest risk of accidents? (Classification/Clustering)\n",
    "- How does traffic fine amount influence the number of accidents? (Regression/Causal inference)\n",
    "- Can we determine the optimal fine amounts to reduce accident rates? (Optimization models)\n",
    "- Do higher fines correlate with lower average speeds or reduced accidents? (Correlation/Regression)\n",
    "- and so on ...\n",
    "\n",
    "Using the traditional **Predefined Tool Calling** approach, developer would need to pre-define the function for each of these questions. This limits the LLM's ability to answer any other questions not defined in the pre-defined set of functions. We overcome this limitation by using the **Dynamic Tool Calling** approach where the LLM generates code and uses a Code Interpretter tool to execute the code. "
   ]
  },
  {
   "cell_type": "markdown",
   "id": "e301abe8",
   "metadata": {},
   "source": [
    "## Overview\n",
    "Let's dive into the steps to build this Agentic Applicaiton with Dynamically generated tool calling. There are three components to this application:"
   ]
  },
  {
   "cell_type": "markdown",
   "id": "8ad2269f",
   "metadata": {},
   "source": [
    "#### Step 1: Set up an isolated code execution container environment\n",
    "\n",
    "We need a secure environment where our LLM generated function calls can be executed. We want to avoid directly running the LLM generated code on the host machine so will create a Docker container environment with restricted resource access (e.g., no network access). By default, Docker containers cannot access the host machine’s file system, which helps ensure that any code generated by the LLM remains contained. \n",
    "\n",
    "##### ⚠️ A WORD OF CAUTION: Implement Strong Gaurdrails for the LLM generated code\n",
    "LLMs could generate harmful code with unintended consequences. As a best practice, isolate the code execution environment with only required access to resources as needed by the task. Avoid running the LLM generated code on your host machine or laptop. \n",
    "\n",
    "#### Step 2: Define and Test the Agents\n",
    "\n",
    "\"**What is an Agent?**\" In the context of this Cookbook, an Agent is:\n",
    "1. Set of instructions for the LLM to follow, i.e. the developer prompt\n",
    "2. A LLM model, and ability to call the model via the API \n",
    "3. Tool call access to a function, and ability to execute the function \n",
    "\n",
    "We will define two agents:\n",
    "1. FileAccessAgent: This agent will read the file and provide the context to the PythonCodeExecAgent.\n",
    "2. PythonCodeExecAgent: This agent will generate the Python code to answer the user's question and execute the code in the Docker container.\n",
    "\n",
    "#### Step 3: Set up Agentic Orchestration to run the application \n",
    "There are various ways to orchestrate the Agents based on the application requirements. In this example, we will use a simple orchestration where the user provides a task and the agents are called in sequence to accomplish the task.  \n",
    "\n",
    "The overall orchestration is shown below:\n",
    "\n",
    "![](../../images/oo_aa_image_1_code_interpreter_agents.png)"
   ]
  },
  {
   "cell_type": "markdown",
   "id": "5a651f8d",
   "metadata": {},
   "source": [
    "## Let's get started\n",
    "\n",
    "\n",
    "### Prerequisites\n",
    "Before you begin, ensure you have the following installed and configured on your host machine:\n",
    "\n",
    "1. Docker: installed and running on your local machine. You can learn more about Docker and [install it from here](https://www.docker.com/). \n",
    "2. Python: installed on your local machine. You can learn more about Python and [install it from here](https://www.python.org/downloads/). \n",
    "3. OpenAI API key: set up on your local machine as an environment variable or in the .env file in the root directory. You can learn more about OpenAI API key and [set it up from here](https://platform.openai.com/docs/api-reference/introduction). \n"
   ]
  },
  {
   "cell_type": "markdown",
   "id": "e1ea3005fbd91c61",
   "metadata": {},
   "source": [
    "### Step 1: Set up an Isolated Code Execution Environment \n",
    "\n",
    "Lets define a Dockerized container environment that will be used to execute our code. I have defined the **[dockerfile](./resources/docker/dockerfile)** under `resources/docker` directory that will be used to create the container environment with the following specifications:\n",
    "- Python 3.10 as the base \n",
    "- A non-root user \n",
    "- Preinstall the packages in requirements.txt  \n",
    "\n",
    "The requirements.txt included in the docker image creation process contains all the potential packages our LLM generated code may need to accomplish its tasks. Given we will restrict the container from network access, so we need to pre-install the packages that are required for the task. Our LLM will not be allowed to install any additional packages for security purposes. \n",
    "\n",
    "You could create your own docker image with the language requirements (such as Python 3.10) and pre-install the packages that are required for the task, or create a custom docker image with the specific language (such as Java, C++, etc.) and packages that are required for the task. "
   ]
  },
  {
   "cell_type": "markdown",
   "id": "cf2af004",
   "metadata": {},
   "source": [
    "Let's build the docker image with the following command. For the sake of brevity, I have redirected the output to grep the success message and print a message if the build fails."
   ]
  },
  {
   "cell_type": "code",
   "execution_count": 1,
   "id": "fe136739b0bd164a",
   "metadata": {
    "ExecuteTime": {
     "end_time": "2025-01-27T00:13:35.949224Z",
     "start_time": "2025-01-27T00:13:33.524485Z"
    }
   },
   "outputs": [
    {
     "name": "stdout",
     "output_type": "stream",
     "text": [
      "View build details: docker-desktop://dashboard/build/desktop-linux/desktop-linux/kl8fo02q7rgbindi9b42pn1zr\r\n"
     ]
    }
   ],
   "source": [
    "!docker build -t python_sandbox:latest ./resources/docker 2>&1 | grep -E \"View build details|ERROR\" || echo \"Build failed.\""
   ]
  },
  {
   "cell_type": "markdown",
   "id": "c8c0e9024894d45d",
   "metadata": {},
   "source": [
    "Let's run the container in restricted mode. The container will run in the background. This is our opportunity to define the security policies for the container. It is good practice to only allow the bare minimum features to the container that are required for the task. By default, the container cannot access the host file system from within the container. Let's also restrict its access to network so it cannot access the Internet or any other network resources. "
   ]
  },
  {
   "cell_type": "code",
   "execution_count": 2,
   "id": "cfaa0418f90fde09",
   "metadata": {
    "ExecuteTime": {
     "end_time": "2025-01-27T00:13:43.561453Z",
     "start_time": "2025-01-27T00:13:43.213479Z"
    }
   },
   "outputs": [
    {
     "name": "stdout",
     "output_type": "stream",
     "text": [
      "8446d1e9a7972f2e00a5d1799451c1979d34a2962aa6b4c35a9868af8d321b0e\r\n"
     ]
    }
   ],
   "source": [
    "# Run the container in restricted mode. The container will run in the background.\n",
    "!docker run -d --name sandbox --network none --cap-drop all --pids-limit 64 --tmpfs /tmp:rw,size=64M   python_sandbox:latest sleep infinity"
   ]
  },
  {
   "cell_type": "markdown",
   "id": "c21cafbcfdc09e2c",
   "metadata": {},
   "source": [
    "Let's make sure container is running using the `docker ps` that should list our container. "
   ]
  },
  {
   "cell_type": "code",
   "execution_count": 3,
   "id": "e4df845011b77a21",
   "metadata": {
    "ExecuteTime": {
     "end_time": "2025-01-27T00:13:45.473413Z",
     "start_time": "2025-01-27T00:13:45.316092Z"
    }
   },
   "outputs": [
    {
     "name": "stdout",
     "output_type": "stream",
     "text": [
      "CONTAINER ID   IMAGE                   COMMAND            CREATED         STATUS         PORTS     NAMES\r\n",
      "8446d1e9a797   python_sandbox:latest   \"sleep infinity\"   2 seconds ago   Up 2 seconds             sandbox\r\n"
     ]
    }
   ],
   "source": [
    "!docker ps "
   ]
  },
  {
   "cell_type": "markdown",
   "id": "dd42a2c8f40710c2",
   "metadata": {},
   "source": [
    "### Step 2: Define and Test the Agents\n",
    "\n",
    "For our purposes, we will define two agents. \n",
    "1.\t**Agent 1: File Access Agent (with Pre-defined Tool Calling)**\n",
    "- Instructions to understand the contents of the file to provide as context to Agent 2.\n",
    "- Has access to the host machine’s file system. \n",
    "- Can read a file from the host and copy it into the Docker container.\n",
    "- Cannot access the code interpreter tool. \n",
    "\n",
    "2.\t**Agent 2: Python Code Generator and Executor (with Dynamically Generated Tool Calling and Code Execution)**\n",
    "- Recieve the file content's context from Agent 1.\n",
    "- Instructions to generate a Python script to answer the user's question.\n",
    "- Has access to the code interpreter within the Docker container, which is used to execute Python code.\n",
    "- Has access only to the file system inside the Docker container (not the host).\n",
    "- Cannot access the host machine’s file system or the network.\n",
    "\n",
    "This separation concerns of the File Access (Agent 1) and the Code Generator and Executor (Agent 2) is crucial to prevent the LLM from directly accessing or modifying the host machine. \n",
    "\n",
    "\n",
    "**Limit the Agent 1 to Static Tool Calling as it has access to the host file system.**  \n",
    "\n",
    "\n",
    "| Agent | Type of Tool Call | Access to Host File System | Access to Docker Container File System | Access to Code Interpreter |\n",
    "|-------|-------------------|----------------------------|----------------------------------------|----------------------------|\n",
    "| Agent 1: File Access | Pre-defined Tools | Yes | Yes | No |\n",
    "| Agent 2: Python Code Generator and Executor | Dynamically Generated Tools | No | Yes | Yes |\n"
   ]
  },
  {
   "cell_type": "markdown",
   "id": "844d4d2ba5d47226",
   "metadata": {},
   "source": [
    "To keep the Agents and Tools organized, we've defined a set of **core classes** that will be used to create the two agents for consistency using Object Oriented Programming principles.\n",
    "\n",
    "- **BaseAgent**: We start with an abstract base class that enforces common method signatures such as `task()`. Base class also provides a logger for debugging, a language model interface and other common functions such as `add_context()` to add context to the agent. \n",
    "- **ChatMessages**: A class to store the conversation history given ChatCompletions API is stateless. \n",
    "- **ToolManager**: A class to manage the tools that an agent can call.\n",
    "- **ToolInterface**: An abstract class for any 'tool' that an agent can call so that the tools will have a consistent interface.\n",
    "\n",
    "These classes are defined in the [object_oriented_agents/core_classes](./resources/object_oriented_agents/core_classes) directory. "
   ]
  },
  {
   "cell_type": "markdown",
   "id": "b90cda38",
   "metadata": {},
   "source": [
    "#### UML Class Diagram for Core Classes\n",
    "The following class diagram shows the relationship between the core classes. This UML (Unified Modeling Language) has been generated using [Mermaid](https://mermaid)\n",
    "\n",
    "![](../../images/oo_aa_image_2_uml_diagram.png)"
   ]
  },
  {
   "cell_type": "markdown",
   "id": "c6eb923b",
   "metadata": {},
   "source": [
    "**Define Agent 1: FileAccessAgent with FileAccessTool**\n",
    "\n",
    "Let's start with definin the FileAccessTool that inherits from the ToolInterface class. The **FileAccessTool** tool is defined in the [file_access_agent.py](./resources/registry/tools/file_access_tool.py) file in the `resources/registry/tools` directory.   \n",
    "\n",
    "- FileAccessTool implements the ToolInterface class, which ensures that the tools will have a consistent interface. \n",
    "- Binding the tool definition for the OpenAI Function Calling API in the `get_definition` method and the tool's `run` method ensures maintainability, scalability, and reusability. "
   ]
  },
  {
   "cell_type": "markdown",
   "id": "643f349e",
   "metadata": {},
   "source": [
    "Now, let's define the **FileAccessAgent** that extends the BaseAgent class and bind the **FileAccessTool** to the agent. The FileAccessAgent is defined in the [file_acess_agent.py](./resources/registry/agents/file_access_agent.py) file in `resources/registry/agents` directory. The FileAccessAgent is: \n",
    "\n",
    "- A concrete implementation of the BaseAgent class. \n",
    "- Initialized with the developer prompt, model name, logger, and language model interface. These values can be overridden by the developer if needed. \n",
    "- Has a setup_tools method that registers the FileAccessTool to the tool manager. \n",
    "- Has a `task` method that calls the FileAccessTool to read the file and provide the context to the PythonCodeExecAgent. \n"
   ]
  },
  {
   "cell_type": "markdown",
   "id": "c06cd2e5447b4ff9",
   "metadata": {},
   "source": [
    "**Define Agent 2: PythonExecAgent with PythonExecTool**  \n",
    "\n",
    "Similarly, PythonExecTool inherits from the ToolInterface class and implements the get_definition and run methods. The get_definition method returns the tool definition in the format expected by the OpenAI Function Calling API. The run method executes the Python code in a Docker container and returns the output. This tool is defined in the [python_code_interpreter_tool.py](./resources/registry/tools/python_code_interpreter_tool.py) file in the `resources/registry/tools` directory. \n",
    "\n",
    "Likewise, PythonExecAgent is a concrete implementation of the BaseAgent class. It is defined in the [python_code_exec_agent.py](./resources/registry/agents/python_code_exec_agent.py) file in the `resources/registry/agents` directory. The PythonExecAgent is: \n",
    "\n",
    "- A concrete implementation of the BaseAgent class. \n",
    "- Initialized with the developer prompt, model name, logger, and language model interface. These values can be overridden by the developer if needed. \n",
    "- Has a setup_tools method that registers the PythonExecTool to the tool manager. \n",
    "- Has a `task` method that calls the OpenAI API to perform the user's task, which in this case involves generating a Python script to answer the user's question and run it with Code Interpretter tool. "
   ]
  },
  {
   "cell_type": "markdown",
   "id": "bb93488f",
   "metadata": {},
   "source": [
    "### Step 3: Set up Agentic Orchestration to run the application \n",
    "\n",
    "With the Agents defined, now we can define the orchestration loop that will run the application. This loop will prompt the user for a question or task, and then call the FileAccessAgent to read the file and provide the context to the PythonExecAgent. The PythonExecAgent will generate the Python code to answer the user's question and execute the code in the Docker container. The output from the code execution will be displayed to the user. \n",
    "\n",
    "User can type 'exit' to stop the application. Our question: **What factors contribute the most to accident frequency?** Note that we did not pre-define the function to answer this question.\n",
    "\n"
   ]
  },
  {
   "cell_type": "code",
   "execution_count": 4,
   "id": "866b7eb2",
   "metadata": {
    "ExecuteTime": {
     "end_time": "2025-01-27T00:16:03.490020Z",
     "start_time": "2025-01-27T00:15:36.487115Z"
    }
   },
   "outputs": [
    {
     "name": "stdout",
     "output_type": "stream",
     "text": [
      "Setup: \n",
      "Use the file traffic_accidents.csv for your analysis. The column names are:\n",
      "Variable\tDescription\n",
      "accidents\tNumber of recorded accidents, as a positive integer.\n",
      "traffic_fine_amount\tTraffic fine amount, expressed in thousands of USD.\n",
      "traffic_density\tTraffic density index, scale from 0 (low) to 10 (high).\n",
      "traffic_lights\tProportion of traffic lights in the area (0 to 1).\n",
      "pavement_quality\tPavement quality, scale from 0 (very poor) to 5 (excellent).\n",
      "urban_area\tUrban area (1) or rural area (0), as an integer.\n",
      "average_speed\tAverage speed of vehicles in km/h.\n",
      "rain_intensity\tRain intensity, scale from 0 (no rain) to 3 (heavy rain).\n",
      "vehicle_count\tEstimated number of vehicles, in thousands, as an integer.\n",
      "time_of_day\tTime of day in 24-hour format (0 to 24).\n",
      "accidents\ttraffic_fine_amount\n",
      "\n",
      "Setting up the agents... \n",
      "Understanding the contents of the file...\n"
     ]
    },
    {
     "name": "stderr",
     "output_type": "stream",
     "text": [
      "2025-01-26 16:15:37,348 - MyApp - INFO - Handling tool call: safe_file_access\n",
      "2025-01-26 16:15:37,350 - MyApp - INFO - Tool arguments: {'filename': './resources/data/traffic_accidents.csv'}\n",
      "2025-01-26 16:15:37,512 - MyApp - INFO - Tool 'safe_file_access' response: Copied ./resources/data/traffic_accidents.csv into sandbox:/home/sandboxuser/.\n",
      "The file content for the first 15 rows is:\n",
      "    accidents  traffic_fine_amount  traffic_density  traffic_lights  pavement_quality  urban_area  average_speed  rain_intensity  vehicle_count  time_of_day\n",
      "0          20               4.3709           2.3049         753.000            0.7700           1        321.592          1.1944       290.8570     160.4320\n",
      "1          11               9.5564           3.2757           5.452            4.0540           1        478.623          6.2960       931.8120       8.9108\n",
      "2          19               7.5879           2.0989           6.697          345.0000           0        364.476          2.8584       830.0860       5.5727\n",
      "3          23               6.3879           4.9188           9.412            4.7290           0         20.920          2.1065       813.1590     131.4520\n",
      "4          23               2.4042           1.9610           7.393            1.7111           1         37.378          1.7028         1.4663       6.9610\n",
      "5          31               2.4040           6.7137           5.411            5.9050           1        404.621          1.8936       689.0410       8.1801\n",
      "6          29               1.5228           5.2316           9.326            2.3785           1         16.292          2.5213       237.9710      12.6622\n",
      "7          18               8.7956           8.9864           4.784            1.9984           0        352.566          1.9072       968.0670       8.0602\n",
      "8          15               6.4100           1.6439           5.612            3.6090           1        217.198          3.4380       535.4440       8.2904\n",
      "9          22               7.3727           8.0411           5.961            4.7650           1        409.261          2.0919       569.0560     203.5910\n",
      "10         28               1.1853           7.9196           0.410            3.7678           1        147.689          1.6946       362.9180     224.1580\n",
      "11         17               9.7292           1.2718           8.385            8.9720           0         46.888          2.8990       541.3630     198.5740\n",
      "12         14               8.4920           3.9856           1.852            4.6776           0        287.393          2.2012        75.2240       2.3728\n",
      "13         21               2.9111           1.7015           5.548            1.9607           1        176.652          1.0320       566.3010       6.9538\n",
      "14         22               2.6364           2.5472           7.222            2.3709           0        209.686          4.0620        64.4850     170.7110\n"
     ]
    },
    {
     "name": "stdout",
     "output_type": "stream",
     "text": [
      "Type your question related to the data in the file. Type 'exit' to exit.\n",
      "User question: What factors contribute the most to accident frequency?\n",
      "Generating dynamic tools and using code interpreter...\n"
     ]
    },
    {
     "name": "stderr",
     "output_type": "stream",
     "text": [
      "2025-01-26 16:15:50,144 - MyApp - INFO - Handling tool call: execute_python_code\n",
      "2025-01-26 16:15:50,144 - MyApp - INFO - Tool arguments: {'python_code': \"import pandas as pd\\nimport numpy as np\\nfrom sklearn.ensemble import RandomForestRegressor\\n\\n# 1. Load the CSV file\\nfile_path = '/home/sandboxuser/traffic_accidents.csv'\\ndf = pd.read_csv(file_path)\\n\\n# 2. Prepare the data\\n#    We'll treat 'accidents' as our target.\\nX = df.drop('accidents', axis=1)\\ny = df['accidents']\\n\\n# 3. Train a simple Random Forest Regressor to estimate feature importance.\\nrf = RandomForestRegressor(random_state=0)\\nrf.fit(X, y)\\n\\n# 4. Extract feature importances\\nfeature_importances = rf.feature_importances_\\ncolumns = X.columns\\n\\n# 5. Combine feature names and importances, and sort\\nimportances_df = pd.DataFrame({'Feature': columns, 'Importance': feature_importances})\\nimportances_df = importances_df.sort_values(by='Importance', ascending=False)\\n\\n# 6. Print the results\\nprint('Feature importances based on Random Forest Regressor:')\\nprint(importances_df.to_string(index=False))\"}\n",
      "2025-01-26 16:15:53,260 - MyApp - INFO - Tool 'execute_python_code' response: Feature importances based on Random Forest Regressor:\n",
      "            Feature  Importance\n",
      "traffic_fine_amount    0.580858\n",
      "    traffic_density    0.164679\n",
      "     rain_intensity    0.095392\n",
      "        time_of_day    0.035838\n",
      "      average_speed    0.035590\n",
      "   pavement_quality    0.032545\n",
      "     traffic_lights    0.022789\n",
      "      vehicle_count    0.021246\n",
      "         urban_area    0.011062\n",
      "\n"
     ]
    },
    {
     "name": "stdout",
     "output_type": "stream",
     "text": [
      "Output...\n",
      "Based on a simple Random Forest analysis, the factor with the highest feature importance is “traffic_fine_amount.” The next most influential factors are “traffic_density” and “rain_intensity,” followed by “time_of_day” and “average_speed.”\n",
      "Type your question related to the data in the file. Type 'exit' to exit.\n",
      "Exiting the application.\n"
     ]
    }
   ],
   "source": [
    "# Import the agents from registry/agents\n",
    "\n",
    "from resources.registry.agents.file_access_agent import FileAccessAgent\n",
    "from resources.registry.agents.python_code_exec_agent import PythonExecAgent\n",
    "\n",
    "\n",
    "prompt = \"\"\"Use the file traffic_accidents.csv for your analysis. The column names are:\n",
    "Variable\tDescription\n",
    "accidents\tNumber of recorded accidents, as a positive integer.\n",
    "traffic_fine_amount\tTraffic fine amount, expressed in thousands of USD.\n",
    "traffic_density\tTraffic density index, scale from 0 (low) to 10 (high).\n",
    "traffic_lights\tProportion of traffic lights in the area (0 to 1).\n",
    "pavement_quality\tPavement quality, scale from 0 (very poor) to 5 (excellent).\n",
    "urban_area\tUrban area (1) or rural area (0), as an integer.\n",
    "average_speed\tAverage speed of vehicles in km/h.\n",
    "rain_intensity\tRain intensity, scale from 0 (no rain) to 3 (heavy rain).\n",
    "vehicle_count\tEstimated number of vehicles, in thousands, as an integer.\n",
    "time_of_day\tTime of day in 24-hour format (0 to 24).\n",
    "accidents\ttraffic_fine_amount\n",
    "\"\"\"\n",
    "\n",
    "\n",
    "print(\"Setup: \")\n",
    "print(prompt)\n",
    "\n",
    "print(\"Setting up the agents... \")\n",
    "\n",
    "# Instantiate the agents with the default constructor defined values\n",
    "\n",
    "# Developer override the default values - prompt, model, logger, and language model interface if needed\n",
    "\n",
    "file_ingestion_agent = FileAccessAgent()\n",
    "data_analysis_agent = PythonExecAgent()\n",
    "\n",
    "print(\"Understanding the contents of the file...\")\n",
    "# Give a task to the file ingestion agent to read the file and provide the context to the data analysis agent \n",
    "file_ingestion_agent_output = file_ingestion_agent.task(prompt)\n",
    "\n",
    "# Add the file content as context to the data analysis agent\n",
    "# The context is added to the agent's tool manager so that the tool manager can use the context to generate the code \n",
    "\n",
    "data_analysis_agent.add_context(prompt)\n",
    "data_analysis_agent.add_context(file_ingestion_agent_output)\n",
    "\n",
    "while True:\n",
    "\n",
    "    print(\"Type your question related to the data in the file. Type 'exit' to exit.\")\n",
    "    user_input = input(\"Type your question.\")\n",
    "\n",
    "    if user_input == \"exit\":\n",
    "        print(\"Exiting the application.\")\n",
    "        break\n",
    "\n",
    "    print(f\"User question: {user_input}\")\n",
    "\n",
    "    print(\"Generating dynamic tools and using code interpreter...\")\n",
    "    data_analysis_agent_output = data_analysis_agent.task(user_input)\n",
    "\n",
    "    print(\"Output...\")\n",
    "    print(data_analysis_agent_output)\n"
   ]
  },
  {
   "cell_type": "markdown",
   "id": "29f96b97",
   "metadata": {},
   "source": [
    "In this example, the LLM dynamically generated a tool (a Python script) to analyze the data and answer the user's question that show cases the following:\n",
    "\n",
    "**Dynamically Generated Tool Calling**: This tool (the Python script) to analyze the data was not manually written or predetermined by the developer. Instead, the LLM itself created the relevant data exploration, correlation analysis, and machine learning code at runtime.\n",
    "\n",
    "**Isolated Code Execution**: To ensure security and avoid running untrusted code on the host machine, the Python script was executed inside a Docker container using the `execute_python_code` tool. This container had restricted resource access (e.g., no network and limited filesystem access), minimizing potential risks posed by arbitrary code execution.\n"
   ]
  },
  {
   "cell_type": "markdown",
   "id": "bb1ed586",
   "metadata": {},
   "source": [
    "### Conclusion\n",
    "\n",
    "The Cookbook provides a guide for developing a **custom code interpreter** tailored to specific application needs, addressing limitations found in vendor-provided solutions such as language constraints, cost considerations, and the need for flexibility with different LLMs or models.\n",
    "\n",
    "**Approach for Managing Agents and Tools**: We also defined a set of core classes to manage the agents and tools. This approach ensures that the agents and tools will have a consistent interface and can be reused across different applications. A repository of agents and tools such as the [registry](./resources/registry) folder can be created to manage the agents and tools.\n",
    "\n",
    "To recap, the three steps to build an Agentic Application with Dynamic Tool Calling are:\n",
    "1. Set up an isolated code execution container environment\n",
    "2. Define and Test the Agents\n",
    "3. Set up Agentic Orchestration to run the application \n",
    "\n",
    "We discussed the importance of isolating the code execution environment to ensure security and avoid running untrusted code on the host machine. With the use case of a CSV file, we demonstrated how to dynamically generate a tool (a Python script) to analyze the data and answer the user's question. We also showed how to execute the code in a Docker container and return the output to the user."
   ]
  }
 ],
 "metadata": {
  "kernelspec": {
   "display_name": "Python 3",
   "language": "python",
   "name": "python3"
  },
  "language_info": {
   "codemirror_mode": {
    "name": "ipython",
    "version": 3
   },
   "file_extension": ".py",
   "mimetype": "text/x-python",
   "name": "python",
   "nbconvert_exporter": "python",
   "pygments_lexer": "ipython3",
   "version": "3.12.3"
  }
 },
 "nbformat": 4,
 "nbformat_minor": 5
}
