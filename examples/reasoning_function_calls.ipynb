{
 "cells": [
  {
   "cell_type": "markdown",
   "metadata": {},
   "source": [
    "# Managing Function Calls With Reasoning Models\n",
    "OpenAI now offers function calling using [reasoning models](https://platform.openai.com/docs/guides/reasoning?api-mode=responses). Reasoning models are trained to follow logical chains of thought, making them better suited for complex or multi-step tasks.\n",
    "> _Reasoning models like o3 and o4-mini are LLMs trained with reinforcement learning to perform reasoning. Reasoning models think before they answer, producing a long internal chain of thought before responding to the user. Reasoning models excel in complex problem solving, coding, scientific reasoning, and multi-step planning for agentic workflows. They're also the best models for Codex CLI, our lightweight coding agent._\n",
    "\n",
    "For the most part, using these models via the API is very simple and comparable to using familiar 'chat' models. \n",
    "\n",
    "However, there are some nuances to bear in mind, particularly when it comes to using features such as function calling. \n",
    "\n",
    "All examples in this notebook use the newer [Responses API](https://community.openai.com/t/introducing-the-responses-api/1140929) which provides convenient abstractions for managing conversation state. However the principles here are relevant when using the older chat completions API."
   ]
  },
  {
   "cell_type": "markdown",
   "metadata": {},
   "source": [
    "## Making API calls to reasoning models"
   ]
  },
  {
   "cell_type": "code",
   "execution_count": 1,
   "metadata": {},
   "outputs": [],
   "source": [
    "# pip install openai\n",
    "# Import libraries \n",
    "import json\n",
    "from openai import OpenAI\n",
    "from uuid import uuid4\n",
    "from typing import Callable\n",
    "\n",
    "client = OpenAI()\n",
    "MODEL_DEFAULTS = {\n",
    "    \"model\": \"o4-mini\", # 200,000 token context window\n",
    "    \"reasoning\": {\"effort\": \"low\", \"summary\": \"auto\"}, # Automatically summarise the reasoning process. Can also choose \"detailed\" or \"none\"\n",
    "}"
   ]
  },
  {
   "cell_type": "markdown",
   "metadata": {},
   "source": [
    "Let's make a simple call to a reasoning model using the Responses API.\n",
    "We specify a low reasoning effort and retrieve the response with the helpful `output_text` attribute.\n",
    "We can ask follow up questions and use the `previous_response_id` to let OpenAI manage the conversation history automatically"
   ]
  },
  {
   "cell_type": "code",
   "execution_count": 2,
   "metadata": {},
   "outputs": [
    {
     "name": "stdout",
     "output_type": "stream",
     "text": [
      "Among the last four Summer Olympic host cities—Tokyo (2020), Rio de Janeiro (2016), London (2012) and Beijing (2008)—Rio de Janeiro has by far the warmest climate. Average annual temperatures are roughly:\n",
      "\n",
      "• Rio de Janeiro: ≈ 23 °C  \n",
      "• Tokyo: ≈ 16 °C  \n",
      "• Beijing: ≈ 13 °C  \n",
      "• London: ≈ 11 °C  \n",
      "\n",
      "So Rio de Janeiro has the highest average temperature.\n",
      "Among those four, London has the lowest average annual temperature, at about 11 °C.\n"
     ]
    }
   ],
   "source": [
    "response = client.responses.create(\n",
    "    input=\"Which of the last four Olympic host cities has the highest average temperature?\",\n",
    "    **MODEL_DEFAULTS\n",
    ")\n",
    "print(response.output_text)\n",
    "\n",
    "response = client.responses.create(\n",
    "    input=\"what about the lowest?\",\n",
    "    previous_response_id=response.id,\n",
    "    **MODEL_DEFAULTS\n",
    ")\n",
    "print(response.output_text)"
   ]
  },
  {
   "cell_type": "markdown",
   "metadata": {},
   "source": [
    "Nice and easy!\n",
    "\n",
    "We're asking relatively complex questions that may require the model to reason out a plan and proceed through it in steps, but this reasoning is hidden from us - we simply wait a little longer before being shown the response. \n",
    "\n",
    "However, if we inspect the output we can see that the model has made use of a hidden set of 'reasoning' tokens that were included in the model context window, but not exposed to us as end users.\n",
    "We can see these tokens and a summary of the reasoning (but not the literal tokens used) in the response."
   ]
  },
  {
   "cell_type": "code",
   "execution_count": 3,
   "metadata": {},
   "outputs": [
    {
     "name": "stdout",
     "output_type": "stream",
     "text": [
      "**Determining lowest temperatures**\n",
      "\n",
      "The user is asking about the lowest average temperatures of the last four Olympic host cities: Tokyo, Rio, London, and Beijing. I see London has the lowest average temperature at around 11°C. If I double-check the annual averages: Rio is about 23°C, Tokyo is around 16°C, and Beijing is approximately 13°C. So, my final answer is London with an average of roughly 11°C. I could provide those approximate values clearly for the user.\n"
     ]
    },
    {
     "data": {
      "text/plain": [
       "{'input_tokens': 136,\n",
       " 'input_tokens_details': {'cached_tokens': 0},\n",
       " 'output_tokens': 89,\n",
       " 'output_tokens_details': {'reasoning_tokens': 64},\n",
       " 'total_tokens': 225}"
      ]
     },
     "execution_count": 3,
     "metadata": {},
     "output_type": "execute_result"
    }
   ],
   "source": [
    "print(next(rx for rx in response.output if rx.type == 'reasoning').summary[0].text)\n",
    "response.usage.to_dict()"
   ]
  },
  {
   "cell_type": "markdown",
   "metadata": {},
   "source": [
    "It is important to know about these reasoning tokens, because it means we will consume our available context window more quickly than with traditional chat models.\n",
    "\n",
    "## Calling custom functions\n",
    "What happens if we ask the model a complex request that also requires the use of custom tools?\n",
    "* Let's imagine we have more questions about Olympic Cities, but we also have an internal database that contains IDs for each city.\n",
    "* It's possible that the model will need to invoke our tool partway through its reasoning process before returning a result.\n",
    "* Let's make a function that produces a random UUID and ask the model to reason about these UUIDs. \n"
   ]
  },
  {
   "cell_type": "code",
   "execution_count": 4,
   "metadata": {},
   "outputs": [
    {
     "name": "stdout",
     "output_type": "stream",
     "text": [
      "\n"
     ]
    }
   ],
   "source": [
    "\n",
    "def get_city_uuid(city: str) -> str:\n",
    "    \"\"\"Just a fake tool to return a fake UUID\"\"\"\n",
    "    uuid = str(uuid4())\n",
    "    return f\"{city} ID: {uuid}\"\n",
    "\n",
    "# The tool schema that we will pass to the model\n",
    "tools = [\n",
    "    {\n",
    "        \"type\": \"function\",\n",
    "        \"name\": \"get_city_uuid\",\n",
    "        \"description\": \"Retrieve the internal ID for a city from the internal database. Only invoke this function if the user needs to know the internal ID for a city.\",\n",
    "        \"parameters\": {\n",
    "            \"type\": \"object\",\n",
    "            \"properties\": {\n",
    "                \"city\": {\"type\": \"string\", \"description\": \"The name of the city to get information about\"}\n",
    "            },\n",
    "            \"required\": [\"city\"]\n",
    "        }\n",
    "    }\n",
    "]\n",
    "\n",
    "# This is a general practice - we need a mapping of the tool names we tell the model about, and the functions that implement them.\n",
    "tool_mapping = {\n",
    "    \"get_city_uuid\": get_city_uuid\n",
    "}\n",
    "\n",
    "# Let's add this to our defaults so we don't have to pass it every time\n",
    "MODEL_DEFAULTS[\"tools\"] = tools\n",
    "\n",
    "response = client.responses.create(\n",
    "    input=\"What's the internal ID for the lowest-temperature city?\",\n",
    "    previous_response_id=response.id,\n",
    "    **MODEL_DEFAULTS)\n",
    "print(response.output_text)\n"
   ]
  },
  {
   "cell_type": "markdown",
   "metadata": {},
   "source": [
    "We didn't get an `output_text` this time. Let's look at the response output"
   ]
  },
  {
   "cell_type": "code",
   "execution_count": 5,
   "metadata": {},
   "outputs": [
    {
     "data": {
      "text/plain": [
       "[ResponseReasoningItem(id='rs_68246219e8288191af051173b1d53b3f0c4fbdb0d4a46f3c', summary=[], type='reasoning', status=None),\n",
       " ResponseFunctionToolCall(arguments='{\"city\":\"London\"}', call_id='call_Mx6pyTjCkSkmASETsVASogoC', name='get_city_uuid', type='function_call', id='fc_6824621b8f6c8191a8095df7230b611e0c4fbdb0d4a46f3c', status='completed')]"
      ]
     },
     "execution_count": 5,
     "metadata": {},
     "output_type": "execute_result"
    }
   ],
   "source": [
    "response.output"
   ]
  },
  {
   "cell_type": "markdown",
   "metadata": {},
   "source": [
    "Along with the reasoning step, the model has successfully identified the need for a tool call and passed back instructions to send to our function call. \n",
    "\n",
    "Let's invoke the function and send the results to the model so it can continue reasoning.\n",
    "Function responses are a special kind of message, so we need to structure our next message as a special kind of input:\n",
    "```json\n",
    "{\n",
    "    \"type\": \"function_call_output\",\n",
    "    \"call_id\": function_call.call_id,\n",
    "    \"output\": tool_output\n",
    "}\n",
    "```"
   ]
  },
  {
   "cell_type": "code",
   "execution_count": 6,
   "metadata": {},
   "outputs": [],
   "source": [
    "# Extract the function call(s) from the response\n",
    "new_conversation_items = []\n",
    "function_calls = [rx for rx in response.output if rx.type == 'function_call']\n",
    "for function_call in function_calls:\n",
    "    target_tool = tool_mapping.get(function_call.name)\n",
    "    if not target_tool:\n",
    "        raise ValueError(f\"No tool found for function call: {function_call.name}\")\n",
    "    arguments = json.loads(function_call.arguments) # Load the arguments as a dictionary\n",
    "    tool_output = target_tool(**arguments) # Invoke the tool with the arguments\n",
    "    new_conversation_items.append({\n",
    "        \"type\": \"function_call_output\",\n",
    "        \"call_id\": function_call.call_id, # We map the response back to the original function call\n",
    "        \"output\": tool_output\n",
    "    })"
   ]
  },
  {
   "cell_type": "code",
   "execution_count": 7,
   "metadata": {},
   "outputs": [
    {
     "name": "stdout",
     "output_type": "stream",
     "text": [
      "The internal ID for London is 816bed76-b956-46c4-94ec-51d30b022725.\n"
     ]
    }
   ],
   "source": [
    "response = client.responses.create(\n",
    "    input=new_conversation_items,\n",
    "    previous_response_id=response.id,\n",
    "    **MODEL_DEFAULTS\n",
    ")\n",
    "print(response.output_text)\n"
   ]
  },
  {
   "cell_type": "markdown",
   "metadata": {},
   "source": [
    "This works great here - as we know that a single function call is all that is required for the model to respond - but we also need to account for situations where multiple tool calls might need to be executed for the reasoning to complete.\n",
    "\n",
    "Let's add a second call to run a web search.\n",
    "\n",
    "OpenAI's web search tool is not available out of the box with reasoning models (as of May 2025 - this may soon change) but it's not too hard to create a custom web search function using 4o mini or another web search enabled model."
   ]
  },
  {
   "cell_type": "code",
   "execution_count": 8,
   "metadata": {},
   "outputs": [],
   "source": [
    "def web_search(query: str) -> str:\n",
    "    \"\"\"Search the web for information and return back a summary of the results\"\"\"\n",
    "    result = client.responses.create(\n",
    "        model=\"gpt-4o-mini\",\n",
    "        input=f\"Search the web for '{query}' and reply with only the result.\",\n",
    "        tools=[{\"type\": \"web_search_preview\"}],\n",
    "    )\n",
    "    return result.output_text\n",
    "\n",
    "tools.append({\n",
    "        \"type\": \"function\",\n",
    "        \"name\": \"web_search\",\n",
    "        \"description\": \"Search the web for information and return back a summary of the results\",\n",
    "        \"parameters\": {\n",
    "            \"type\": \"object\",\n",
    "            \"properties\": {\n",
    "                \"query\": {\"type\": \"string\", \"description\": \"The query to search the web for.\"}\n",
    "            },\n",
    "            \"required\": [\"query\"]\n",
    "        }\n",
    "    })\n",
    "tool_mapping[\"web_search\"] = web_search\n"
   ]
  },
  {
   "cell_type": "markdown",
   "metadata": {},
   "source": [
    "## Executing multiple functions in series\n",
    "\n",
    "Some OpenAI models support the parameter `parallel_tool_calls` which allows the model to return an array of functions which we can then execute in parallel. However, reasoning models may produce a sequence of function calls that must be made in series, particularly as some steps may depend on the results of previous ones.\n",
    "As such, we ought to define a general pattern which we can use to handle arbitrarily complex reasoning workflows:\n",
    "* At each step in the conversation, initialise a loop\n",
    "* If the response contains function calls, we must assume the reasoning is ongoing and we should feed the function results (and any intermediate reasoning) back into the model for further inference\n",
    "* If there are no function calls and we instead receive a Reponse.output with a type of 'message', we can safely assume the agent has finished reasoning and we can break out of the loop"
   ]
  },
  {
   "cell_type": "code",
   "execution_count": 9,
   "metadata": {},
   "outputs": [],
   "source": [
    "# Let's wrap our logic above into a function which we can use to invoke tool calls.\n",
    "def invoke_functions_from_response(response,\n",
    "                                   tool_mapping: dict[str, Callable] = tool_mapping\n",
    "                                   ) -> list[dict]:\n",
    "    \"\"\"Extract all function calls from the response, look up the corresponding tool function(s) and execute them.\n",
    "    (This would be a good place to handle asynchroneous tool calls, or ones that take a while to execute.)\n",
    "    This returns a list of messages to be added to the conversation history.\n",
    "    \"\"\"\n",
    "    intermediate_messages = []\n",
    "    for response_item in response.output:\n",
    "        if response_item.type == 'function_call':\n",
    "            target_tool = tool_mapping.get(response_item.name)\n",
    "            if target_tool:\n",
    "                try:\n",
    "                    arguments = json.loads(response_item.arguments)\n",
    "                    print(f\"Invoking tool: {response_item.name}({arguments})\")\n",
    "                    tool_output = target_tool(**arguments)\n",
    "                except Exception as e:\n",
    "                    msg = f\"Error executing function call: {response_item.name}: {e}\"\n",
    "                    tool_output = msg\n",
    "                    print(msg)\n",
    "            else:\n",
    "                msg = f\"ERROR - No tool registered for function call: {response_item.name}\"\n",
    "                tool_output = msg\n",
    "                print(msg)\n",
    "            intermediate_messages.append({\n",
    "                \"type\": \"function_call_output\",\n",
    "                \"call_id\": response_item.call_id,\n",
    "                \"output\": tool_output\n",
    "            })\n",
    "        elif response_item.type == 'reasoning':\n",
    "            print(f'Reasoning step: {response_item.summary}')\n",
    "    return intermediate_messages"
   ]
  },
  {
   "cell_type": "markdown",
   "metadata": {},
   "source": [
    "Now let's demonstrate the loop concept we discussed before."
   ]
  },
  {
   "cell_type": "code",
   "execution_count": 10,
   "metadata": {},
   "outputs": [
    {
     "name": "stdout",
     "output_type": "stream",
     "text": [
      "Reasoning step: []\n",
      "Invoking tool: get_city_uuid({'city': 'Beijing'})\n",
      "More reasoning required, continuing...\n",
      "Reasoning step: []\n",
      "Invoking tool: get_city_uuid({'city': 'London'})\n",
      "More reasoning required, continuing...\n",
      "Reasoning step: []\n",
      "Invoking tool: get_city_uuid({'city': 'Rio de Janeiro'})\n",
      "More reasoning required, continuing...\n",
      "Reasoning step: []\n",
      "Invoking tool: get_city_uuid({'city': 'Tokyo'})\n",
      "More reasoning required, continuing...\n",
      "Reasoning step: []\n",
      "Invoking tool: get_city_uuid({'city': 'Paris'})\n",
      "More reasoning required, continuing...\n",
      "Reasoning step: []\n",
      "Invoking tool: get_city_uuid({'city': 'Turin'})\n",
      "More reasoning required, continuing...\n",
      "Reasoning step: []\n",
      "Invoking tool: get_city_uuid({'city': 'Vancouver'})\n",
      "More reasoning required, continuing...\n",
      "Reasoning step: []\n",
      "Invoking tool: get_city_uuid({'city': 'Sochi'})\n",
      "More reasoning required, continuing...\n",
      "Reasoning step: []\n",
      "Invoking tool: get_city_uuid({'city': 'Pyeongchang'})\n",
      "More reasoning required, continuing...\n",
      "Reasoning step: []\n",
      "Invoking tool: web_search({'query': '2025 Beijing Olympics news'})\n",
      "More reasoning required, continuing...\n",
      "Reasoning step: []\n",
      "Invoking tool: web_search({'query': '2025 London Olympics news'})\n",
      "More reasoning required, continuing...\n",
      "Reasoning step: []\n",
      "Invoking tool: web_search({'query': '2025 Rio de Janeiro Olympics news'})\n",
      "More reasoning required, continuing...\n",
      "Reasoning step: []\n",
      "Invoking tool: web_search({'query': '2025 Tokyo Olympics news'})\n",
      "More reasoning required, continuing...\n",
      "Reasoning step: []\n",
      "Invoking tool: web_search({'query': '2025 Paris Olympics news'})\n",
      "More reasoning required, continuing...\n",
      "Reasoning step: []\n",
      "Invoking tool: web_search({'query': '2025 Turin Olympics news'})\n",
      "More reasoning required, continuing...\n",
      "Reasoning step: []\n",
      "Invoking tool: web_search({'query': '2025 Vancouver Olympics news'})\n",
      "More reasoning required, continuing...\n",
      "Reasoning step: [Summary(text='**Focusing on Olympic News**\\n\\nI need to clarify that the Invictus Games are not related to the Olympics, so I should exclude them from my search. That leaves me with Olympic-specific news focusing on Paris. I also want to consider past events, like Sochi and Pyeongchang, so I think it makes sense to search for news related to Sochi as well. Let’s focus on gathering relevant Olympic updates to keep things organized.', type='summary_text')]\n",
      "Invoking tool: web_search({'query': '2025 Sochi Olympics news'})\n",
      "More reasoning required, continuing...\n",
      "Reasoning step: []\n",
      "Invoking tool: web_search({'query': '2025 Pyeongchang Olympics news'})\n",
      "More reasoning required, continuing...\n",
      "Reasoning step: []\n",
      "Here are the internal IDs for all cities that have hosted Olympic Games in the last 20 years (2005–2025), along with those cities that have notable 2025 news stories specifically about the Olympics:\n",
      "\n",
      "1. Beijing (2008 Summer; 2022 Winter)  \n",
      "   • UUID: 5b058554-7253-4d9d-a434-5d4ccc87c78b  \n",
      "   • 2025 Olympic News? No major Olympic-specific news in 2025\n",
      "\n",
      "2. London (2012 Summer)  \n",
      "   • UUID: 9a67392d-c319-4598-b69a-adc5ffdaaba2  \n",
      "   • 2025 Olympic News? No\n",
      "\n",
      "3. Rio de Janeiro (2016 Summer)  \n",
      "   • UUID: ad5eaaae-b280-4c1d-9360-3a38b0c348c3  \n",
      "   • 2025 Olympic News? No\n",
      "\n",
      "4. Tokyo (2020 Summer)  \n",
      "   • UUID: 66c3a62a-840c-417a-8fad-ce87b97bb6a3  \n",
      "   • 2025 Olympic News? No\n",
      "\n",
      "5. Paris (2024 Summer)  \n",
      "   • UUID: a2da124e-3fad-402b-8ccf-173f63b4ff68  \n",
      "   • 2025 Olympic News? Yes  \n",
      "     – Olympic cauldron balloon to float annually over Paris into 2028 ([AP News])  \n",
      "     – IOC to replace defective Paris 2024 medals ([NDTV Sports])  \n",
      "     – IOC elects Kirsty Coventry as president at March 2025 session ([Wikipedia])  \n",
      "     – MLB cancels its planned 2025 Paris regular-season games ([AP News])\n",
      "\n",
      "6. Turin (2006 Winter)  \n",
      "   • UUID: 3674750b-6b76-49dc-adf4-d4393fa7bcfa  \n",
      "   • 2025 Olympic News? No (Host of Special Olympics World Winter Games, but not mainline Olympics)\n",
      "\n",
      "7. Vancouver (2010 Winter)  \n",
      "   • UUID: 22517787-5915-41c8-b9dd-a19aa2953210  \n",
      "   • 2025 Olympic News? No\n",
      "\n",
      "8. Sochi (2014 Winter)  \n",
      "   • UUID: f7efa267-c7da-4cdc-a14f-a4844f47b888  \n",
      "   • 2025 Olympic News? No\n",
      "\n",
      "9. Pyeongchang (2018 Winter)  \n",
      "   • UUID: ffb19c03-5212-42a9-a527-315d35efc5fc  \n",
      "   • 2025 Olympic News? No\n",
      "\n",
      "Summary of cities with 2025 Olympic-related news:  \n",
      "• Paris (a2da124e-3fad-402b-8ccf-173f63b4ff68)\n"
     ]
    }
   ],
   "source": [
    "initial_question = (\n",
    "    \"What are the internal IDs for the cities that have hosted the Olympics in the last 20 years, \"\n",
    "    \"and which of those cities have recent news stories (in 2025) about the Olympics? \"\n",
    "    \"Use your internal tools to look up the IDs and the web search tool to find the news stories.\"\n",
    ")\n",
    "\n",
    "# We fetch a response and then kick off a loop to handle the response\n",
    "response = client.responses.create(\n",
    "    input=initial_question,\n",
    "    **MODEL_DEFAULTS,\n",
    ")\n",
    "while True:   \n",
    "    function_responses = invoke_functions_from_response(response)\n",
    "    if len(function_responses) == 0: # We're done reasoning\n",
    "        print(response.output_text)\n",
    "        break\n",
    "    else:\n",
    "        print(\"More reasoning required, continuing...\")\n",
    "        response = client.responses.create(\n",
    "            input=function_responses,\n",
    "            previous_response_id=response.id,\n",
    "            **MODEL_DEFAULTS\n",
    "        )"
   ]
  },
  {
   "cell_type": "markdown",
   "metadata": {},
   "source": [
    "## Manual conversation orchestration\n",
    "So far so good! It's really cool to watch the model pause execution to run a function before continuing. \n",
    "In practice the example above is quite trivial, and production use cases may be much more complex:\n",
    "* Our context window may grow too large and we may wish to prune older and less relevant messages, or summarize the conversation so far\n",
    "* We may wish to allow users to navigate back and forth through the conversation and re-generate answers\n",
    "* We may wish to store messages in our own database for audit purposes rather than relying on OpenAI's storage and orchestration\n",
    "* etc.\n",
    "\n",
    "In these situations we may wish to take full control of the conversation. Rather than using `previous_message_id` we can instead treat the API as 'stateless' and make and maintain an array of conversation items that we send to the model as input each time.\n",
    "\n",
    "This poses some Reasoning model specific nuances to consider. \n",
    "* In particular, it is essential that we preserve any reasoning and function call responses in our conversation history.\n",
    "* This is how the model keeps track of what chain-of-thought steps it has run through. The API will error if these are not included.\n",
    "\n",
    "Let's run through the example above again, orchestrating the messages ourselves and tracking token usage.\n",
    "\n",
    "---\n",
    "*Note that the code below is structured for readibility - in practice you may wish to consider a more sophisticated workflow to handle edge cases*"
   ]
  },
  {
   "cell_type": "code",
   "execution_count": 11,
   "metadata": {},
   "outputs": [
    {
     "name": "stdout",
     "output_type": "stream",
     "text": [
      "*******************************************************************************\n",
      "User message: Of those cities that have hosted the summer Olympic games in the last 20 years - do any of them have IDs beginning with a number and a temperate climate? Use your available tools to look up the IDs for each city and make sure to search the web to find out about the climate.\n",
      "*******************************************************************************\n",
      "More reasoning required, continuing...\n",
      "**Clarifying Olympic Cities**\n",
      "\n",
      "The user is asking about cities that hosted the Summer Olympics in the last 20 years. The relevant years to consider are 2004 Athens, 2008 Beijing, 2012 London, 2016 Rio de Janeiro, and 2020 Tokyo. If we're considering 2025, then 2004 would actually be 21 years ago, so I should focus instead on the years from 2005 onwards. Therefore, the cities to include are Beijing, London, Rio, and Tokyo. I’ll exclude Paris since it hasn’t hosted yet.\n",
      "Reasoning step: [Summary(text=\"**Clarifying Olympic Cities**\\n\\nThe user is asking about cities that hosted the Summer Olympics in the last 20 years. The relevant years to consider are 2004 Athens, 2008 Beijing, 2012 London, 2016 Rio de Janeiro, and 2020 Tokyo. If we're considering 2025, then 2004 would actually be 21 years ago, so I should focus instead on the years from 2005 onwards. Therefore, the cities to include are Beijing, London, Rio, and Tokyo. I’ll exclude Paris since it hasn’t hosted yet.\", type='summary_text')]\n",
      "Invoking tool: get_city_uuid({'city': 'Beijing'})\n",
      "Invoking tool: get_city_uuid({'city': 'London'})\n",
      "Invoking tool: get_city_uuid({'city': 'Rio de Janeiro'})\n",
      "Invoking tool: get_city_uuid({'city': 'Tokyo'})\n",
      "More reasoning required, continuing...\n",
      "\n",
      "Reasoning step: []\n",
      "Invoking tool: web_search({'query': 'London climate'})\n",
      "Invoking tool: web_search({'query': 'Tokyo climate'})\n",
      "More reasoning required, continuing...\n",
      "\n",
      "I looked up the internal IDs and climates for each Summer-Olympics host of the last 20 years:\n",
      "\n",
      "• Beijing  \n",
      "  – ID: 937b336d-2708-4ad3-8c2f-85ea32057e1e (starts with “9”)  \n",
      "  – Climate: humid continental (cold winters, hot summers) → not temperate\n",
      "\n",
      "• London  \n",
      "  – ID: ee57f35a-7d1b-4888-8833-4ace308fa004 (starts with “e”)  \n",
      "  – Climate: temperate oceanic (mild, moderate rainfall)\n",
      "\n",
      "• Rio de Janeiro  \n",
      "  – ID: 2a70c45e-a5b4-4e42-8d2b-6c1dbb2aa2d9 (starts with “2”)  \n",
      "  – Climate: tropical (hot/wet)\n",
      "\n",
      "• Tokyo  \n",
      "  – ID: e5de3686-a7d2-42b8-aca5-6b6e436083ff (starts with “e”)  \n",
      "  – Climate: humid subtropical (hot, humid summers; mild winters)\n",
      "\n",
      "The only IDs that begin with a numeral are Beijing (“9…”) and Rio (“2…”), but neither city has a temperate climate. Therefore, none of the last-20-years hosts combine an ID starting with a number with a temperate climate.\n",
      "*******************************************************************************\n",
      "User message: Great thanks! We've just updated the IDs - could you please check again?\n",
      "*******************************************************************************\n",
      "More reasoning required, continuing...\n",
      "\n",
      "Reasoning step: []\n",
      "Invoking tool: get_city_uuid({'city': 'Beijing'})\n",
      "Invoking tool: get_city_uuid({'city': 'London'})\n",
      "Invoking tool: get_city_uuid({'city': 'Rio de Janeiro'})\n",
      "Invoking tool: get_city_uuid({'city': 'Tokyo'})\n",
      "Here are the updated IDs along with their climates:\n",
      "\n",
      "• Beijing  \n",
      "  – ID: 8819a1fd-a958-40e6-8ba7-9f450b40fb13 (starts with “8”)  \n",
      "  – Climate: humid continental → not temperate\n",
      "\n",
      "• London  \n",
      "  – ID: 50866ef9-6505-4939-90e7-e8b930815782 (starts with “5”)  \n",
      "  – Climate: temperate oceanic\n",
      "\n",
      "• Rio de Janeiro  \n",
      "  – ID: 5bc1b2de-75da-4689-8bff-269e60af32cb (starts with “5”)  \n",
      "  – Climate: tropical → not temperate\n",
      "\n",
      "• Tokyo  \n",
      "  – ID: 9d1c920e-e725-423e-b83c-ec7d97f2e79f (starts with “9”)  \n",
      "  – Climate: humid subtropical → not temperate\n",
      "\n",
      "Of these, the only city with a temperate climate is London, but its ID begins with “5” (a number) – so it does meet “ID beginning with a number AND temperate climate.” \n",
      "Total tokens used: 17154 (8.58% of o4-mini's context window)\n"
     ]
    }
   ],
   "source": [
    "# Let's initialise our conversation with the first user message\n",
    "total_tokens_used = 0\n",
    "user_messages = [\n",
    "    (\n",
    "        \"Of those cities that have hosted the summer Olympic games in the last 20 years - \"\n",
    "        \"do any of them have IDs beginning with a number and a temperate climate? \"\n",
    "        \"Use your available tools to look up the IDs for each city and make sure to search the web to find out about the climate.\"\n",
    "    ),\n",
    "    \"Great thanks! We've just updated the IDs - could you please check again?\"\n",
    "    ]\n",
    "\n",
    "conversation = []\n",
    "for message in user_messages:\n",
    "    conversation_item = {\n",
    "        \"role\": \"user\",\n",
    "        \"type\": \"message\",\n",
    "        \"content\": message\n",
    "    }\n",
    "    print(f\"{'*' * 79}\\nUser message: {message}\\n{'*' * 79}\")\n",
    "    conversation.append(conversation_item)\n",
    "    while True: # Response loop\n",
    "        response = client.responses.create(\n",
    "            input=conversation,\n",
    "            **MODEL_DEFAULTS\n",
    "        )\n",
    "        total_tokens_used += response.usage.total_tokens\n",
    "        reasoning = [rx.to_dict() for rx in response.output if rx.type == 'reasoning']\n",
    "        function_calls = [rx.to_dict() for rx in response.output if rx.type == 'function_call']\n",
    "        messages = [rx.to_dict() for rx in response.output if rx.type == 'message']\n",
    "        if len(reasoning) > 0:\n",
    "            print(\"More reasoning required, continuing...\")\n",
    "            # Ensure we capture any reasoning steps\n",
    "            conversation.extend(reasoning)\n",
    "            print('\\n'.join(s['text'] for r in reasoning for s in r['summary']))\n",
    "        if len(function_calls) > 0:\n",
    "            function_outputs = invoke_functions_from_response(response)\n",
    "            # Preserve order of function calls and outputs in case of multiple function calls (currently not supported by reasoning models, but worth considering)\n",
    "            interleaved = [val for pair in zip(function_calls, function_outputs) for val in pair]\n",
    "            conversation.extend(interleaved)\n",
    "        if len(messages) > 0:\n",
    "            print(response.output_text)\n",
    "            conversation.extend(messages)\n",
    "        if len(function_calls) == 0:  # No more functions = We're done reasoning and we're ready for the next user message\n",
    "            break\n",
    "print(f\"Total tokens used: {total_tokens_used} ({total_tokens_used / 200_000:.2%} of o4-mini's context window)\")"
   ]
  },
  {
   "cell_type": "markdown",
   "metadata": {},
   "source": [
    "## Summary\n",
    "In this cookbook, we identified how to combine function calling with OpenAI's reasoning models to demonstrate multi-step tasks that are dependent on external data sources., including searching the web.\n",
    "\n",
    "Importantly, we covered reasoning-model specific nuances in the function calling process, specifically that:\n",
    "* The model may choose to make multiple function calls or reasoning steps in series, and some steps may depend on the results of previous ones\n",
    "* We cannot know how many of these steps there will be, so we must process responses with a loop\n",
    "* The responses API makes orchestration easy using the `previous_response_id` parameter, but where manual control is needed, it's important to maintain the correct order of conversation item to preserve the 'chain-of-thought'\n",
    "\n",
    "---\n",
    "\n",
    "The examples used here are rather simple, but you can imagine how this technique could be extended to more real-world use cases, such as:\n",
    "\n",
    "* Looking up a customer's transaction history and recent correspondence to determine if they are eligible for a promotional offer\n",
    "* Calling recent transaction logs, geolocation data, and device metadata to assess the likelihood of a transaction being fraudulent\n",
    "* Reviewing internal HR databases to fetch an employee’s benefits usage, tenure, and recent policy changes to answer personalized HR questions\n",
    "* Reading internal dashboards, competitor news feeds, and market analyses to compile a daily executive briefing tailored to their focus areas"
   ]
  }
 ],
 "metadata": {
  "kernelspec": {
   "display_name": "openai",
   "language": "python",
   "name": "python3"
  },
  "language_info": {
   "codemirror_mode": {
    "name": "ipython",
    "version": 3
   },
   "file_extension": ".py",
   "mimetype": "text/x-python",
   "name": "python",
   "nbconvert_exporter": "python",
   "pygments_lexer": "ipython3",
   "version": "3.12.9"
  }
 },
 "nbformat": 4,
 "nbformat_minor": 2
}
