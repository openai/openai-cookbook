{
 "cells": [
  {
   "cell_type": "markdown",
   "metadata": {},
   "source": [
    "# Managing Function Calls With Reasoning Models\n",
    "OpenAI now offers function calling using [reasoning models](https://platform.openai.com/docs/guides/reasoning?api-mode=responses). Reasoning models are trained to follow logical chains of thought, making them better suited for complex or multi-step tasks.\n",
    "> _Reasoning models like o3 and o4-mini are LLMs trained with reinforcement learning to perform reasoning. Reasoning models think before they answer, producing a long internal chain of thought before responding to the user. Reasoning models excel in complex problem solving, coding, scientific reasoning, and multi-step planning for agentic workflows. They're also the best models for Codex CLI, our lightweight coding agent._\n",
    "\n",
    "For the most part, using these models via the API is very simple and comparable to using familiar 'chat' models. \n",
    "\n",
    "However, there are some nuances to bear in mind, particularly when it comes to using features such as function calling. \n",
    "\n",
    "All examples in this notebook use the newer [Responses API](https://community.openai.com/t/introducing-the-responses-api/1140929) which provides convenient abstractions for managing conversation state. However the principles here are relevant when using the older chat completions API."
   ]
  },
  {
   "cell_type": "markdown",
   "metadata": {},
   "source": [
    "## Making API calls to reasoning models"
   ]
  },
  {
   "cell_type": "code",
   "execution_count": 1,
   "metadata": {},
   "outputs": [],
   "source": [
    "# pip install openai\n",
    "# Import libraries \n",
    "import json\n",
    "from openai import OpenAI\n",
    "from uuid import uuid4\n",
    "from typing import Callable\n",
    "\n",
    "client = OpenAI()\n",
    "MODEL_DEFAULTS = {\n",
    "    \"model\": \"o4-mini\", # 200,000 token context window\n",
    "    \"reasoning\": {\"effort\": \"low\", \"summary\": \"auto\"}, # Automatically summarise the reasoning process. Can also choose \"detailed\" or \"none\"\n",
    "}"
   ]
  },
  {
   "cell_type": "markdown",
   "metadata": {},
   "source": [
    "Let's make a simple call to a reasoning model using the Responses API.\n",
    "We specify a low reasoning effort and retrieve the response with the helpful `output_text` attribute.\n",
    "We can ask follow up questions and use the `previous_response_id` to let OpenAI manage the conversation history automatically"
   ]
  },
  {
   "cell_type": "code",
   "execution_count": 2,
   "metadata": {},
   "outputs": [
    {
     "name": "stdout",
     "output_type": "stream",
     "text": [
      "Among the last four Summer Olympic host cities (Beijing 2008, London 2012, Rio de Janeiro 2016 and Tokyo 2020), Rio de Janeiro has by far the highest mean annual temperature—around 23 °C, compared with about 16 °C in Tokyo, 13 °C in Beijing and 11 °C in London.\n",
      "Of those four, London has the lowest mean annual temperature, at roughly 11 °C.\n"
     ]
    }
   ],
   "source": [
    "response = client.responses.create(\n",
    "    input=\"Which of the last four Olympic host cities has the highest average temperature?\",\n",
    "    **MODEL_DEFAULTS\n",
    ")\n",
    "print(response.output_text)\n",
    "\n",
    "response = client.responses.create(\n",
    "    input=\"what about the lowest?\",\n",
    "    previous_response_id=response.id,\n",
    "    **MODEL_DEFAULTS\n",
    ")\n",
    "print(response.output_text)"
   ]
  },
  {
   "cell_type": "markdown",
   "metadata": {},
   "source": [
    "Nice and easy!\n",
    "\n",
    "We're asking relatively complex questions that may require the model to reason out a plan and proceed through it in steps, but this reasoning is hidden from us - we simply wait a little longer before being shown the response. \n",
    "\n",
    "However, if we inspect the output we can see that the model has made use of a hidden set of 'reasoning' tokens that were included in the model context window, but not exposed to us as end users.\n",
    "We can see these tokens and a summary of the reasoning (but not the literal tokens used) in the response."
   ]
  },
  {
   "cell_type": "code",
   "execution_count": 3,
   "metadata": {},
   "outputs": [
    {
     "name": "stdout",
     "output_type": "stream",
     "text": [
      "**Determining Olympic cities**\n",
      "\n",
      "The user is asking about the last four Olympic host cities, assuming it’s for the Summer Olympics. Those would be Beijing in 2008, London in 2012, Rio in 2016, and Tokyo in 2020. They’re interested in the lowest average temperature, which I see is London at around 11°C. Beijing is about 13°C, Tokyo 16°C, but London has the lowest. I should clarify it's the mean annual temperature. So, I'll present it neatly that London is the answer.\n"
     ]
    },
    {
     "data": {
      "text/plain": [
       "{'input_tokens': 109,\n",
       " 'input_tokens_details': {'cached_tokens': 0},\n",
       " 'output_tokens': 89,\n",
       " 'output_tokens_details': {'reasoning_tokens': 64},\n",
       " 'total_tokens': 198}"
      ]
     },
     "execution_count": 3,
     "metadata": {},
     "output_type": "execute_result"
    }
   ],
   "source": [
    "print(next(rx for rx in response.output if rx.type == 'reasoning').summary[0].text)\n",
    "response.usage.to_dict()"
   ]
  },
  {
   "cell_type": "markdown",
   "metadata": {},
   "source": [
    "It is important to know about these reasoning tokens, because it means we will consume our available context window more quickly than with traditional chat models.\n",
    "\n",
    "## Calling custom functions\n",
    "What happens if we ask the model a complex request that also requires the use of custom tools?\n",
    "* Let's imagine we have more questions about Olympic Cities, but we also have an internal database that contains IDs for each city.\n",
    "* It's possible that the model will need to invoke our tool partway through its reasoning process before returning a result.\n",
    "* Let's make a function that produces a random UUID and ask the model to reason about these UUIDs. \n"
   ]
  },
  {
   "cell_type": "code",
   "execution_count": 4,
   "metadata": {},
   "outputs": [
    {
     "name": "stdout",
     "output_type": "stream",
     "text": [
      "\n"
     ]
    }
   ],
   "source": [
    "\n",
    "def get_city_uuid(city: str) -> str:\n",
    "    \"\"\"Just a fake tool to return a fake UUID\"\"\"\n",
    "    uuid = str(uuid4())\n",
    "    return f\"{city} ID: {uuid}\"\n",
    "\n",
    "# The tool schema that we will pass to the model\n",
    "tools = [\n",
    "    {\n",
    "        \"type\": \"function\",\n",
    "        \"name\": \"get_city_uuid\",\n",
    "        \"description\": \"Retrieve the internal ID for a city from the internal database. Only invoke this function if the user needs to know the internal ID for a city.\",\n",
    "        \"parameters\": {\n",
    "            \"type\": \"object\",\n",
    "            \"properties\": {\n",
    "                \"city\": {\"type\": \"string\", \"description\": \"The name of the city to get information about\"}\n",
    "            },\n",
    "            \"required\": [\"city\"]\n",
    "        }\n",
    "    }\n",
    "]\n",
    "\n",
    "# This is a general practice - we need a mapping of the tool names we tell the model about, and the functions that implement them.\n",
    "tool_mapping = {\n",
    "    \"get_city_uuid\": get_city_uuid\n",
    "}\n",
    "\n",
    "# Let's add this to our defaults so we don't have to pass it every time\n",
    "MODEL_DEFAULTS[\"tools\"] = tools\n",
    "\n",
    "response = client.responses.create(\n",
    "    input=\"What's the internal ID for the lowest-temperature city?\",\n",
    "    previous_response_id=response.id,\n",
    "    **MODEL_DEFAULTS)\n",
    "print(response.output_text)\n"
   ]
  },
  {
   "cell_type": "markdown",
   "metadata": {},
   "source": [
    "We didn't get an `output_text` this time. Let's look at the response output"
   ]
  },
  {
   "cell_type": "code",
   "execution_count": 5,
   "metadata": {},
   "outputs": [
    {
     "data": {
      "text/plain": [
       "[ResponseReasoningItem(id='rs_680bcde645a08191bbb8b42ba4613aef07423969e3977116', summary=[], type='reasoning', status=None),\n",
       " ResponseFunctionToolCall(arguments='{\"city\":\"London\"}', call_id='call_VcyIJQnP7HW2gge7Nh8HmPNG', name='get_city_uuid', type='function_call', id='fc_680bcde7cda48191ada496d462ca7c5407423969e3977116', status='completed')]"
      ]
     },
     "execution_count": 5,
     "metadata": {},
     "output_type": "execute_result"
    }
   ],
   "source": [
    "response.output"
   ]
  },
  {
   "cell_type": "markdown",
   "metadata": {},
   "source": [
    "Along with the reasoning step, the model has successfully identified the need for a tool call and passed back instructions to send to our function call. \n",
    "\n",
    "Let's invoke the function and send the results to the model so it can continue reasoning.\n",
    "Function responses are a special kind of message, so we need to structure our next message as a special kind of input:\n",
    "```json\n",
    "{\n",
    "    \"type\": \"function_call_output\",\n",
    "    \"call_id\": function_call.call_id,\n",
    "    \"output\": tool_output\n",
    "}\n",
    "```"
   ]
  },
  {
   "cell_type": "code",
   "execution_count": 6,
   "metadata": {},
   "outputs": [],
   "source": [
    "# Extract the function call(s) from the response\n",
    "new_conversation_items = []\n",
    "function_calls = [rx for rx in response.output if rx.type == 'function_call']\n",
    "for function_call in function_calls:\n",
    "    target_tool = tool_mapping.get(function_call.name)\n",
    "    if not target_tool:\n",
    "        raise ValueError(f\"No tool found for function call: {function_call.name}\")\n",
    "    arguments = json.loads(function_call.arguments) # Load the arguments as a dictionary\n",
    "    tool_output = target_tool(**arguments) # Invoke the tool with the arguments\n",
    "    new_conversation_items.append({\n",
    "        \"type\": \"function_call_output\",\n",
    "        \"call_id\": function_call.call_id, # We map the call_id back to the original function call\n",
    "        \"output\": tool_output\n",
    "    })"
   ]
  },
  {
   "cell_type": "code",
   "execution_count": 7,
   "metadata": {},
   "outputs": [
    {
     "name": "stdout",
     "output_type": "stream",
     "text": [
      "The internal ID for London is ce863d03-9c01-4de2-9af8-96b123852aec.\n"
     ]
    }
   ],
   "source": [
    "response = client.responses.create(\n",
    "    input=new_conversation_items,\n",
    "    previous_response_id=response.id,\n",
    "    **MODEL_DEFAULTS\n",
    ")\n",
    "print(response.output_text)\n"
   ]
  },
  {
   "cell_type": "markdown",
   "metadata": {},
   "source": [
    "This works great here - as we know that a single function call is all that is required for the model to respond - but we also need to account for situations where multiple tool calls might need to be executed for the reasoning to complete.\n",
    "\n",
    "## Executing multiple functions in series\n",
    "\n",
    "Some OpenAI models support the parameter `parallel_tool_calls` which allows the model to return an array of functions which we can then execute in parallel. However, reasoning models may produce a sequence of function calls that must be made in series, particularly as some steps may depend on the results of previous ones.\n",
    "As such, we ought to define a general pattern which we can use to handle arbitrarily complex reasoning workflows:\n",
    "* At each step in the conversation, initialise a loop\n",
    "* If the response contains function calls, we must assume the reasoning is ongoing and we should feed the function results (and any intermediate reasoning) back into the model for further inference\n",
    "* If there are no function calls and we instead receive a Reponse.output with a type of 'message', we can safely assume the agent has finished reasoning and we can break out of the loop"
   ]
  },
  {
   "cell_type": "code",
   "execution_count": 8,
   "metadata": {},
   "outputs": [],
   "source": [
    "# Let's wrap our logic above into a function which we can use to invoke tool calls.\n",
    "def invoke_functions_from_response(response,\n",
    "                                   tool_mapping: dict[str, Callable] = tool_mapping\n",
    "                                   ) -> list[dict]:\n",
    "    \"\"\"Extract all function calls from the response, look up the corresponding tool function(s) and execute them.\n",
    "    (This would be a good place to handle asynchroneous tool calls, or ones that take a while to execute.)\n",
    "    This returns a list of messages to be added to the conversation history.\n",
    "    \"\"\"\n",
    "    intermediate_messages = []\n",
    "    for response_item in response.output:\n",
    "        if response_item.type == 'function_call':\n",
    "            target_tool = tool_mapping.get(response_item.name)\n",
    "            if target_tool:\n",
    "                try:\n",
    "                    arguments = json.loads(response_item.arguments)\n",
    "                    print(f\"Invoking tool: {response_item.name}({arguments})\")\n",
    "                    tool_output = target_tool(**arguments)\n",
    "                    intermediate_messages.append({\n",
    "                        \"type\": \"function_call_output\",\n",
    "                        \"call_id\": response_item.call_id,\n",
    "                        \"output\": tool_output\n",
    "                    })\n",
    "                except Exception as e:\n",
    "                    tool_output = f\"Error executing function call: {function_call.name}: {e}\"\n",
    "            else:\n",
    "                print(f\"ERROR - No tool registered for function call: {function_call.name}\")\n",
    "    return intermediate_messages"
   ]
  },
  {
   "cell_type": "markdown",
   "metadata": {},
   "source": [
    "Now let's demonstrate the loop concept we discussed before."
   ]
  },
  {
   "cell_type": "code",
   "execution_count": 9,
   "metadata": {},
   "outputs": [
    {
     "name": "stdout",
     "output_type": "stream",
     "text": [
      "Invoking tool: get_city_uuid({'city': 'Turin'})\n",
      "More reasoning required, continuing...\n",
      "Invoking tool: get_city_uuid({'city': 'Beijing'})\n",
      "More reasoning required, continuing...\n",
      "Invoking tool: get_city_uuid({'city': 'Vancouver'})\n",
      "More reasoning required, continuing...\n",
      "Invoking tool: get_city_uuid({'city': 'London'})\n",
      "More reasoning required, continuing...\n",
      "Invoking tool: get_city_uuid({'city': 'Sochi'})\n",
      "More reasoning required, continuing...\n",
      "Invoking tool: get_city_uuid({'city': 'Rio de Janeiro'})\n",
      "More reasoning required, continuing...\n",
      "Invoking tool: get_city_uuid({'city': 'Pyeongchang'})\n",
      "More reasoning required, continuing...\n",
      "Invoking tool: get_city_uuid({'city': 'Tokyo'})\n",
      "More reasoning required, continuing...\n",
      "Invoking tool: get_city_uuid({'city': 'Paris'})\n",
      "More reasoning required, continuing...\n",
      "Here are the internal IDs for the cities that have hosted the Olympics in the last 20 years:\n",
      "\n",
      "• Turin: 53c0e635-7a1c-478b-84ca-742a6f0df830  \n",
      "• Beijing: 2c48757a-a1ed-48e7-897f-9edecf4909b5  \n",
      "• Vancouver: cc8be1f1-5154-46f4-8879-451e97f771c7  \n",
      "• London: a24addb0-4dd4-444c-a4a9-199612e0aca8  \n",
      "• Sochi: da7386b3-2283-45cc-9244-c1e0f4121782  \n",
      "• Rio de Janeiro: 01f60ec2-0efd-40b8-bb85-e63c2d2ddf4c  \n",
      "• Pyeongchang: f5d3687a-0097-4551-800c-aec66c37e8db  \n",
      "• Tokyo: 15aa0b12-7f7c-43d0-9ba3-b91250cafe48  \n",
      "• Paris: 56d062f2-8835-4707-a826-5d68d8be9d3f  \n",
      "\n",
      "Of these, the only city whose ID begins with “2” is:\n",
      "• Beijing: 2c48757a-a1ed-48e7-897f-9edecf4909b5\n"
     ]
    }
   ],
   "source": [
    "initial_question = \"What are the internal IDs for the cities that have hosted the Olympics in the last 20 years, and which cities have IDs beginning with the number '2'. Use your internal tools to look up the IDs?\"\n",
    "\n",
    "# We fetch a response and then kick off a loop to handle the response\n",
    "response = client.responses.create(\n",
    "    input=initial_question,\n",
    "    **MODEL_DEFAULTS,\n",
    ")\n",
    "while True:   \n",
    "    function_responses = invoke_functions_from_response(response)\n",
    "    messages = [rx.to_dict() for rx in response.output if rx.type == 'message']\n",
    "    if len(function_responses) == 0: # We're done reasoning\n",
    "        print(response.output_text)\n",
    "        break\n",
    "    else:\n",
    "        print(\"More reasoning required, continuing...\")\n",
    "        response = client.responses.create(\n",
    "            input=function_responses,\n",
    "            previous_response_id=response.id,\n",
    "            **MODEL_DEFAULTS\n",
    "        )"
   ]
  },
  {
   "cell_type": "markdown",
   "metadata": {},
   "source": [
    "## Manual conversation orchestration\n",
    "So far so good! It's really cool to watch the model pause execution to run a function before continuing. \n",
    "In practice the example above is quite trivial, and production use cases may be much more complex:\n",
    "* Our context window may grow too large and we may wish to prune older and less relevant messages, or summarize the conversation so far\n",
    "* We may wish to allow users to navigate back and forth through the conversation and re-generate answers\n",
    "* We may wish to store messages in our own database for audit purposes rather than relying on OpenAI's storage and orchestration\n",
    "* etc.\n",
    "\n",
    "In these situations we may wish to take full control of the conversation. Rather than using `previous_message_id` we can instead treat the API as 'stateless' and make and maintain an array of conversation items that we send to the model as input each time.\n",
    "\n",
    "This poses some Reasoning model specific nuances to consider. \n",
    "* In particular, it is essential that we preserve any reasoning and function call responses in our conversation history.\n",
    "* This is how the model keeps track of what chain-of-thought steps it has run through. The API will error if these are not included.\n",
    "\n",
    "Let's run through the example above again, orchestrating the messages ourselves and tracking token usage.\n",
    "\n",
    "---\n",
    "*Note that the code below is structured for readibility - in practice you may wish to consider a more sophisticated workflow to handle edge cases*"
   ]
  },
  {
   "cell_type": "code",
   "execution_count": 10,
   "metadata": {},
   "outputs": [
    {
     "name": "stdout",
     "output_type": "stream",
     "text": [
      "*******************************************************************************\n",
      "User message: Of those cities that have hosted the summer Olympic games in the last 20 years - do any of them have IDs beginning with a prime number? Use your available tools to look up the IDs for each city.\n",
      "*******************************************************************************\n",
      "More reasoning required, continuing...\n",
      "\n",
      "Invoking tool: get_city_uuid({'city': 'Beijing'})\n",
      "Invoking tool: get_city_uuid({'city': 'London'})\n",
      "Invoking tool: get_city_uuid({'city': 'Rio de Janeiro'})\n",
      "Invoking tool: get_city_uuid({'city': 'Tokyo'})\n",
      "Invoking tool: get_city_uuid({'city': 'Paris'})\n",
      "More reasoning required, continuing...\n",
      "\n",
      "Here are the UUIDs for each Summer Olympic host city since 2005, with the leading numeric prefix highlighted and assessed for primality:\n",
      "\n",
      "• Beijing (2008): 11ab370c-2f59-4c35-b557-f845e22c847b  \n",
      "  – Leading digits “11” → 11 is prime  \n",
      "• London (2012): 0fdff00b-cbfb-4b82-bdd8-2107c4100319  \n",
      "  – Leading digit “0” → 0 is not prime  \n",
      "• Rio de Janeiro (2016): 9c2202c4-00ab-46ee-a954-a17505e32d64  \n",
      "  – Leading digit “9” → 9 is not prime  \n",
      "• Tokyo (2020): c4bf0281-7e84-4489-88e4-750e07211334  \n",
      "  – No leading digit → N/A  \n",
      "• Paris (2024): b8c4b88e-dece-435d-b398-94f0ff762c88  \n",
      "  – No leading digit → N/A  \n",
      "\n",
      "Conclusion: Only Beijing’s ID begins with a prime number (“11”).\n",
      "*******************************************************************************\n",
      "User message: Great thanks! We've just updated the IDs - could you please check again?\n",
      "*******************************************************************************\n",
      "More reasoning required, continuing...\n",
      "\n",
      "Invoking tool: get_city_uuid({'city': 'Beijing'})\n",
      "Invoking tool: get_city_uuid({'city': 'London'})\n",
      "Invoking tool: get_city_uuid({'city': 'Rio de Janeiro'})\n",
      "Invoking tool: get_city_uuid({'city': 'Tokyo'})\n",
      "Invoking tool: get_city_uuid({'city': 'Paris'})\n",
      "Here are the updated UUIDs and their leading numeric prefixes:\n",
      "\n",
      "• Beijing (2008): 30b0886f-c4da-431c-8983-33e8bbb4c352  \n",
      "  – Leading “30” → 30 is not prime  \n",
      "• London (2012): 72ff5a9d-d147-4ba8-9a87-64e3572ba3bc  \n",
      "  – Leading “72” → 72 is not prime  \n",
      "• Rio de Janeiro (2016): 7a45a392-b43a-41be-8eaf-07ec44d42a2b  \n",
      "  – Leading “7” → 7 is prime  \n",
      "• Tokyo (2020): f725244f-079f-44e1-a91c-5c31c270c209  \n",
      "  – Leading “f” → no numeric prefix  \n",
      "• Paris (2024): b0230ad4-bc35-48be-a198-65a9aaf28fb5  \n",
      "  – Leading “b” → no numeric prefix  \n",
      "\n",
      "Conclusion: After the update, only Rio de Janeiro’s ID begins with a prime number (“7”).\n",
      "Total tokens used: 9734 (4.87% of o4-mini's context window)\n"
     ]
    }
   ],
   "source": [
    "# Let's initialise our conversation with the first user message\n",
    "total_tokens_used = 0\n",
    "user_messages = [\n",
    "    \"Of those cities that have hosted the summer Olympic games in the last 20 years - do any of them have IDs beginning with a prime number? Use your available tools to look up the IDs for each city.\",\n",
    "    \"Great thanks! We've just updated the IDs - could you please check again?\"\n",
    "    ]\n",
    "\n",
    "conversation = []\n",
    "for message in user_messages:\n",
    "    conversation_item = {\n",
    "        \"role\": \"user\",\n",
    "        \"type\": \"message\",\n",
    "        \"content\": message\n",
    "    }\n",
    "    print(f\"{'*' * 79}\\nUser message: {message}\\n{'*' * 79}\")\n",
    "    conversation.append(conversation_item)\n",
    "    while True: # Response loop\n",
    "        response = client.responses.create(\n",
    "            input=conversation,\n",
    "            **MODEL_DEFAULTS\n",
    "        )\n",
    "        total_tokens_used += response.usage.total_tokens\n",
    "        reasoning = [rx.to_dict() for rx in response.output if rx.type == 'reasoning']\n",
    "        function_calls = [rx.to_dict() for rx in response.output if rx.type == 'function_call']\n",
    "        messages = [rx.to_dict() for rx in response.output if rx.type == 'message']\n",
    "        if len(reasoning) > 0:\n",
    "            print(\"More reasoning required, continuing...\")\n",
    "            # Ensure we capture any reasoning steps\n",
    "            conversation.extend(reasoning)\n",
    "            print('\\n'.join(s['text'] for r in reasoning for s in r['summary']))\n",
    "        if len(function_calls) > 0:\n",
    "            function_outputs = invoke_functions_from_response(response)\n",
    "            # Preserve order of function calls and outputs in case of multiple function calls (currently not supported by reasoning models, but worth considering)\n",
    "            interleaved = [val for pair in zip(function_calls, function_outputs) for val in pair]\n",
    "            conversation.extend(interleaved)\n",
    "        if len(messages) > 0:\n",
    "            print(response.output_text)\n",
    "            conversation.extend(messages)\n",
    "        if len(function_calls) == 0:  # No more functions = We're done reasoning and we're ready for the next user message\n",
    "            break\n",
    "print(f\"Total tokens used: {total_tokens_used} ({total_tokens_used / 200_000:.2%} of o4-mini's context window)\")"
   ]
  },
  {
   "cell_type": "markdown",
   "metadata": {},
   "source": [
    "## Summary\n",
    "In this cookbook, we identified how to combine function calling with OpenAI's reasoning models to demonstrate multi-step tasks that are dependent on external data sources. \n",
    "\n",
    "Importantly, we covered reasoning-model specific nuances in the function calling process, specifically that:\n",
    "* The model may choose to make multiple function calls or reasoning steps in series, and some steps may depend on the results of previous ones\n",
    "* We cannot know how many of these steps there will be, so we must process responses with a loop\n",
    "* The responses API makes orchestration easy using the `previous_response_id` parameter, but where manual control is needed, it's important to maintain the correct order of conversation item to preserve the 'chain-of-thought'\n",
    "\n",
    "---\n",
    "\n",
    "The examples used here are rather simple, but you can imagine how this technique could be extended to more real-world use cases, such as:\n",
    "\n",
    "* Looking up a customer's transaction history and recent correspondence to determine if they are eligible for a promotional offer\n",
    "* Calling recent transaction logs, geolocation data, and device metadata to assess the likelihood of a transaction being fraudulent\n",
    "* Reviewing internal HR databases to fetch an employee’s benefits usage, tenure, and recent policy changes to answer personalized HR questions\n",
    "* Reading internal dashboards, competitor news feeds, and market analyses to compile a daily executive briefing tailored to their focus areas"
   ]
  }
 ],
 "metadata": {
  "kernelspec": {
   "display_name": ".venv",
   "language": "python",
   "name": "python3"
  },
  "language_info": {
   "codemirror_mode": {
    "name": "ipython",
    "version": 3
   },
   "file_extension": ".py",
   "mimetype": "text/x-python",
   "name": "python",
   "nbconvert_exporter": "python",
   "pygments_lexer": "ipython3",
   "version": "3.12.9"
  }
 },
 "nbformat": 4,
 "nbformat_minor": 2
}
