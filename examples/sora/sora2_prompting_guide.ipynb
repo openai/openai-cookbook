{
  "cells": [
    {
      "cell_type": "markdown",
      "metadata": {},
      "source": [
        "# Sora 2: Prompting Guide"
      ]
    },
    {
      "cell_type": "markdown",
      "metadata": {},
      "source": [
        "# Crafting a successful video prompt"
      ]
    },
    {
      "cell_type": "markdown",
      "id": "d07e0761",
      "metadata": {},
      "source": [
        "## Before you prompt\n",
        "Think of prompting like briefing a cinematographer who has never seen your storyboard. If you leave out details, they’ll improvise – and you may not get what you envisioned. By being specific about what the “shot” should achieve, you give the model more control and consistency to work with.\n",
        "\n",
        "But leaving some details open can be just as powerful. Giving the model more creative freedom can lead to surprising variations and unexpected, beautiful interpretations. Both approaches are valid: **detailed prompts give you control and consistency, while lighter prompts open space for creative outcomes.** The right balance depends on your goals and the result you’re aiming for.\n",
        "Treat your prompt as a creative wish list, not a contract. Like with ChatGPT, using **the same prompt multiple times will lead to different results** – this is a feature, not a bug. Each generation is a fresh take, and sometimes the second or third option is better. \n",
        "\n",
        "Most importantly, be prepared to iterate. Small changes to camera, lighting, or action can shift the outcome dramatically. Collaborate with the model: you provide direction, and the model delivers creative variations.\n",
        "\n",
        "This isn’t an exact science—think of the guidance below as helpful suggestions we’ve learned from working with the model.\n"
      ]
    },
    {
      "cell_type": "markdown",
      "id": "97ca4e2e",
      "metadata": {},
      "source": [
        "## API Parameters\n",
        "The prompt controls the content of the video, but certain attributes are governed only by API parameters. You cannot request them in prose, they must be set explicitly in your API call:\n",
        "- **model**: `sora-2` or `sora-2-pro`.\n",
        "- **size**: a string in the form {width}x{height}. Supported resolutions are dependent on the model selection:\n",
        "    - sora-2\n",
        "        - 1280x720, 720x1280\n",
        "    - sora-2-pro\n",
        "        - 1280x720, 720x1280\n",
        "        - 1024x1792, 1792x1024\n",
        "- **seconds**: the clip length, supported values: “4”, “8”, “12”. Default value is “4”.\n",
        "\n",
        "These parameters are the video’s container – resolution, duration, and quality will not change based on prose like “make it longer.” Set them explicitly in the API call; your prompt controls everything else (subject, motion, lighting, style)."
      ]
    },
    {
      "cell_type": "markdown",
      "id": "539e44f9",
      "metadata": {},
      "source": [
        "### Video Resolution\n",
        "Video resolution directly influences visual fidelity and motion consistency in Sora. Higher resolutions generate detail, texture, and lighting transitions more accurately, while lower resolutions compress visual information, often introducing softness or artifacts."
      ]
    },
    {
      "cell_type": "markdown",
      "id": "040df975",
      "metadata": {},
      "source": [
        "### Video Length\n",
        "The model generally follows instructions more reliably in shorter clips. For best results, aim for concise shots. If your project allows, you may see better results by stitching together two 4 second clips in editing instead of generating a single 8 second clip."
      ]
    },
    {
      "cell_type": "markdown",
      "id": "7d879cb4",
      "metadata": {},
      "source": [
        "## Prompt anatomy that works\n",
        "A clear prompt describes a shot as if you were sketching it onto a storyboard. State the camera framing, note depth of field, describe the action in beats, and set the lighting and palette. Anchoring your subject with a few distinctive details keeps it recognizable, while a single, plausible action makes the shot easier to follow.\n",
        "\n",
        "Describing multiple shots in a single prompt is also valid if you need to cover a sequence. When you do this, keep each shot block distinct: one camera setup, one subject action, and one lighting recipe at a time. This gives you flexibility to generate short standalone clips or longer, continuous moments, depending on your project. Treat each shot as a creative unit, and you can either stitch them together in an edit or let them play out as a sequence in one go.\n",
        "\n",
        "- Shorter prompts give the model more creative freedom. Expect surprising results. \n",
        "- Longer, more detailed prompts restrict the model's creativity. It will try to follow your guidance, but might not always do so reliably.\n",
        "\n",
        "Here's an example for a short prompt:\n",
        "```text\n",
        "In a 90s documentary-style interview, an old Swedish man sits in a study and says, \"I still remember when I was young.\"\n",
        "```\n",
        "This prompt will likely work well: \n",
        "- `90s documentary` sets the style of the video. The model will choose variables like camera lens, lighting and color grade accordingly.\n",
        "- `an old Swedish man sits in a study` describes subject and setting in minor detail, letting the model take creative liberties in what the person and setting should look like.\n",
        "- `and says, \"I still remember when I was young.\"` describes the dialogue. Sora will likely be able to follow this exactly.\n",
        "\n",
        "This prompt will reliably produce videos that match these requirements. However, it might not match your vision exactly as many details are left open. For example, the prompt does not describe the time of day, weather, outfits, tone, look and age of the character, camera angles, cuts, set design and many other factors. Unless you describe these details, Sora will make them up."
      ]
    },
    {
      "cell_type": "markdown",
      "id": "009d734f",
      "metadata": {},
      "source": [
        "### Going Ultra-Detailed\n",
        "For complex, cinematic shots, you can go beyond the standard prompt structure and specify the look, camera setup, grading, soundscape, and even shot rationale in professional production terms. This is similar to how a director briefs a camera crew or VFX team. Detailed cues for lensing, filtration, lighting, grading, and motion help the model lock onto a very specific aesthetic.\n",
        "\n",
        "For example, you might describe **what the viewer notices first**, the **camera platform and lens**, **lighting direction**, **color palette**, **texture qualities**, **diegetic sound**, and **shot timing**. This approach works well when you want to match real cinematography styles (e.g., IMAX aerials, 35mm handheld, vintage 16mm documentary) or maintain strict continuity across shots.\n",
        "\n",
        "#### Example"
      ]
    },
    {
      "cell_type": "code",
      "execution_count": null,
      "id": "23ab46e0",
      "metadata": {
        "vscode": {
          "languageId": "plaintext"
        }
      },
      "outputs": [],
      "source": [
        "Format & Look\n",
        "Duration 4s; 180° shutter; digital capture emulating 65 mm photochemical contrast; fine grain; subtle halation on speculars; no gate weave.\n",
        "\n",
        "Lenses & Filtration\n",
        "32 mm / 50 mm spherical primes; Black Pro-Mist 1/4; slight CPL rotation to manage glass reflections on train windows.\n",
        "\n",
        "Grade / Palette\n",
        "Highlights: clean morning sunlight with amber lift.\n",
        "Mids: balanced neutrals with slight teal cast in shadows.\n",
        "Blacks: soft, neutral with mild lift for haze retention.\n",
        "\n",
        "Lighting & Atmosphere\n",
        "Natural sunlight from camera left, low angle (07:30 AM).\n",
        "Bounce: 4×4 ultrabounce silver from trackside.\n",
        "Negative fill from opposite wall.\n",
        "Practical: sodium platform lights on dim fade.\n",
        "Atmos: gentle mist; train exhaust drift through light beam.\n",
        "\n",
        "Location & Framing\n",
        "Urban commuter platform, dawn.\n",
        "Foreground: yellow safety line, coffee cup on bench.\n",
        "Midground: waiting passengers silhouetted in haze.\n",
        "Background: arriving train braking to a stop.\n",
        "Avoid signage or corporate branding.\n",
        "\n",
        "Wardrobe / Props / Extras\n",
        "Main subject: mid-30s traveler, navy coat, backpack slung on one shoulder, holding phone loosely at side.\n",
        "Extras: commuters in muted tones; one cyclist pushing bike.\n",
        "Props: paper coffee cup, rolling luggage, LED departure board (generic destinations).\n",
        "\n",
        "Sound\n",
        "Diegetic only: faint rail screech, train brakes hiss, distant announcement muffled (-20 LUFS), low ambient hum.\n",
        "Footsteps and paper rustle; no score or added foley.\n",
        "\n",
        "Optimized Shot List (2 shots / 4 s total)\n",
        "\n",
        "0.00–2.40 — “Arrival Drift” (32 mm, shoulder-mounted slow dolly left)\n",
        "Camera slides past platform signage edge; shallow focus reveals traveler mid-frame looking down tracks. Morning light blooms across lens; train headlights flare softly through mist. Purpose: establish setting and tone, hint anticipation.\n",
        "\n",
        "2.40–4.00 — “Turn and Pause” (50 mm, slow arc in)\n",
        "Cut to tighter over-shoulder arc as train halts; traveler turns slightly toward camera, catching sunlight rim across cheek and phone screen reflection. Eyes flick up toward something unseen. Purpose: create human focal moment with minimal motion.\n",
        "\n",
        "Camera Notes (Why It Reads)\n",
        "Keep eyeline low and close to lens axis for intimacy.\n",
        "Allow micro flares from train glass as aesthetic texture.\n",
        "Preserve subtle handheld imperfection for realism.\n",
        "Do not break silhouette clarity with overexposed flare; retain skin highlight roll-off.\n",
        "\n",
        "Finishing\n",
        "Fine-grain overlay with mild chroma noise for realism; restrained halation on practicals; warm-cool LUT for morning split tone.\n",
        "Mix: prioritize train and ambient detail over footstep transients.\n",
        "Poster frame: traveler mid-turn, golden rim light, arriving train soft-focus in background haze."
      ]
    },
    {
      "cell_type": "markdown",
      "id": "44eda6dd",
      "metadata": {},
      "source": [
        "## Visual cues that steer the look\n",
        "When writing prompts, **style is one of the most powerful levers for guiding the model** toward your desired outcome. Describing the overall aesthetic – for example, *“1970s film,”* *“epic, IMAX-scale scene,”* or *“16mm black-and-white film”* – sets a visual tone that frames all other choices. Establish this style early so the model can carry it through consistently.\n",
        "\n",
        "The same details will read very differently depending on whether you call for a polished Hollywood drama, a handheld smartphone clip, or a grainy vintage commercial. Once the tone is set, layer in specifics with shot, action, and light.\n",
        "\n",
        "Clarity wins. Instead of vague cues like *“a beautiful street,”* write *“wet asphalt, zebra crosswalk, neon sign reflection.”* Instead of *“moves quickly,”* specify *“jogs three steps and stops at the curb.”* Verbs and nouns that point to visible results will always give you a clearer, more consistent output.\n",
        "\n",
        "| **Weak prompt** | **Strong prompt** |\n",
        "| --- | --- |\n",
        "| “A beautiful street at night” | “Wet asphalt, zebra crosswalk, neon signs reflecting in puddles” |\n",
        "| “Person moves quickly” | “Cyclist pedals three times, brakes, and stops at crosswalk” |\n",
        "| “Cinematic look” | “Anamorphic 2.0x lens, shallow DOF, volumetric light” |\n",
        "\n",
        "Camera direction and framing shape how a shot feels. A wide shot from above will emphasize space and context, while a close-up at eye level will focus attention on emotion. Depth of field adds another layer: shallow focus can make a subject stand out against a blurred background, while deep focus keeps both foreground and background sharp. Lighting sets tone just as strongly. A soft, warm key creates something inviting, while a single hard light with cool edges pushes toward drama.\n",
        "\n",
        "When introducing characters, expect some unpredictability—small changes in phrasing can alter identity, pose, or the focus of the scene itself. Keep descriptions consistent across shots, reuse phrasing for continuity, and avoid mixing traits that may compete.\n",
        "\n",
        "**Weak**\n",
        "\n",
        "```text\n",
        "Camera shot: cinematic look\n",
        "```\n",
        "\n",
        "**Strong**\n",
        "```text\n",
        "Camera shot: wide shot, low angle\n",
        "Depth of field: shallow (sharp on subject, blurred background)\n",
        "Lighting + palette: warm backlight with soft rim\n",
        "```\n",
        "\n",
        "Some examples for good framing instructions:\n",
        "- wide establishing shot, eye level \n",
        "- wide shot, tracking left to right with the charge\n",
        "- aerial wide shot, slight downward angle\n",
        "- medium close-up shot, slight angle from behind\n",
        "\n",
        "Some examples for good camera motion instructions:\n",
        "- slowly tilting camera\n",
        "- handheld eng camera"
      ]
    },
    {
      "cell_type": "markdown",
      "id": "ec75c8df",
      "metadata": {},
      "source": [
        "## Control motion and timing\n",
        "Movement is often the hardest part to get right, so keep it simple. Each shot should have one clear camera move and one clear subject action. Actions work best when described in beats or counts – small steps, gestures, or pauses – so they feel grounded in time.\n",
        "\n",
        "“Actor walks across the room” doesn’t give much to work with. A line like “Actor takes four steps to the window, pauses, and pulls the curtain in the final second” makes the timing precise and achievable.\n",
        "\n",
        "**Weak**\n",
        "```text\n",
        "Actor walks across the room.\n",
        "```\n",
        "\n",
        "**Strong**\n",
        "```text\n",
        "Actor takes four steps to the window, pauses, and pulls the curtain in the final second.\n",
        "```"
      ]
    },
    {
      "cell_type": "markdown",
      "id": "0e005a3d",
      "metadata": {},
      "source": [
        "## Lighting and color consistency\n",
        "Light determines mood as much as action or setting. Diffuse light across the frame feels calm and neutral, while a single strong source creates sharp contrast and tension. When you want to cut multiple clips together, keeping lighting logic consistent is what makes the edit seamless.\n",
        "\n",
        "Describe both the quality of the light and the color anchors that reinforce it. Instead of a broad note like “brightly lit room,” specify the mix of sources and tones: “soft window light with a warm lamp fill and a cool edge from the hallway.” Naming three to five colors helps keep the palette stable across shots.\n",
        "\n",
        "**Weak**\n",
        "```text\n",
        "Lighting + palette: brightly lit room\n",
        "```\n",
        "\n",
        "**Strong**\n",
        "```text\n",
        "Lighting + palette: soft window light with warm lamp fill, cool rim from hallway \n",
        "Palette anchors: amber, cream, walnut brown\n",
        "```"
      ]
    },
    {
      "cell_type": "markdown",
      "id": "b1b8ef38",
      "metadata": {},
      "source": [
        "## Use image input for more control\n",
        "For even more fine-grained control over the **composition and style** of a shot, you can use an **image input** as a visual reference. You can use photos, digital artwork or AI generated visuals. This locks in elements like character design, wardrobe, set dressing, or overall aesthetic. The model uses the image as an anchor for the first frame, while your text prompt defines what happens next.\n",
        "\n",
        "**How to use it**\n",
        "\n",
        "Include an image file as the input_reference parameter in your POST /videos request.\n",
        "- The image must match the target video’s resolution (size).\n",
        "- Supported file formats are: `image/jpeg`, `image/png`, and `image/webp`.\n"
      ]
    },
    {
      "cell_type": "markdown",
      "id": "c04620d4",
      "metadata": {},
      "source": [
        "\n",
        "| Input image generated with [OpenAI GPT Image](https://platform.openai.com/docs/guides/image-generation) | Generated video using Sora 2 (converted to GIF) |\n",
        "| :--: | :--: |\n",
        "| ![](https://cdn.openai.com/API/docs/images/sora/sora_woman_skyline_original_2.jpeg)<p><small>[Download this image](https://cdn.openai.com/API/docs/images/sora/woman_skyline_original_720p.jpeg)</small></p> | ![](https://cdn.openai.com/API/docs/images/sora/sora_woman_skyline_video.gif)<p><small>Prompt: _“She turns around and smiles, then slowly walks out of the frame.”_</small></p> |\n",
        "| ![](https://cdn.openai.com/API/docs/images/sora/sora_monster_original_2.jpeg)<p><small>[Download this image](https://cdn.openai.com/API/docs/images/sora/monster_original_720p.jpeg)</small></p> | ![](https://cdn.openai.com/API/docs/images/sora/sora_monster_original.gif) <p><small>Prompt: _“The fridge door opens. A cute, chubby purple monster comes out of it.”_</small></p> |\n",
        "\n",
        "### Experimentation tip\n",
        "\n",
        "If you don’t already have visual references, [OpenAI’s image generation model](https://platform.openai.com/docs/guides/image-generation) is a powerful way to create them.  You can quickly produce environments and scene designs and then pass them into Sora as references. This is a great way to test aesthetics and generate beautiful starting points for your videos."
      ]
    },
    {
      "cell_type": "markdown",
      "id": "d7af0b8a",
      "metadata": {},
      "source": [
        "## Dialogue and Audio\n",
        "Dialogue must be described directly in your prompt. Place it in a <dialogue> block below your prose description so the model clearly distinguishes visual description from spoken lines. Keep lines concise and natural, and try to limit exchanges to a handful of sentences so the timing can match your clip length. For multi-character scenes, label speakers consistently and use alternating turns; this helps the model associate each line with the correct character’s gestures and expressions.\n",
        "\n",
        "You should also think about rhythm and timing: a 4-second shot will usually accommodate one or two short exchanges, while an 8-second clip can support a few more. Long, complex speeches are unlikely to sync well and may break pacing.\n",
        "\n",
        "If your shot is silent, you can still suggest pacing with one small sound, such as “distant traffic hiss” or “a crisp snap.” Think of it as a rhythm cue rather than a full soundtrack.\n",
        "\n",
        "Example prompt with dialogue:\n",
        "\n",
        "```text\n",
        "A cramped, windowless room with walls the color of old ash. A single bare bulb dangles from the ceiling, its light pooling onto the scarred metal table at the center. Two chairs face each other across it. On one side sits the Detective, trench coat draped across the back of his chair, eyes sharp and unblinking. Across from him, the Suspect slouches, cigarette smoke curling lazily toward the ceiling. The silence presses in, broken only by the faint hum of the overhead light.\n",
        "\n",
        "Dialogue:\n",
        "- Detective: \"You’re lying. I can hear it in your silence.\"\n",
        "- Suspect: \"Or maybe I’m just tired of talking.\"\n",
        "- Detective: \"Either way, you’ll talk before the night’s over.\"\n",
        "```\n",
        "\n",
        "Example description of background sound:\n",
        "\n",
        "```text\n",
        "The hum of espresso machines and the murmur of voices form the background.\n",
        "```"
      ]
    },
    {
      "cell_type": "markdown",
      "id": "a54a3522",
      "metadata": {},
      "source": [
        "## Iterate with the remix functionality\n",
        "Remix is for nudging, not gambling. Use it to make controlled changes – one at a time – and say what you’re changing: “same shot, switch to 85 mm,” or “same lighting, new palette: teal, sand, rust.” When a result is close, pin it as a reference and describe only the tweak. That way, everything that already works stays locked.\n",
        "\n",
        "If a shot keeps misfiring, strip it back: freeze the camera, simplify the action, clear the background. Once it works, layer additional complexity step by step.\n",
        "\n",
        "| Original Video | Remix Generated Video |\n",
        "| --- | --- |\n",
        "| ![Original Video 1](https://cdn.openai.com/API/docs/images/sora/sora_monster_original.gif)<p><small>Original Video</small></p> | ![Remixed Video 1](https://cdn.openai.com/API/docs/images/sora/sora_monster_orange.gif)<p><small>_Prompt: “Change the color of the monster to orange”_</small></p> |\n",
        "| ![Original Video 1](https://cdn.openai.com/API/docs/images/sora/sora_monster_original.gif)<p><small>Original Video</small></p> | ![Remixed Video 2](https://cdn.openai.com/API/docs/images/sora/sora_monster_2monsters.gif)<p><small>_Prompt: “A second monster comes out right after”_</small></p> |"
      ]
    },
    {
      "cell_type": "markdown",
      "metadata": {},
      "source": [
        "# Prompt Templates and Examples"
      ]
    },
    {
      "cell_type": "markdown",
      "metadata": {},
      "source": [
        "## Prompt Structure\n",
        "One effective way to write prompts is to separate the different kinds of information you want the model to use. This is **not a one-size-fits-all recipe for success**, but it gives you a clear framework and makes it easier to be consistent. Not every detail needs to be included – if something doesn’t matter for the shot, you can leave it out.\n",
        "\n",
        "In fact, **leaving certain elements open-ended will encourage the model to be more creative**. The less tightly you specify every visual choice, the more room the model has to interpret and surprise you with unexpected but often beautiful variations. Highly descriptive prompts yield more consistent, controlled results, while lighter prompts can unlock diverse outcomes that feel fresh and imaginative.\n",
        "Descriptive Prompt Template:\n",
        "\n",
        "```text\n",
        "[Prose scene description in plain language. Describe characters, costumes, scenery, weather and other details. Be as descriptive to generate a video that matches your vision.]\n",
        "\n",
        "Cinematography:\n",
        "Camera shot: [framing and angle, e.g. wide establishing shot, eye level]\n",
        "Mood: [overall tone, e.g. cinematic and tense, playful and suspenseful, luxurious anticipation]\n",
        "\n",
        "Actions:\n",
        "- [Action 1: a clear, specific beat or gesture]\n",
        "- [Action 2: another distinct beat within the clip]\n",
        "- [Action 3: another action or dialogue line]\n",
        "\n",
        "Dialogue:\n",
        "[If the shot has dialogue, add short natural lines here or as part of the actions list. Keep them brief so they match the clip length.]\n",
        "```"
      ]
    },
    {
      "cell_type": "markdown",
      "metadata": {},
      "source": [
        "## Prompt Examples\n",
        "\n",
        "### Example 1\n",
        "```text\n",
        "Style: Hand-painted 2D/3D hybrid animation with soft brush textures, warm tungsten lighting, and a tactile, stop-motion feel. The aesthetic evokes mid-2000s storybook animation — cozy, imperfect, full of mechanical charm. Subtle watercolor wash and painterly textures; warm–cool balance in grade; filmic motion blur for animated realism.\n",
        "\n",
        "Inside a cluttered workshop, shelves overflow with gears, bolts, and yellowing blueprints. At the center, a small round robot sits on a wooden bench, its dented body patched with mismatched plates and old paint layers. Its large glowing eyes flicker pale blue as it fiddles nervously with a humming light bulb. The air hums with quiet mechanical whirs, rain patters on the window, and the clock ticks steadily in the background.\n",
        "\n",
        "Cinematography:\n",
        "Camera: medium close-up, slow push-in with gentle parallax from hanging tools\n",
        "Lens: 35 mm virtual lens; shallow depth of field to soften background clutter\n",
        "Lighting: warm key from overhead practical; cool spill from window for contrast\n",
        "Mood: gentle, whimsical, a touch of suspense\n",
        "\n",
        "Actions:\n",
        "- The robot taps the bulb; sparks crackle.\n",
        "- It flinches, dropping the bulb, eyes widening.\n",
        "- The bulb tumbles in slow motion; it catches it just in time.\n",
        "- A puff of steam escapes its chest — relief and pride.\n",
        "- Robot says quietly: \"Almost lost it… but I got it!\"\n",
        "\n",
        "Background Sound:\n",
        "Rain, ticking clock, soft mechanical hum, faint bulb sizzle.\n",
        "```\n",
        "\n",
        "### Example 2\n",
        "```text\n",
        "Style: 1970s romantic drama, shot on 35 mm film with natural flares, soft focus, and warm halation. Slight gate weave and handheld micro-shake evoke vintage intimacy. Warm Kodak-inspired grade; light halation on bulbs; film grain and soft vignette for period authenticity.\n",
        "\n",
        "At golden hour, a brick tenement rooftop transforms into a small stage. Laundry lines strung with white sheets sway in the wind, catching the last rays of sunlight. Strings of mismatched fairy bulbs hum faintly overhead. A young woman in a flowing red silk dress dances barefoot, curls glowing in the fading light. Her partner — sleeves rolled, suspenders loose — claps along, his smile wide and unguarded. Below, the city hums with car horns, subway tremors, and distant laughter.\n",
        "\n",
        "Cinematography:\n",
        "Camera: medium-wide shot, slow dolly-in from eye level\n",
        "Lens: 40 mm spherical; shallow focus to isolate the couple from skyline\n",
        "Lighting: golden natural key with tungsten bounce; edge from fairy bulbs\n",
        "Mood: nostalgic, tender, cinematic\n",
        "\n",
        "Actions:\n",
        "- She spins; her dress flares, catching sunlight.\n",
        "- Woman (laughing): \"See? Even the city dances with us tonight.\"\n",
        "- He steps in, catches her hand, and dips her into shadow.\n",
        "- Man (smiling): \"Only because you lead.\"\n",
        "- Sheets drift across frame, briefly veiling the skyline before parting again.\n",
        "\n",
        "Background Sound:\n",
        "Natural ambience only: faint wind, fabric flutter, street noise, muffled music. No added score.\n",
        "\n",
        "``` "
      ]
    }
  ],
  "metadata": {
    "kernelspec": {
      "display_name": "Python 3",
      "language": "python",
      "name": "python3"
    },
    "language_info": {
      "name": "python",
      "version": "3"
    }
  },
  "nbformat": 4,
  "nbformat_minor": 5
}
